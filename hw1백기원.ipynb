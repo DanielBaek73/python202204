{
  "nbformat": 4,
  "nbformat_minor": 0,
  "metadata": {
    "colab": {
      "name": "hw1백기원.ipynb",
      "provenance": [],
      "authorship_tag": "ABX9TyOurxBRQ5vVgq5IdmiO/OLQ",
      "include_colab_link": true
    },
    "kernelspec": {
      "name": "python3",
      "display_name": "Python 3"
    },
    "language_info": {
      "name": "python"
    }
  },
  "cells": [
    {
      "cell_type": "markdown",
      "metadata": {
        "id": "view-in-github",
        "colab_type": "text"
      },
      "source": [
        "<a href=\"https://colab.research.google.com/github/DanielBaek73/python202204/blob/main/hw1%EB%B0%B1%EA%B8%B0%EC%9B%90.ipynb\" target=\"_parent\"><img src=\"https://colab.research.google.com/assets/colab-badge.svg\" alt=\"Open In Colab\"/></a>"
      ]
    },
    {
      "cell_type": "code",
      "execution_count": null,
      "metadata": {
        "colab": {
          "base_uri": "https://localhost:8080/"
        },
        "id": "zwjoDBiVrgEb",
        "outputId": "d47b39dc-ee64-4920-9f17-a5d5c8208ab4"
      },
      "outputs": [
        {
          "output_type": "stream",
          "name": "stdout",
          "text": [
            "Hello World\n"
          ]
        }
      ],
      "source": [
        "#001\n",
        "print('Hello World')"
      ]
    },
    {
      "cell_type": "code",
      "source": [
        "#002\n",
        "print ('Mary\\'s cosmetics')\n",
        "print (\"Mary's cosmetics\")"
      ],
      "metadata": {
        "colab": {
          "base_uri": "https://localhost:8080/"
        },
        "id": "vC4Knz4Vrvtb",
        "outputId": "3610c2dd-5fc0-4f49-8bc4-842a338007b1"
      },
      "execution_count": null,
      "outputs": [
        {
          "output_type": "stream",
          "name": "stdout",
          "text": [
            "Mary's cosmetics\n"
          ]
        }
      ]
    },
    {
      "cell_type": "code",
      "source": [
        "#003\n",
        "print(f\"신씨가 소리질렀다. \\\"도둑이야\\\".\")"
      ],
      "metadata": {
        "colab": {
          "base_uri": "https://localhost:8080/"
        },
        "id": "o9TYO6Xur6SC",
        "outputId": "246282bc-040f-445f-c6ba-748a1d0214d3"
      },
      "execution_count": null,
      "outputs": [
        {
          "output_type": "stream",
          "name": "stdout",
          "text": [
            "신씨가 소리질렀다. \"도둑이야\".\n"
          ]
        }
      ]
    },
    {
      "cell_type": "code",
      "source": [
        "#004\n",
        "print(f\"\\\"C:\\Windows\\\"\")"
      ],
      "metadata": {
        "colab": {
          "base_uri": "https://localhost:8080/"
        },
        "id": "pACTcPEvv9xo",
        "outputId": "5eae3226-d69e-4a2d-ab0b-dd73e3eb249c"
      },
      "execution_count": 3,
      "outputs": [
        {
          "output_type": "stream",
          "name": "stdout",
          "text": [
            "\"C:\\Windows\"\n"
          ]
        }
      ]
    },
    {
      "cell_type": "code",
      "source": [
        "#005\n",
        "print(\"안녕하세요.\\n 만나서\\t\\t 반갑습니다.\")\n",
        "#\\n : 줄바꿈\n",
        "#t : 탭\n",
        "\n"
      ],
      "metadata": {
        "colab": {
          "base_uri": "https://localhost:8080/"
        },
        "id": "E8AmrRyNwVfH",
        "outputId": "19396a28-a681-4b8b-c673-e5336266ab82"
      },
      "execution_count": 4,
      "outputs": [
        {
          "output_type": "stream",
          "name": "stdout",
          "text": [
            "안녕하세요.\n",
            " 만나서\t\t 반갑습니다.\n"
          ]
        }
      ]
    },
    {
      "cell_type": "code",
      "source": [
        "#006\n",
        "print (\"오늘은\", \"일요일\")"
      ],
      "metadata": {
        "colab": {
          "base_uri": "https://localhost:8080/"
        },
        "id": "PrEsVjayw2VZ",
        "outputId": "35612211-99e0-45c7-8688-fa204a65bef5"
      },
      "execution_count": 5,
      "outputs": [
        {
          "output_type": "stream",
          "name": "stdout",
          "text": [
            "오늘은 일요일\n"
          ]
        }
      ]
    },
    {
      "cell_type": "code",
      "source": [
        "#007\n",
        "print(f'naver;kakao;sk;samsung')"
      ],
      "metadata": {
        "colab": {
          "base_uri": "https://localhost:8080/"
        },
        "id": "ARIJXLEwxBwI",
        "outputId": "459d9f3a-0d49-4142-e2b9-142698357411"
      },
      "execution_count": 7,
      "outputs": [
        {
          "output_type": "stream",
          "name": "stdout",
          "text": [
            "naver;kakao;sk;samsung\n"
          ]
        }
      ]
    },
    {
      "cell_type": "code",
      "source": [
        "#008\n",
        "print(f'naver/kakao/sk/samsung')"
      ],
      "metadata": {
        "colab": {
          "base_uri": "https://localhost:8080/"
        },
        "id": "B46aYwquxQig",
        "outputId": "3fef0957-4d41-44e7-8530-1bfcb2d022e2"
      },
      "execution_count": 8,
      "outputs": [
        {
          "output_type": "stream",
          "name": "stdout",
          "text": [
            "naver/kakao/sk/samsung\n"
          ]
        }
      ]
    },
    {
      "cell_type": "code",
      "source": [
        "#009\n",
        "print(\"first\",end=' ');print(\"second\")"
      ],
      "metadata": {
        "colab": {
          "base_uri": "https://localhost:8080/"
        },
        "id": "u7sIIdDNxdaa",
        "outputId": "b9255a15-c772-40c3-e2b5-e2fd539be482"
      },
      "execution_count": 11,
      "outputs": [
        {
          "output_type": "stream",
          "name": "stdout",
          "text": [
            "first second\n"
          ]
        }
      ]
    },
    {
      "cell_type": "code",
      "source": [
        "#010\n",
        "print(f'5/3의 결과는 {5/3}입니다.')"
      ],
      "metadata": {
        "colab": {
          "base_uri": "https://localhost:8080/"
        },
        "id": "dyCMnzj8x8Ud",
        "outputId": "805fcec8-4564-4de4-f99a-14e10b2abb01"
      },
      "execution_count": 12,
      "outputs": [
        {
          "output_type": "stream",
          "name": "stdout",
          "text": [
            "5/3의 결과는 1.6666666666666667입니다.\n"
          ]
        }
      ]
    },
    {
      "cell_type": "code",
      "source": [
        "#011\n",
        "stock = 50000\n",
        "no = 10\n",
        "print(f'평가금액은 삼성전자 {stock * no}원을 보유하고 있습니다.')"
      ],
      "metadata": {
        "colab": {
          "base_uri": "https://localhost:8080/"
        },
        "id": "5K-WCNYByIjC",
        "outputId": "f6c1eea0-0f26-4daf-b16d-735072f8bf5b"
      },
      "execution_count": 13,
      "outputs": [
        {
          "output_type": "stream",
          "name": "stdout",
          "text": [
            "평가금액은 삼성전자 500000원을 보유하고 있습니다.\n"
          ]
        }
      ]
    },
    {
      "cell_type": "code",
      "source": [
        "#012\n",
        "total =  '298조'\n",
        "cur_won = '50000원'\n",
        "per_value = 15.79\n",
        "\n",
        "print(f\"시가총액은 {total},현재가 {cur_won}, PER {per_value} 입니다.\")"
      ],
      "metadata": {
        "colab": {
          "base_uri": "https://localhost:8080/"
        },
        "id": "PMeS-dj7yfz7",
        "outputId": "65019f42-1dae-4bad-8a54-30c64f770fa0"
      },
      "execution_count": 20,
      "outputs": [
        {
          "output_type": "stream",
          "name": "stdout",
          "text": [
            "시가총액은 298조,현재가 50000원, PER 15.79 입니다.\n"
          ]
        }
      ]
    },
    {
      "cell_type": "code",
      "source": [
        "#013\n",
        "s = \"hello\"\n",
        "t = \"python\"\n",
        "\n",
        "print(f'{s}! {t}')"
      ],
      "metadata": {
        "colab": {
          "base_uri": "https://localhost:8080/"
        },
        "id": "nLlnsy3Qzuhd",
        "outputId": "ea9ff59f-f48c-4584-89ad-ca9e15b2fd59"
      },
      "execution_count": 24,
      "outputs": [
        {
          "output_type": "stream",
          "name": "stdout",
          "text": [
            "hello! python\n"
          ]
        }
      ]
    },
    {
      "cell_type": "code",
      "source": [
        "#014\n",
        "print(f'2+2*3={2+2*3}')"
      ],
      "metadata": {
        "colab": {
          "base_uri": "https://localhost:8080/"
        },
        "id": "K2z6BvSF0Umz",
        "outputId": "515bf0ce-5f21-4a6a-9000-f6457e854d83"
      },
      "execution_count": 25,
      "outputs": [
        {
          "output_type": "stream",
          "name": "stdout",
          "text": [
            "2+2*3=8\n"
          ]
        }
      ]
    },
    {
      "cell_type": "code",
      "source": [
        "#015\n",
        "a=128\n",
        "print(type(a)) #integer\n",
        "\n",
        "a=\"132\"\n",
        "print(type(a))  #string"
      ],
      "metadata": {
        "colab": {
          "base_uri": "https://localhost:8080/"
        },
        "id": "n8ESgCjU0laf",
        "outputId": "d88145e6-8e53-419b-a98f-2636e95ded2e"
      },
      "execution_count": 27,
      "outputs": [
        {
          "output_type": "stream",
          "name": "stdout",
          "text": [
            "<class 'int'>\n",
            "<class 'str'>\n"
          ]
        }
      ]
    },
    {
      "cell_type": "code",
      "source": [
        "#016\n",
        "num_str = int(\"720\")\n",
        "print(type(num_str))"
      ],
      "metadata": {
        "colab": {
          "base_uri": "https://localhost:8080/"
        },
        "id": "8tnvQOLL03LB",
        "outputId": "7ec969c8-60b3-4cc9-cf30-c9971e5f8079"
      },
      "execution_count": 28,
      "outputs": [
        {
          "output_type": "stream",
          "name": "stdout",
          "text": [
            "<class 'int'>\n"
          ]
        }
      ]
    },
    {
      "cell_type": "code",
      "source": [
        "#017\n",
        "num = '100'\n",
        "print(type(num))"
      ],
      "metadata": {
        "colab": {
          "base_uri": "https://localhost:8080/"
        },
        "id": "SYC6cv9y1GTQ",
        "outputId": "279992e9-993e-41f1-c17a-34d36f95bc0c"
      },
      "execution_count": 29,
      "outputs": [
        {
          "output_type": "stream",
          "name": "stdout",
          "text": [
            "<class 'str'>\n"
          ]
        }
      ]
    },
    {
      "cell_type": "code",
      "source": [
        "#018\n",
        "a = float('15.79')\n",
        "print(type(a))"
      ],
      "metadata": {
        "colab": {
          "base_uri": "https://localhost:8080/"
        },
        "id": "2GnviztL1TdJ",
        "outputId": "896a46cb-1cb4-41a2-a3e5-2db5f19fd32f"
      },
      "execution_count": 30,
      "outputs": [
        {
          "output_type": "stream",
          "name": "stdout",
          "text": [
            "<class 'float'>\n"
          ]
        }
      ]
    },
    {
      "cell_type": "code",
      "source": [
        "#019\n",
        "year = int(\"2020\")\n",
        "print(f'{year},{year+1},{year+2}')"
      ],
      "metadata": {
        "colab": {
          "base_uri": "https://localhost:8080/"
        },
        "id": "RYHONQEV1cqz",
        "outputId": "c8186457-ede9-4d29-a7a4-bbcb3b1202e5"
      },
      "execution_count": 31,
      "outputs": [
        {
          "output_type": "stream",
          "name": "stdout",
          "text": [
            "2020,2021,2022\n"
          ]
        }
      ]
    },
    {
      "cell_type": "code",
      "source": [
        "#020\n",
        "mon = 48584\n",
        "mu = 36\n",
        "\n",
        "print(f'에어컨의 구매금액 총합은 {mon * mu}이고 매달 내시는 할부금액은 {mon}원에 할부기간은 {mu} 입니다 ')"
      ],
      "metadata": {
        "colab": {
          "base_uri": "https://localhost:8080/"
        },
        "id": "v8EU-N1310_V",
        "outputId": "acb9ca6b-4451-4e38-e073-075efdd01469"
      },
      "execution_count": 35,
      "outputs": [
        {
          "output_type": "stream",
          "name": "stdout",
          "text": [
            "에어컨의 구매금액 총합은 1749024이고 매달 내시는 할부금액은 48584원에 할부기간은 36 입니다 \n"
          ]
        }
      ]
    }
  ]
}