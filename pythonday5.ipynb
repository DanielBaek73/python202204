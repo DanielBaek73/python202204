{
  "nbformat": 4,
  "nbformat_minor": 0,
  "metadata": {
    "colab": {
      "name": "pythonday5.ipynb",
      "provenance": [],
      "authorship_tag": "ABX9TyMpJ7H6AeCTZxWz+7G3CF9B",
      "include_colab_link": true
    },
    "kernelspec": {
      "name": "python3",
      "display_name": "Python 3"
    },
    "language_info": {
      "name": "python"
    }
  },
  "cells": [
    {
      "cell_type": "markdown",
      "metadata": {
        "id": "view-in-github",
        "colab_type": "text"
      },
      "source": [
        "<a href=\"https://colab.research.google.com/github/DanielBaek73/python202204/blob/main/pythonday5.ipynb\" target=\"_parent\"><img src=\"https://colab.research.google.com/assets/colab-badge.svg\" alt=\"Open In Colab\"/></a>"
      ]
    },
    {
      "cell_type": "code",
      "execution_count": 1,
      "metadata": {
        "colab": {
          "base_uri": "https://localhost:8080/"
        },
        "id": "fZW7NQvsCSTU",
        "outputId": "fc982262-0ee4-4fb2-f626-6c069cbcb38f"
      },
      "outputs": [
        {
          "output_type": "stream",
          "name": "stdout",
          "text": [
            "1\n",
            "2\n",
            "3\n"
          ]
        }
      ],
      "source": [
        "#p116 for문  - 명확한 조건의 경우\n",
        "\n",
        "for n in [1,2,3]: #리스트\n",
        "  print(n)\n"
      ]
    },
    {
      "cell_type": "code",
      "source": [
        "n = 1\n",
        "while n in [1,2,3]:\n",
        "  print(n)\n",
        "  n += 1 "
      ],
      "metadata": {
        "id": "fLJA6dMVLYgC"
      },
      "execution_count": 4,
      "outputs": []
    },
    {
      "cell_type": "code",
      "source": [
        "# 반복 가능 객체 (컬렉션)\n",
        "# 시퀀스 자료형 - 문자열, 리스트, 튜플, range\n",
        "# 비시퀀스 자료형 - 셋, 딕셔너리(순서가 없다)\n",
        "\n",
        "# 시퀀스 자료형 - 문자형\n",
        "for ch in 'Hello':\n",
        "  print(ch)\n",
        "\n"
      ],
      "metadata": {
        "colab": {
          "base_uri": "https://localhost:8080/"
        },
        "id": "gV7iZfM5MjZM",
        "outputId": "619e9ff8-8186-4143-9428-a7b05210310e"
      },
      "execution_count": 5,
      "outputs": [
        {
          "output_type": "stream",
          "name": "stdout",
          "text": [
            "H\n",
            "e\n",
            "l\n",
            "l\n",
            "o\n"
          ]
        }
      ]
    },
    {
      "cell_type": "code",
      "source": [
        "# 시퀀스 자료형 - 리스트\n",
        "\n",
        "for item in ['가위','바위','보']:\n",
        "  print(item)"
      ],
      "metadata": {
        "colab": {
          "base_uri": "https://localhost:8080/"
        },
        "id": "2IVZsW4DLtA-",
        "outputId": "8a9003b9-57e9-4c1f-ae17-6a8882b42093"
      },
      "execution_count": 6,
      "outputs": [
        {
          "output_type": "stream",
          "name": "stdout",
          "text": [
            "가위\n",
            "바위\n",
            "보\n"
          ]
        }
      ]
    },
    {
      "cell_type": "code",
      "source": [
        "# for문과 튜플\n",
        "for season in ('spring','summer','autumn','winter'):\n",
        "  print(season)"
      ],
      "metadata": {
        "colab": {
          "base_uri": "https://localhost:8080/"
        },
        "id": "PCzPU1NFNcCS",
        "outputId": "7a22081b-9e23-4608-bc34-e686163a5d7f"
      },
      "execution_count": 8,
      "outputs": [
        {
          "output_type": "stream",
          "name": "stdout",
          "text": [
            "spring\n",
            "summer\n",
            "autumn\n",
            "winter\n"
          ]
        }
      ]
    },
    {
      "cell_type": "code",
      "source": [
        "# for문과 range() 궁합이 잘맞는다.\n",
        "\n",
        "#range(5) #0부터 5미만 즉,4까지\n",
        "# range(2,10) #2부터 10미만 즉,9까지\n",
        "# print(range)\n",
        "\n",
        "print(list(range(5)))"
      ],
      "metadata": {
        "colab": {
          "base_uri": "https://localhost:8080/"
        },
        "id": "kx9CIFIgN3aN",
        "outputId": "afb5e160-62f0-4f31-eed2-47935b7428f7"
      },
      "execution_count": 10,
      "outputs": [
        {
          "output_type": "stream",
          "name": "stdout",
          "text": [
            "[0, 1, 2, 3, 4]\n"
          ]
        }
      ]
    },
    {
      "cell_type": "code",
      "source": [
        "print(list(range(2,10)))"
      ],
      "metadata": {
        "colab": {
          "base_uri": "https://localhost:8080/"
        },
        "id": "BKckuQpaOkoG",
        "outputId": "018cac7b-2039-4a22-f625-cd5a9490afb9"
      },
      "execution_count": 11,
      "outputs": [
        {
          "output_type": "stream",
          "name": "stdout",
          "text": [
            "[2, 3, 4, 5, 6, 7, 8, 9]\n"
          ]
        }
      ]
    },
    {
      "cell_type": "code",
      "source": [
        "for n in [1,2,3,4,5,6,7,8,9,10]:\n",
        "  print(n)"
      ],
      "metadata": {
        "colab": {
          "base_uri": "https://localhost:8080/"
        },
        "id": "O43Pv4P4OyCD",
        "outputId": "372edd47-e25c-45d5-e862-e2aec2671336"
      },
      "execution_count": 12,
      "outputs": [
        {
          "output_type": "stream",
          "name": "stdout",
          "text": [
            "1\n",
            "2\n",
            "3\n",
            "4\n",
            "5\n",
            "6\n",
            "7\n",
            "8\n",
            "9\n",
            "10\n"
          ]
        }
      ]
    },
    {
      "cell_type": "code",
      "source": [
        "for n in range(1,11):\n",
        "  print(n)"
      ],
      "metadata": {
        "colab": {
          "base_uri": "https://localhost:8080/"
        },
        "id": "_s6_hwsWO-Im",
        "outputId": "2a18b0c0-34c7-424e-b37a-11d09ab876fe"
      },
      "execution_count": 13,
      "outputs": [
        {
          "output_type": "stream",
          "name": "stdout",
          "text": [
            "1\n",
            "2\n",
            "3\n",
            "4\n",
            "5\n",
            "6\n",
            "7\n",
            "8\n",
            "9\n",
            "10\n"
          ]
        }
      ]
    },
    {
      "cell_type": "code",
      "source": [
        "#for문과 셋(set) - 순서는 없다.\n",
        "for i in {'가위','바위','보'}:\n",
        "  print(i)"
      ],
      "metadata": {
        "colab": {
          "base_uri": "https://localhost:8080/"
        },
        "id": "-IEsV1CbPMuC",
        "outputId": "c117e22a-1814-42bb-92e8-8c3499a7b81f"
      },
      "execution_count": 14,
      "outputs": [
        {
          "output_type": "stream",
          "name": "stdout",
          "text": [
            "보\n",
            "바위\n",
            "가위\n"
          ]
        }
      ]
    },
    {
      "cell_type": "code",
      "source": [
        "#for문과 딕셔너리(키,벨류값)\n",
        "\n",
        "person = {\n",
        "    'name':'에밀리',\n",
        "    'age':20\n",
        "}\n",
        "\n",
        "for item in person: \n",
        "  print(item) #키값만 찍는다.\n",
        "  print(item,person[item]) #키값, 벨류값 동시.\n",
        "  "
      ],
      "metadata": {
        "colab": {
          "base_uri": "https://localhost:8080/"
        },
        "id": "Z5XCVtewPoEz",
        "outputId": "e9d17aba-1ed5-47fb-f36a-e8302cd6c617"
      },
      "execution_count": 16,
      "outputs": [
        {
          "output_type": "stream",
          "name": "stdout",
          "text": [
            "name\n",
            "name 에밀리\n",
            "age\n",
            "age 20\n"
          ]
        }
      ]
    },
    {
      "cell_type": "code",
      "source": [
        "#p129-2번\n",
        "\n",
        "n = int(input('임의의 양수를 입력하세요>>>'))\n",
        "\n",
        "sum = 0\n",
        "for num in range(1,n+1):\n",
        "  sum += num\n",
        "print(sum) #띄워쓰기 조심하자\n",
        "\n"
      ],
      "metadata": {
        "colab": {
          "base_uri": "https://localhost:8080/"
        },
        "id": "pSXPUzm6QRai",
        "outputId": "c4361cc3-24f5-4972-e5d5-9223f4d45c83"
      },
      "execution_count": 28,
      "outputs": [
        {
          "output_type": "stream",
          "name": "stdout",
          "text": [
            "임의의 양수를 입력하세요>>>2\n",
            "3\n"
          ]
        }
      ]
    },
    {
      "cell_type": "code",
      "source": [
        "# p129-3번\n",
        "\n",
        "n = int(input('몇개의 과일을 보관할까요? >>>'))\n",
        "\n",
        "basket = []\n",
        "\n",
        "for i in range(1,n+1):\n",
        "  fruit = input(f'{i}번째 과일을 입력하세요 >>>')\n",
        "  basket.append(fruit)\n",
        "print(f'입력받는 과일들은 {basket}입니다')"
      ],
      "metadata": {
        "colab": {
          "base_uri": "https://localhost:8080/"
        },
        "id": "yWMK1S-OSIw0",
        "outputId": "29790fca-c565-43e3-fd60-7622bf583c8f"
      },
      "execution_count": 27,
      "outputs": [
        {
          "output_type": "stream",
          "name": "stdout",
          "text": [
            "몇개의 과일을 보관할까요? >>>2\n",
            "1번째 과일을 입력하세요 >>>귤\n",
            "2번째 과일을 입력하세요 >>>수박\n",
            "입력받는 과일들은 ['귤', '수박']입니다\n"
          ]
        }
      ]
    },
    {
      "cell_type": "code",
      "source": [
        "#p134 break문 - 반복문 종료\n",
        "\n",
        "# n = 1\n",
        "# while n <= 10:\n",
        "#   print(n)\n",
        "#   n += 1\n",
        "\n",
        "n = 1\n",
        "while True:\n",
        "  print(n)\n",
        "  if n == 10:\n",
        "    break\n",
        "  n += 1\n"
      ],
      "metadata": {
        "colab": {
          "base_uri": "https://localhost:8080/"
        },
        "id": "-ggT6SmNUFDR",
        "outputId": "f5572c24-23b0-450e-aae6-c1e8f78b62af"
      },
      "execution_count": 32,
      "outputs": [
        {
          "output_type": "stream",
          "name": "stdout",
          "text": [
            "1\n",
            "2\n",
            "3\n",
            "4\n",
            "5\n",
            "6\n",
            "7\n",
            "8\n",
            "9\n",
            "10\n"
          ]
        }
      ]
    },
    {
      "cell_type": "code",
      "source": [
        "#p138 continue문 - 만나면 맨처음으로 올라간다.\n",
        "\n",
        "total = 0  # 3의 배수 제외한것만 더한것\n",
        "for a in range(1,101):\n",
        "  if a % 3 == 0:\n",
        "    continue\n",
        "  total += a\n",
        "print(total)\n"
      ],
      "metadata": {
        "colab": {
          "base_uri": "https://localhost:8080/"
        },
        "id": "0rHl4_lcU8H9",
        "outputId": "6f249997-50eb-4306-f922-379f67af121a"
      },
      "execution_count": 36,
      "outputs": [
        {
          "output_type": "stream",
          "name": "stdout",
          "text": [
            "3367\n"
          ]
        }
      ]
    },
    {
      "cell_type": "code",
      "source": [
        "# p141-1\n",
        "\n",
        "# coin = 10000\n",
        "\n",
        "# while True:\n",
        "#   print(f'현재 {coin}원이 있습니다.')\n",
        "\n",
        "#   if coin == 0:\n",
        "#     break\n",
        "\n",
        "#   pay = int(input('사용할 금액 입력 >>>'))\n",
        "\n",
        "#   if pay <= 0:\n",
        "#     print('0이하의 금액은 사용할 수 없습니다.')\n",
        "#   elif pay > money:\n",
        "#     print(f'{pay - coin}원이 부족합니다.')\n",
        "#   else:\n",
        "#     coin -= pay\n",
        "\n",
        "\n",
        "\n",
        "\n",
        "#\n",
        "coin = 10000\n",
        "while True:\n",
        "  print(f'현재 {coin}원이 있습니다.')\n",
        "\n",
        "  if coin == 0:\n",
        "    break\n",
        "\n",
        "  pay = int(input('사용할 급액 입력 >>> '))\n",
        "\n",
        "  if pay <= 0:\n",
        "    print('0이하의 금액은 사용할 수 없습니다.')\n",
        "  elif pay > coin:\n",
        "    print(f'{pay - coin}원이 부족합니다.')\n",
        "  else:\n",
        "    coin -= pay\n"
      ],
      "metadata": {
        "colab": {
          "base_uri": "https://localhost:8080/",
          "height": 614
        },
        "id": "NSCSN4JPYfsr",
        "outputId": "53597268-a1b0-4315-dea6-02adf1a0157c"
      },
      "execution_count": 58,
      "outputs": [
        {
          "output_type": "stream",
          "name": "stdout",
          "text": [
            "현재 10000원이 있습니다.\n",
            "사용할 급액 입력 >>> 5000\n",
            "현재 5000원이 있습니다.\n"
          ]
        },
        {
          "output_type": "error",
          "ename": "KeyboardInterrupt",
          "evalue": "ignored",
          "traceback": [
            "\u001b[0;31m---------------------------------------------------------------------------\u001b[0m",
            "\u001b[0;31mKeyboardInterrupt\u001b[0m                         Traceback (most recent call last)",
            "\u001b[0;32m/usr/local/lib/python3.7/dist-packages/ipykernel/kernelbase.py\u001b[0m in \u001b[0;36m_input_request\u001b[0;34m(self, prompt, ident, parent, password)\u001b[0m\n\u001b[1;32m    728\u001b[0m             \u001b[0;32mtry\u001b[0m\u001b[0;34m:\u001b[0m\u001b[0;34m\u001b[0m\u001b[0;34m\u001b[0m\u001b[0m\n\u001b[0;32m--> 729\u001b[0;31m                 \u001b[0mident\u001b[0m\u001b[0;34m,\u001b[0m \u001b[0mreply\u001b[0m \u001b[0;34m=\u001b[0m \u001b[0mself\u001b[0m\u001b[0;34m.\u001b[0m\u001b[0msession\u001b[0m\u001b[0;34m.\u001b[0m\u001b[0mrecv\u001b[0m\u001b[0;34m(\u001b[0m\u001b[0mself\u001b[0m\u001b[0;34m.\u001b[0m\u001b[0mstdin_socket\u001b[0m\u001b[0;34m,\u001b[0m \u001b[0;36m0\u001b[0m\u001b[0;34m)\u001b[0m\u001b[0;34m\u001b[0m\u001b[0;34m\u001b[0m\u001b[0m\n\u001b[0m\u001b[1;32m    730\u001b[0m             \u001b[0;32mexcept\u001b[0m \u001b[0mException\u001b[0m\u001b[0;34m:\u001b[0m\u001b[0;34m\u001b[0m\u001b[0;34m\u001b[0m\u001b[0m\n",
            "\u001b[0;32m/usr/local/lib/python3.7/dist-packages/jupyter_client/session.py\u001b[0m in \u001b[0;36mrecv\u001b[0;34m(self, socket, mode, content, copy)\u001b[0m\n\u001b[1;32m    802\u001b[0m         \u001b[0;32mtry\u001b[0m\u001b[0;34m:\u001b[0m\u001b[0;34m\u001b[0m\u001b[0;34m\u001b[0m\u001b[0m\n\u001b[0;32m--> 803\u001b[0;31m             \u001b[0mmsg_list\u001b[0m \u001b[0;34m=\u001b[0m \u001b[0msocket\u001b[0m\u001b[0;34m.\u001b[0m\u001b[0mrecv_multipart\u001b[0m\u001b[0;34m(\u001b[0m\u001b[0mmode\u001b[0m\u001b[0;34m,\u001b[0m \u001b[0mcopy\u001b[0m\u001b[0;34m=\u001b[0m\u001b[0mcopy\u001b[0m\u001b[0;34m)\u001b[0m\u001b[0;34m\u001b[0m\u001b[0;34m\u001b[0m\u001b[0m\n\u001b[0m\u001b[1;32m    804\u001b[0m         \u001b[0;32mexcept\u001b[0m \u001b[0mzmq\u001b[0m\u001b[0;34m.\u001b[0m\u001b[0mZMQError\u001b[0m \u001b[0;32mas\u001b[0m \u001b[0me\u001b[0m\u001b[0;34m:\u001b[0m\u001b[0;34m\u001b[0m\u001b[0;34m\u001b[0m\u001b[0m\n",
            "\u001b[0;32m/usr/local/lib/python3.7/dist-packages/zmq/sugar/socket.py\u001b[0m in \u001b[0;36mrecv_multipart\u001b[0;34m(self, flags, copy, track)\u001b[0m\n\u001b[1;32m    624\u001b[0m         \"\"\"\n\u001b[0;32m--> 625\u001b[0;31m         \u001b[0mparts\u001b[0m \u001b[0;34m=\u001b[0m \u001b[0;34m[\u001b[0m\u001b[0mself\u001b[0m\u001b[0;34m.\u001b[0m\u001b[0mrecv\u001b[0m\u001b[0;34m(\u001b[0m\u001b[0mflags\u001b[0m\u001b[0;34m,\u001b[0m \u001b[0mcopy\u001b[0m\u001b[0;34m=\u001b[0m\u001b[0mcopy\u001b[0m\u001b[0;34m,\u001b[0m \u001b[0mtrack\u001b[0m\u001b[0;34m=\u001b[0m\u001b[0mtrack\u001b[0m\u001b[0;34m)\u001b[0m\u001b[0;34m]\u001b[0m\u001b[0;34m\u001b[0m\u001b[0;34m\u001b[0m\u001b[0m\n\u001b[0m\u001b[1;32m    626\u001b[0m         \u001b[0;31m# have first part already, only loop while more to receive\u001b[0m\u001b[0;34m\u001b[0m\u001b[0;34m\u001b[0m\u001b[0;34m\u001b[0m\u001b[0m\n",
            "\u001b[0;32mzmq/backend/cython/socket.pyx\u001b[0m in \u001b[0;36mzmq.backend.cython.socket.Socket.recv\u001b[0;34m()\u001b[0m\n",
            "\u001b[0;32mzmq/backend/cython/socket.pyx\u001b[0m in \u001b[0;36mzmq.backend.cython.socket.Socket.recv\u001b[0;34m()\u001b[0m\n",
            "\u001b[0;32mzmq/backend/cython/socket.pyx\u001b[0m in \u001b[0;36mzmq.backend.cython.socket._recv_copy\u001b[0;34m()\u001b[0m\n",
            "\u001b[0;32m/usr/local/lib/python3.7/dist-packages/zmq/backend/cython/checkrc.pxd\u001b[0m in \u001b[0;36mzmq.backend.cython.checkrc._check_rc\u001b[0;34m()\u001b[0m\n",
            "\u001b[0;31mKeyboardInterrupt\u001b[0m: ",
            "\nDuring handling of the above exception, another exception occurred:\n",
            "\u001b[0;31mKeyboardInterrupt\u001b[0m                         Traceback (most recent call last)",
            "\u001b[0;32m<ipython-input-58-60d4b046d32e>\u001b[0m in \u001b[0;36m<module>\u001b[0;34m()\u001b[0m\n\u001b[1;32m     30\u001b[0m     \u001b[0;32mbreak\u001b[0m\u001b[0;34m\u001b[0m\u001b[0;34m\u001b[0m\u001b[0m\n\u001b[1;32m     31\u001b[0m \u001b[0;34m\u001b[0m\u001b[0m\n\u001b[0;32m---> 32\u001b[0;31m   \u001b[0mpay\u001b[0m \u001b[0;34m=\u001b[0m \u001b[0mint\u001b[0m\u001b[0;34m(\u001b[0m\u001b[0minput\u001b[0m\u001b[0;34m(\u001b[0m\u001b[0;34m'사용할 급액 입력 >>> '\u001b[0m\u001b[0;34m)\u001b[0m\u001b[0;34m)\u001b[0m\u001b[0;34m\u001b[0m\u001b[0;34m\u001b[0m\u001b[0m\n\u001b[0m\u001b[1;32m     33\u001b[0m \u001b[0;34m\u001b[0m\u001b[0m\n\u001b[1;32m     34\u001b[0m   \u001b[0;32mif\u001b[0m \u001b[0mpay\u001b[0m \u001b[0;34m<=\u001b[0m \u001b[0;36m0\u001b[0m\u001b[0;34m:\u001b[0m\u001b[0;34m\u001b[0m\u001b[0;34m\u001b[0m\u001b[0m\n",
            "\u001b[0;32m/usr/local/lib/python3.7/dist-packages/ipykernel/kernelbase.py\u001b[0m in \u001b[0;36mraw_input\u001b[0;34m(self, prompt)\u001b[0m\n\u001b[1;32m    702\u001b[0m             \u001b[0mself\u001b[0m\u001b[0;34m.\u001b[0m\u001b[0m_parent_ident\u001b[0m\u001b[0;34m,\u001b[0m\u001b[0;34m\u001b[0m\u001b[0;34m\u001b[0m\u001b[0m\n\u001b[1;32m    703\u001b[0m             \u001b[0mself\u001b[0m\u001b[0;34m.\u001b[0m\u001b[0m_parent_header\u001b[0m\u001b[0;34m,\u001b[0m\u001b[0;34m\u001b[0m\u001b[0;34m\u001b[0m\u001b[0m\n\u001b[0;32m--> 704\u001b[0;31m             \u001b[0mpassword\u001b[0m\u001b[0;34m=\u001b[0m\u001b[0;32mFalse\u001b[0m\u001b[0;34m,\u001b[0m\u001b[0;34m\u001b[0m\u001b[0;34m\u001b[0m\u001b[0m\n\u001b[0m\u001b[1;32m    705\u001b[0m         )\n\u001b[1;32m    706\u001b[0m \u001b[0;34m\u001b[0m\u001b[0m\n",
            "\u001b[0;32m/usr/local/lib/python3.7/dist-packages/ipykernel/kernelbase.py\u001b[0m in \u001b[0;36m_input_request\u001b[0;34m(self, prompt, ident, parent, password)\u001b[0m\n\u001b[1;32m    732\u001b[0m             \u001b[0;32mexcept\u001b[0m \u001b[0mKeyboardInterrupt\u001b[0m\u001b[0;34m:\u001b[0m\u001b[0;34m\u001b[0m\u001b[0;34m\u001b[0m\u001b[0m\n\u001b[1;32m    733\u001b[0m                 \u001b[0;31m# re-raise KeyboardInterrupt, to truncate traceback\u001b[0m\u001b[0;34m\u001b[0m\u001b[0;34m\u001b[0m\u001b[0;34m\u001b[0m\u001b[0m\n\u001b[0;32m--> 734\u001b[0;31m                 \u001b[0;32mraise\u001b[0m \u001b[0mKeyboardInterrupt\u001b[0m\u001b[0;34m\u001b[0m\u001b[0;34m\u001b[0m\u001b[0m\n\u001b[0m\u001b[1;32m    735\u001b[0m             \u001b[0;32melse\u001b[0m\u001b[0;34m:\u001b[0m\u001b[0;34m\u001b[0m\u001b[0;34m\u001b[0m\u001b[0m\n\u001b[1;32m    736\u001b[0m                 \u001b[0;32mbreak\u001b[0m\u001b[0;34m\u001b[0m\u001b[0;34m\u001b[0m\u001b[0m\n",
            "\u001b[0;31mKeyboardInterrupt\u001b[0m: "
          ]
        }
      ]
    },
    {
      "cell_type": "code",
      "source": [
        "#141-2  , 정상적인 입력일경우는 종료, 비정상적인 입력일경우에는 반복 입력하게.... 불필요한 중복 피해서...\n",
        "#score = int(input('이번 영화의 평점을 입력하세요 >>>'))\n",
        "\n",
        "# i = 0\n",
        "# while i in [score]: \n",
        "\n",
        "while True:\n",
        "  score = int(input('이번 영화의 평점을 입력하세요 >>>'))\n",
        "\n",
        "  if score > 5 or score <= 0: #정답이 아닐경우 필터링1\n",
        "    print('평점은 1~5 사이만 입력할 수 있습니다.')\n",
        "  else: #정답일 경우\n",
        "    print('평점 : ','ㅁ' * score)\n",
        "    break\n",
        "    \n"
      ],
      "metadata": {
        "colab": {
          "base_uri": "https://localhost:8080/"
        },
        "id": "WECs-XhLa1Bn",
        "outputId": "77ac0c63-59db-4670-8b4a-501a3bcd3065"
      },
      "execution_count": 44,
      "outputs": [
        {
          "output_type": "stream",
          "name": "stdout",
          "text": [
            "이번 영화의 평점을 입력하세요 >>>3\n",
            "이번 영화의 평점을 입력하세요 >>>0\n",
            "평점은 1~5 사이만 입력할 수 있습니다.\n",
            "이번 영화의 평점을 입력하세요 >>>2\n",
            "평점 :  ㅁㅁ\n"
          ]
        }
      ]
    },
    {
      "cell_type": "code",
      "source": [
        "# p141-3\n",
        "\n",
        "answer = 'qwerty'\n",
        "\n",
        "no = 1\n",
        "\n",
        "while True:\n",
        "  password = input('비밀번호를 입력하세요>>>')\n",
        "\n",
        "  if answer == password: #정답일경우\n",
        "    print('비밀번호를 맞췄습니다.')\n",
        "    break\n",
        "  \n",
        "  if no == 5: #정답 아닐경우 - 필터링1\n",
        "    print('비밀번호 입력횟수를 초과했습니다.')\n",
        "    break\n",
        "\n",
        "  no += 1\n",
        "  \n",
        "    \n"
      ],
      "metadata": {
        "colab": {
          "base_uri": "https://localhost:8080/"
        },
        "id": "2BZjTilfdxR5",
        "outputId": "ad2d6137-1462-487a-aa6d-012ea7cf35bb"
      },
      "execution_count": 48,
      "outputs": [
        {
          "output_type": "stream",
          "name": "stdout",
          "text": [
            "비밀번호를 입력하세요>>>2312312\n",
            "비밀번호를 입력하세요>>>312312312\n",
            "비밀번호를 입력하세요>>>312312\n",
            "비밀번호를 입력하세요>>>312312\n",
            "비밀번호를 입력하세요>>>312312\n",
            "비밀번호 입력횟수를 초과했습니다.\n"
          ]
        }
      ]
    },
    {
      "cell_type": "code",
      "source": [
        "#p141-4 구구단 몇개는 외울것....\n",
        "\n",
        "\n",
        "\n",
        "for i in range(2,10):\n",
        "  if i % 2 == 0: #짝수면 제외 홀수면 내려와서 찍어 #필터링1\n",
        "    continue\n",
        "\n",
        "  for j in range(1,10):\n",
        "    if j > i: #단보다 크면 브레이크 #필터링2\n",
        "      break\n",
        "    print(f'{i} * {j} = {i*j}')\n",
        "  print()\n",
        "\n",
        "\n",
        "\n"
      ],
      "metadata": {
        "colab": {
          "base_uri": "https://localhost:8080/"
        },
        "id": "peJrBZ-Vf_bH",
        "outputId": "f89aca45-ce7e-405f-e395-fed468e697fe"
      },
      "execution_count": 57,
      "outputs": [
        {
          "output_type": "stream",
          "name": "stdout",
          "text": [
            "3 * 1 = 3\n",
            "3 * 2 = 6\n",
            "3 * 3 = 9\n",
            "\n",
            "5 * 1 = 5\n",
            "5 * 2 = 10\n",
            "5 * 3 = 15\n",
            "5 * 4 = 20\n",
            "5 * 5 = 25\n",
            "\n",
            "7 * 1 = 7\n",
            "7 * 2 = 14\n",
            "7 * 3 = 21\n",
            "7 * 4 = 28\n",
            "7 * 5 = 35\n",
            "7 * 6 = 42\n",
            "7 * 7 = 49\n",
            "\n",
            "9 * 1 = 9\n",
            "9 * 2 = 18\n",
            "9 * 3 = 27\n",
            "9 * 4 = 36\n",
            "9 * 5 = 45\n",
            "9 * 6 = 54\n",
            "9 * 7 = 63\n",
            "9 * 8 = 72\n",
            "9 * 9 = 81\n",
            "\n"
          ]
        }
      ]
    },
    {
      "cell_type": "code",
      "source": [
        "#p146 내장함수 (자습-외우는것)\n",
        "\n",
        "#p154 enumerate()함수 - 넘버링함수\n",
        "for item in enumerate(['가위','바위','보']): #튜플\n",
        "  print(item)\n",
        "\n",
        "\n",
        "for idx,item in enumerate(['가위','바위','보']): #튜플\n",
        "  print(idx + 1,item)\n"
      ],
      "metadata": {
        "colab": {
          "base_uri": "https://localhost:8080/"
        },
        "id": "Y79R2P40mLgW",
        "outputId": "cfc0a00e-5f89-4947-dcd3-b15c7da6f453"
      },
      "execution_count": 78,
      "outputs": [
        {
          "output_type": "stream",
          "name": "stdout",
          "text": [
            "(0, '가위')\n",
            "(1, '바위')\n",
            "(2, '보')\n",
            "1 가위\n",
            "2 바위\n",
            "3 보\n"
          ]
        }
      ]
    },
    {
      "cell_type": "code",
      "source": [
        "#zip()\n",
        "\n",
        "names = ['james','emily','amanda','scott']\n",
        "scores = [60,70,80,90]\n",
        "\n",
        "for student in zip(names,scores):\n",
        "  print(student)\n",
        "  "
      ],
      "metadata": {
        "colab": {
          "base_uri": "https://localhost:8080/"
        },
        "id": "3X-QaiumnUVJ",
        "outputId": "1650f31b-0b42-4c57-de1d-85041e98c696"
      },
      "execution_count": 60,
      "outputs": [
        {
          "output_type": "stream",
          "name": "stdout",
          "text": [
            "('james', 60)\n",
            "('emily', 70)\n",
            "('amanda', 80)\n",
            "('scott', 90)\n"
          ]
        }
      ]
    },
    {
      "cell_type": "code",
      "source": [
        "\n",
        "names = ['james','emily','amanda','scott']\n",
        "scores = [60,70,80,90]\n",
        "\n",
        "for name,score in zip(names,scores):\n",
        "  print(f'{name}의 점수는 {score}점입니다.')\n",
        "  "
      ],
      "metadata": {
        "colab": {
          "base_uri": "https://localhost:8080/"
        },
        "id": "P0s4pTuQnxY2",
        "outputId": "c82dbfbb-c215-48fb-c635-c680e126790c"
      },
      "execution_count": 61,
      "outputs": [
        {
          "output_type": "stream",
          "name": "stdout",
          "text": [
            "james의 점수는 60점입니다.\n",
            "emily의 점수는 70점입니다.\n",
            "amanda의 점수는 80점입니다.\n",
            "scott의 점수는 90점입니다.\n"
          ]
        }
      ]
    },
    {
      "cell_type": "code",
      "source": [
        "#p164 메소드 - 함수의 또다른 표현,,어떤 기능..\n",
        "# ~ p169 자습\n",
        "\n",
        "#p184 사용자 함수\n",
        "# 함수 - 기능.... 입력,처리,출력 #믹서기같은것\n",
        "\n",
        "#######기본형태 정의\n",
        "# def 함수명(변수):\n",
        "#   본문\n",
        "#   return 결과\n",
        "\n",
        "\n",
        "\n",
        "\n"
      ],
      "metadata": {
        "id": "hBxmZ7HKoDzW"
      },
      "execution_count": null,
      "outputs": []
    },
    {
      "cell_type": "code",
      "source": [
        "# 1. 인수도 없고 반환도 없는 사용자 정의 함수\n",
        "# 2. 인수는 있고 반환은 없는 사용자 정의 함수\n",
        "# 3. 인수가 없고 반환은 있는 사용자 정의 함수\n",
        "# 4. 인수도 있고 반환도 있는 사용자 정의 함수\n"
      ],
      "metadata": {
        "id": "BaQ7yAPIqevL"
      },
      "execution_count": null,
      "outputs": []
    },
    {
      "cell_type": "code",
      "source": [
        "# 1. 인수도 없고 반환도 없는 사용자 정의 함수\n",
        "\n",
        "def welcome(): #인수 없고\n",
        "  print('Hello world') #찎는 기능\n",
        "      #리턴(반환)이 없다\n",
        "\n",
        "welcome()\n"
      ],
      "metadata": {
        "colab": {
          "base_uri": "https://localhost:8080/"
        },
        "id": "UW6WbySUq-m7",
        "outputId": "491f0434-8af2-46bb-a4c0-58ff22aa7575"
      },
      "execution_count": 62,
      "outputs": [
        {
          "output_type": "stream",
          "name": "stdout",
          "text": [
            "Hello world\n"
          ]
        }
      ]
    },
    {
      "cell_type": "code",
      "source": [
        "# 2. 인수는 있고 반환은 없는 사용자 정의 함수\n",
        "\n",
        "def welcome(name): #인수는 있고\n",
        "  print('Hello',name) #찎는 기능\n",
        "      #리턴(반환)이 없다\n",
        "\n",
        "welcome('austine')"
      ],
      "metadata": {
        "colab": {
          "base_uri": "https://localhost:8080/"
        },
        "id": "Egfg3hb0raoP",
        "outputId": "baecedcc-bda8-4c92-994e-39f4f2717c2f"
      },
      "execution_count": 63,
      "outputs": [
        {
          "output_type": "stream",
          "name": "stdout",
          "text": [
            "Hello austine\n"
          ]
        }
      ]
    },
    {
      "cell_type": "code",
      "source": [
        "# 3. 인수가 없고 반환은 있는 사용자 정의 함수\n",
        "\n",
        "def welcome(): #인수는 없고\n",
        "  return 1 #반환이 있다\n",
        "\n",
        "welcome()\n"
      ],
      "metadata": {
        "colab": {
          "base_uri": "https://localhost:8080/"
        },
        "id": "PdCWf72-r1Hv",
        "outputId": "6a7e6e46-4f04-4ea6-b6e6-0ca618e8e90b"
      },
      "execution_count": 64,
      "outputs": [
        {
          "output_type": "execute_result",
          "data": {
            "text/plain": [
              "1"
            ]
          },
          "metadata": {},
          "execution_count": 64
        }
      ]
    },
    {
      "cell_type": "code",
      "source": [
        "# 4. 인수도 있고 반환도 있는 사용자 정의 함수\n",
        "\n",
        "def add(a,b):\n",
        "  return a+b\n",
        "\n",
        "add(3,4)"
      ],
      "metadata": {
        "colab": {
          "base_uri": "https://localhost:8080/"
        },
        "id": "ZKpweTNtsT86",
        "outputId": "67320a99-c59d-475e-d55f-9e29c9458baf"
      },
      "execution_count": 65,
      "outputs": [
        {
          "output_type": "execute_result",
          "data": {
            "text/plain": [
              "7"
            ]
          },
          "metadata": {},
          "execution_count": 65
        }
      ]
    },
    {
      "cell_type": "code",
      "source": [
        "#p188\n",
        "def introduce(name,age):\n",
        "  print(f'내이름은 {name},나이는 {age}살입니다.')\n",
        "\n",
        "introduce('james',30)  "
      ],
      "metadata": {
        "colab": {
          "base_uri": "https://localhost:8080/"
        },
        "id": "81GbCg3Nsv5t",
        "outputId": "5bc3d846-3351-4ea7-9ed8-67d62e5a5ba2"
      },
      "execution_count": 66,
      "outputs": [
        {
          "output_type": "stream",
          "name": "stdout",
          "text": [
            "내이름은 james,나이는 30살입니다.\n"
          ]
        }
      ]
    },
    {
      "cell_type": "code",
      "source": [
        "#p189 가변 매개변수 - 갯수에 따라 매번 함수를 만들기 힘들다.  그때 입력함수 들어오는것 다 더한다.\n",
        "\n",
        "# def add2(a,b):\n",
        "#   return a+b\n",
        "\n",
        "\n",
        "# def add3(a,b,c):\n",
        "#   return a+b+c\n",
        "\n",
        "# add2(3,4)\n",
        "# add3(3,4,5)\n",
        "\n",
        "\n",
        "# 이해 버전\n",
        "# def add(*args):   #2,3개 들어오던지 간에 들어온 갯수만큼 처리\n",
        "#   sum = 0\n",
        "#   for item in args:\n",
        "#     sum += item\n",
        "#   print(sum)\n",
        "\n",
        "\n",
        "# add(1,2,3,4,5,6,7,8,9)\n",
        "\n",
        "#간단버전\n",
        "del sum #이전에 사용된 함수 해지\n",
        "\n",
        "def add(*args):   #2,3개 들어오던지 간에 들어온 갯수만큼 처리\n",
        "  print(f'{sum(args)}')\n",
        "\n",
        "add(1,2,3,4,5,6,7,8,9)\n"
      ],
      "metadata": {
        "colab": {
          "base_uri": "https://localhost:8080/"
        },
        "id": "pH8y-HpYtK_l",
        "outputId": "37c3afdc-ecd4-4501-c947-c226847e1f28"
      },
      "execution_count": 75,
      "outputs": [
        {
          "output_type": "stream",
          "name": "stdout",
          "text": [
            "45\n"
          ]
        }
      ]
    },
    {
      "cell_type": "code",
      "source": [
        "#디폴트 매개변수\n",
        "\n",
        "def greet(message='안녕하세요'):\n",
        "  print(message)\n",
        "\n",
        "greet() #인수가 없을떄는 디폴트 설정된 메시지 출력\n",
        "greet('헬로') #인수 지정해주면 그값이 출력\n",
        "\n"
      ],
      "metadata": {
        "colab": {
          "base_uri": "https://localhost:8080/"
        },
        "id": "XHuraYzVuyN1",
        "outputId": "eddd3adc-564b-4700-ff13-ddc2ac73f6d5"
      },
      "execution_count": 74,
      "outputs": [
        {
          "output_type": "stream",
          "name": "stdout",
          "text": [
            "안녕하세요\n",
            "헬로\n"
          ]
        }
      ]
    },
    {
      "cell_type": "code",
      "source": [
        "# 다음 수요일은 p192부터\n"
      ],
      "metadata": {
        "id": "GcVRZiWTxD38"
      },
      "execution_count": null,
      "outputs": []
    }
  ]
}