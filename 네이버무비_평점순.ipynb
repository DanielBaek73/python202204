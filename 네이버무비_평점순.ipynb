{
  "nbformat": 4,
  "nbformat_minor": 0,
  "metadata": {
    "colab": {
      "name": "네이버무비_평점순.ipynb",
      "provenance": [],
      "authorship_tag": "ABX9TyNf1PoxHxIJncEhSLCrfaku",
      "include_colab_link": true
    },
    "kernelspec": {
      "name": "python3",
      "display_name": "Python 3"
    },
    "language_info": {
      "name": "python"
    }
  },
  "cells": [
    {
      "cell_type": "markdown",
      "metadata": {
        "id": "view-in-github",
        "colab_type": "text"
      },
      "source": [
        "<a href=\"https://colab.research.google.com/github/DanielBaek73/python202204/blob/main/%EB%84%A4%EC%9D%B4%EB%B2%84%EB%AC%B4%EB%B9%84_%ED%8F%89%EC%A0%90%EC%88%9C.ipynb\" target=\"_parent\"><img src=\"https://colab.research.google.com/assets/colab-badge.svg\" alt=\"Open In Colab\"/></a>"
      ]
    },
    {
      "cell_type": "markdown",
      "source": [
        ""
      ],
      "metadata": {
        "id": "lW9qf_gZjDh5"
      }
    },
    {
      "cell_type": "code",
      "execution_count": 2,
      "metadata": {
        "id": "rQoF6YKDijpk"
      },
      "outputs": [],
      "source": [
        "import requests                       #웹페이지 연결\n",
        "from bs4 import BeautifulSoup as bs   #가져온 페이지를 분석하기 용이하게 정제\n",
        "import pandas as pd   \n",
        "html = requests.get('https://movie.naver.com/movie/sdb/rank/rmovie.naver?sel=cur&date=20220507')\n",
        "soup=bs(html.text)\n",
        "# soup"
      ]
    },
    {
      "cell_type": "code",
      "source": [
        "len(soup.select('tr'))  #태그를 선택할때는 soup.select()을 사용\n",
        "len(soup.select('tbody > tr'))  \n",
        "len(soup.select('tbody > tr > td.title'))  \n"
      ],
      "metadata": {
        "colab": {
          "base_uri": "https://localhost:8080/"
        },
        "id": "uqrpVE0hjf9Q",
        "outputId": "a41b044f-4d7e-4986-8b5a-50ebd5bcb3a8"
      },
      "execution_count": 3,
      "outputs": [
        {
          "output_type": "execute_result",
          "data": {
            "text/plain": [
              "42"
            ]
          },
          "metadata": {},
          "execution_count": 3
        }
      ]
    },
    {
      "cell_type": "code",
      "source": [
        "movies = soup.select('tbody > tr > td.title')\n",
        "movie = movies[0]\n"
      ],
      "metadata": {
        "id": "Da713Q-9jl8p"
      },
      "execution_count": 4,
      "outputs": []
    },
    {
      "cell_type": "code",
      "source": [
        "movies[0].select('a')[0].text"
      ],
      "metadata": {
        "colab": {
          "base_uri": "https://localhost:8080/",
          "height": 37
        },
        "id": "62h4K498joeO",
        "outputId": "d81eb569-3624-4fb4-c71a-a536209d5512"
      },
      "execution_count": 5,
      "outputs": [
        {
          "output_type": "execute_result",
          "data": {
            "text/plain": [
              "'씽2게더'"
            ],
            "application/vnd.google.colaboratory.intrinsic+json": {
              "type": "string"
            }
          },
          "metadata": {},
          "execution_count": 5
        }
      ]
    },
    {
      "cell_type": "code",
      "source": [
        "movie_data = []\n",
        "rank = 1\n",
        "\n",
        "movies = soup.select('tbody > tr > td.title')\n",
        "\n",
        "for movie in movies:\n",
        "  title = movie.select('a')[0].text\n",
        "\n",
        "\n",
        "  movie_data.append(['평점순',rank,title])\n",
        "  rank += 1\n",
        "\n",
        "movie_data"
      ],
      "metadata": {
        "colab": {
          "base_uri": "https://localhost:8080/"
        },
        "id": "lc_J3f4Sjtjt",
        "outputId": "09273a10-9563-4388-f3b1-7a7c0b745a70"
      },
      "execution_count": 7,
      "outputs": [
        {
          "output_type": "execute_result",
          "data": {
            "text/plain": [
              "[['평점순', 1, '씽2게더'],\n",
              " ['평점순', 2, '극장판 귀멸의 칼날: 무한열차편'],\n",
              " ['평점순', 3, '극장판 주술회전 0'],\n",
              " ['평점순', 4, '피아니스트의 전설'],\n",
              " ['평점순', 5, '벤허'],\n",
              " ['평점순', 6, '파수꾼'],\n",
              " ['평점순', 7, '코다'],\n",
              " ['평점순', 8, '와이키키 브라더스'],\n",
              " ['평점순', 9, '비긴 어게인'],\n",
              " ['평점순', 10, '개를 훔치는 완벽한 방법'],\n",
              " ['평점순', 11, '남매의 여름밤'],\n",
              " ['평점순', 12, '중경삼림'],\n",
              " ['평점순', 13, '화양연화'],\n",
              " ['평점순', 14, '바닷마을 다이어리'],\n",
              " ['평점순', 15, '귀향'],\n",
              " ['평점순', 16, '세자매'],\n",
              " ['평점순', 17, '안경'],\n",
              " ['평점순', 18, '라라랜드'],\n",
              " ['평점순', 19, '공기살인'],\n",
              " ['평점순', 20, '나쁜 교육'],\n",
              " ['평점순', 21, '아비정전'],\n",
              " ['평점순', 22, '드라이브 마이 카'],\n",
              " ['평점순', 23, '신은 죽지 않았다 3: 어둠 속의 빛'],\n",
              " ['평점순', 24, '어나더 라운드'],\n",
              " ['평점순', 25, '수퍼 소닉2'],\n",
              " ['평점순', 26, '멋진 하루'],\n",
              " ['평점순', 27, '언어의 정원'],\n",
              " ['평점순', 28, '문라이즈 킹덤'],\n",
              " ['평점순', 29, '루이스 웨인: 사랑을 그린 고양이 화가'],\n",
              " ['평점순', 30, '날씨의 아이'],\n",
              " ['평점순', 31, '한여름의 판타지아'],\n",
              " ['평점순', 32, '니 부모 얼굴이 보고 싶다'],\n",
              " ['평점순', 33, '스펜서'],\n",
              " ['평점순', 34, '미나리'],\n",
              " ['평점순', 35, '디어 에반 핸슨'],\n",
              " ['평점순', 36, '앵커'],\n",
              " ['평점순', 37, '닥터 스트레인지: 대혼돈의 멀티버스'],\n",
              " ['평점순', 38, '신비한 동물들과 덤블도어의 비밀'],\n",
              " ['평점순', 39, '불한당: 나쁜 놈들의 세상'],\n",
              " ['평점순', 40, '로스트 시티'],\n",
              " ['평점순', 41, '노회찬6411'],\n",
              " ['평점순', 42, '서울괴담']]"
            ]
          },
          "metadata": {},
          "execution_count": 7
        }
      ]
    },
    {
      "cell_type": "code",
      "source": [
        "df = pd.DataFrame(movie_data,columns = ['영화랭킹','순위','타이틀'])\n",
        "df\n",
        "df.to_excel('네이버_무비_평점순.xlsx',index=False)"
      ],
      "metadata": {
        "id": "F4H_dAgTj2BK"
      },
      "execution_count": 8,
      "outputs": []
    }
  ]
}