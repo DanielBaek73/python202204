{
  "nbformat": 4,
  "nbformat_minor": 0,
  "metadata": {
    "colab": {
      "name": "pythonday3.ipynb",
      "provenance": [],
      "authorship_tag": "ABX9TyN4Gv6/pFr1Uf2stFEdyx5L",
      "include_colab_link": true
    },
    "kernelspec": {
      "name": "python3",
      "display_name": "Python 3"
    },
    "language_info": {
      "name": "python"
    }
  },
  "cells": [
    {
      "cell_type": "markdown",
      "metadata": {
        "id": "view-in-github",
        "colab_type": "text"
      },
      "source": [
        "<a href=\"https://colab.research.google.com/github/DanielBaek73/python202204/blob/main/pythonday3.ipynb\" target=\"_parent\"><img src=\"https://colab.research.google.com/assets/colab-badge.svg\" alt=\"Open In Colab\"/></a>"
      ]
    },
    {
      "cell_type": "code",
      "execution_count": 8,
      "metadata": {
        "colab": {
          "base_uri": "https://localhost:8080/"
        },
        "id": "G9eJpp-uEpFs",
        "outputId": "69609936-39d3-4c1c-98cf-48c21b73c15a"
      },
      "outputs": [
        {
          "output_type": "stream",
          "name": "stdout",
          "text": [
            "423432\n",
            "당신이 입력한 수는 423432입니다.\n"
          ]
        }
      ],
      "source": [
        "#p62 표준입력\n",
        "#input()함수는 키보드로 입력을 받을떄 사용된다.\n",
        "\n",
        "n = input()\n",
        "print(f'당신이 입력한 수는 {n}입니다.')\n"
      ]
    },
    {
      "cell_type": "code",
      "source": [
        "name = input('이름을 입력하세요 >>>')\n",
        "age = input('나이를 입력하세요 >>>')\n",
        "\n",
        "print('입력된 이름은 {}입니다'.format(name))\n",
        "print(f'입력된 나이는 {age}살입니다') #붙여서 사용한다."
      ],
      "metadata": {
        "colab": {
          "base_uri": "https://localhost:8080/"
        },
        "id": "oouttbwcJQUa",
        "outputId": "2e66a73b-1e54-4b20-ce42-a61e1c12baf2"
      },
      "execution_count": 7,
      "outputs": [
        {
          "output_type": "stream",
          "name": "stdout",
          "text": [
            "이름을 입력하세요 >>>sda\n",
            "나이를 입력하세요 >>>2\n",
            "입력된 이름은 sda입니다\n",
            "입력된 나이는 2살입니다\n"
          ]
        }
      ]
    },
    {
      "cell_type": "code",
      "source": [
        "#좋아하는 과일은?\n",
        "#당신이 좋아하는 과일은 ....입니다.\n",
        "fruit = input('좋아하는 과일은?')\n",
        "print(f'당신이 좋아하는 과일은 {fruit}입니다.')"
      ],
      "metadata": {
        "colab": {
          "base_uri": "https://localhost:8080/"
        },
        "id": "u4yiWl4vKF8-",
        "outputId": "f24611bf-9370-42fb-8152-810f9bbd8141"
      },
      "execution_count": 9,
      "outputs": [
        {
          "output_type": "stream",
          "name": "stdout",
          "text": [
            "좋아하는 과일은?체리\n",
            "당신이 좋아하는 과일은 체리입니다.\n"
          ]
        }
      ]
    },
    {
      "cell_type": "code",
      "source": [
        "n = input('정수를 입력하세요 >>>') #input으로 입력받은것은 string(문자)이다.\n",
        "print(type(n))"
      ],
      "metadata": {
        "colab": {
          "base_uri": "https://localhost:8080/"
        },
        "id": "dlc5XMq0KykD",
        "outputId": "3aacf4a7-4bfb-498d-8702-0237944830e0"
      },
      "execution_count": 10,
      "outputs": [
        {
          "output_type": "stream",
          "name": "stdout",
          "text": [
            "정수를 입력하세요 >>>33\n",
            "<class 'str'>\n"
          ]
        }
      ]
    },
    {
      "cell_type": "code",
      "source": [
        "price = 5000\n",
        "#n = input('할부 개월 입력 >>>')\n",
        "n = int(input('할부 개월 입력 >>>')) #정수형으로 형변환\n",
        "\n",
        "print(f'매달 내는 돈은 {price / n}원 입니다.')\n"
      ],
      "metadata": {
        "colab": {
          "base_uri": "https://localhost:8080/"
        },
        "id": "_d9Qex3MLVZG",
        "outputId": "ee941715-5885-49a5-8400-84123ca40426"
      },
      "execution_count": 12,
      "outputs": [
        {
          "output_type": "stream",
          "name": "stdout",
          "text": [
            "할부 개월 입력 >>>12\n",
            "매달 내는 돈은 416.6666666666667원 입니다.\n"
          ]
        }
      ]
    },
    {
      "cell_type": "code",
      "source": [
        "n = float(input('첫번째 실수를 입력하세요>>>'))\n",
        "p = float(input('두번째 실수를 입력하세요>>>'))\n",
        "print(f'{n}와 {p}의 합은 {n+p}입니다.')"
      ],
      "metadata": {
        "colab": {
          "base_uri": "https://localhost:8080/"
        },
        "id": "C-qSGHDWMLTd",
        "outputId": "021d4ebb-72a6-4d47-b694-8bd468d10ae5"
      },
      "execution_count": 13,
      "outputs": [
        {
          "output_type": "stream",
          "name": "stdout",
          "text": [
            "첫번쨰 실수를 입력하세요>>>1.23\n",
            "두번쨰 실수를 입력하세요>>>2.34\n",
            "1.23와2.34의 합은3.57입니다.\n"
          ]
        }
      ]
    },
    {
      "cell_type": "code",
      "source": [
        "#d={'1':'31','2':'28','3':'30','4':'30','5':'31','6':'31'}\n",
        "month=[31,28,31,30,31,30,31,31,30,31,30,31]\n",
        "n = int(input('1~12 사이의 월을 입력하세요>>>'))\n",
        "print(f'{n}월은 {month[n-1]}일 까지 있습니다.')"
      ],
      "metadata": {
        "colab": {
          "base_uri": "https://localhost:8080/"
        },
        "id": "PGO5mAM7Mr4i",
        "outputId": "89ddc6b8-fd3f-4b3b-d212-c50a6180fde3"
      },
      "execution_count": 15,
      "outputs": [
        {
          "output_type": "stream",
          "name": "stdout",
          "text": [
            "1~12 사이의 월을 입력하세요>>>5\n",
            "5월은 31일까지 있습니다.\n"
          ]
        }
      ]
    },
    {
      "cell_type": "code",
      "source": [
        "english_dict = {\n",
        "    'flower':'꽃',\n",
        "    'fly':'날다',\n",
        "    'floor':'바닥'\n",
        "}\n",
        "n = input('영업 단어를 입력하세요>>>')\n",
        "print(f'{n}:{english_dict[n]}')\n"
      ],
      "metadata": {
        "colab": {
          "base_uri": "https://localhost:8080/"
        },
        "id": "ybMUOwhjQJgs",
        "outputId": "c45d5156-27d8-4460-8c0e-6888a92c0cbf"
      },
      "execution_count": 18,
      "outputs": [
        {
          "output_type": "stream",
          "name": "stdout",
          "text": [
            "영업 단어를 입력하세요>>>fly\n",
            "fly:날다\n"
          ]
        }
      ]
    },
    {
      "cell_type": "code",
      "source": [
        "s=set()\n",
        "w = input('희망하는 수학여행지를 입력하세요>>>')\n",
        "s.add(w)\n",
        "w = input('희망하는 수학여행지를 입력하세요>>>')\n",
        "s.add(w)\n",
        "w = input('희망하는 수학여행지를 입력하세요>>>')\n",
        "s.add(w)\n",
        "print(f'조사된 수학여행지는 {s}입니다. ')"
      ],
      "metadata": {
        "colab": {
          "base_uri": "https://localhost:8080/"
        },
        "id": "sXEDhX25SJao",
        "outputId": "ee7e3ea4-53bd-4feb-9e4f-d307babf4803"
      },
      "execution_count": 19,
      "outputs": [
        {
          "output_type": "stream",
          "name": "stdout",
          "text": [
            "희망하는 수학여행지를 입력하세요>>>제주\n",
            "희망하는 수학여행지를 입력하세요>>>제주\n",
            "희망하는 수학여행지를 입력하세요>>>민속촌\n",
            "조사된 수학여행지는 {'민속촌', '제주'}입니다. \n"
          ]
        }
      ]
    },
    {
      "cell_type": "code",
      "source": [
        "#연산자\n",
        "\n",
        "a=7\n",
        "b=2\n",
        "print(f'{a}+{b}={a+b}')\n",
        "print(f'{a}-{b}={a-b}')\n",
        "print(f'{a}*{b}={a*b}')\n",
        "print(f'{a}**{b}={a**b}')\n",
        "print(f'{a}/{b}={a/b}')\n",
        "print(f'{a}//{b}={a//b}') #목\n",
        "print(f'{a}%{b}={a%b}') #나머지(홀수,짝수,배수)뽑아낸다"
      ],
      "metadata": {
        "colab": {
          "base_uri": "https://localhost:8080/"
        },
        "id": "RvHjvD2HVL13",
        "outputId": "703599ea-f70b-421b-8289-c1066b5e59e4"
      },
      "execution_count": 22,
      "outputs": [
        {
          "output_type": "stream",
          "name": "stdout",
          "text": [
            "7+2=9\n",
            "7-2=5\n",
            "7*2=14\n",
            "7**2=49\n",
            "7/2=3.5\n",
            "7//2=3\n",
            "7%2=1\n"
          ]
        }
      ]
    },
    {
      "cell_type": "code",
      "source": [
        "#대입 연산자\n",
        "a=1\n",
        "b=2\n",
        "a,b = 1,2  #a=1,b=2와 같음\n",
        "\n",
        "print(f'a={a},b={b}')\n",
        "\n",
        "\n",
        "#두 변수의 값 교환(다른언어)\n",
        "t=a #다른언어의 방식\n",
        "a=b #다른언어의 방식\n",
        "b=t #다른언어의 방식\n",
        "\n",
        "print(f'a={a},b={b}')\n",
        "\n",
        "#두 변수의 값 교환(파이썬)\n",
        "a,b=b,a\n",
        "print(f'a={a},b={b}')\n",
        "\n",
        "\n"
      ],
      "metadata": {
        "colab": {
          "base_uri": "https://localhost:8080/"
        },
        "id": "TxoUyVbkXB-Y",
        "outputId": "3abc27e9-1a16-4fcb-ecfa-fe7fcff49617"
      },
      "execution_count": 25,
      "outputs": [
        {
          "output_type": "stream",
          "name": "stdout",
          "text": [
            "a=1,b=2\n",
            "a=2,b=1\n",
            "a=1,b=2\n"
          ]
        }
      ]
    },
    {
      "cell_type": "code",
      "source": [
        "\n",
        "#복합 대입 연산자\n",
        "\n",
        "a=1\n",
        "print(a)\n",
        "a=a+1 #1 증가\n",
        "print(a)\n",
        "a += 1 #a 자기자신에서 1 증가\n",
        "print(a)\n",
        "#a++ 자바 사용, 파이썬은 사용않함\n",
        "\n",
        "a -= 1 # a=a-1\n"
      ],
      "metadata": {
        "colab": {
          "base_uri": "https://localhost:8080/"
        },
        "id": "RqrU27cXaKzZ",
        "outputId": "bcc5393a-7aa5-4ec4-8975-ad3288b7bcdb"
      },
      "execution_count": 26,
      "outputs": [
        {
          "output_type": "stream",
          "name": "stdout",
          "text": [
            "1\n",
            "2\n",
            "3\n"
          ]
        }
      ]
    },
    {
      "cell_type": "code",
      "source": [
        "a,b=10,20\n",
        "print(f'a={a},b={b}')\n",
        "a,b=b,a #다른 언어에는 없는 파이썬 스러운 표현\n",
        "print(f'a={a},b={b}')"
      ],
      "metadata": {
        "colab": {
          "base_uri": "https://localhost:8080/"
        },
        "id": "gtD5wMMrbMrq",
        "outputId": "73b05277-3b63-4e45-cb80-a67f574ead9a"
      },
      "execution_count": 28,
      "outputs": [
        {
          "output_type": "stream",
          "name": "stdout",
          "text": [
            "a=10,b=20\n",
            "a=20,b=10\n"
          ]
        }
      ]
    },
    {
      "cell_type": "code",
      "source": [
        "piggy_bank=0\n",
        "money=10000\n",
        "piggy_bank+=money #piggy_bank=puggy_bank+money\n",
        "print(f'저금통에 용돈 {money}원을 넣었습니다.')\n",
        "print(f'지금 저금통에는 {piggy_bank}원이 있습니다.')\n",
        "\n",
        "snack=2000\n",
        "piggy_bank-=snack\n",
        "print(f'저금통에서 스낵 구입비 {snack}원을 뺐습니다.')\n",
        "print(f'지금 저금통에는 {piggy_bank}원이 있습니다.')\n"
      ],
      "metadata": {
        "colab": {
          "base_uri": "https://localhost:8080/"
        },
        "id": "7iK6kCAIbyUv",
        "outputId": "e473e701-c2c4-4de2-c221-4dc611fbb9cc"
      },
      "execution_count": 31,
      "outputs": [
        {
          "output_type": "stream",
          "name": "stdout",
          "text": [
            "저금통에 용돈 10000원을 넣었습니다.\n",
            "지금 저금통에는 10000원이 있습니다.\n",
            "저금통에서 스낵 구입비 2000원을 뺐습니다.\n",
            "지금 저금통에는 8000원이 있습니다.\n"
          ]
        }
      ]
    },
    {
      "cell_type": "code",
      "source": [
        "#관계 연산자\n",
        "# = 대입연산자\n",
        "# == 같다연산자\n",
        "\n",
        "#논리연산자\n",
        "\n",
        "#p81 시퀀스 연산자\n",
        "[1,3,5]+[2,4,6] #[1,3,5,2,4,6]\n",
        "\n",
        "'hello'+''+'python' #'hello python\n",
        "\n",
        "[1,3,5]*2 #[1,3,5,1,3,5]\n",
        "\n",
        "'-'*30 #'-------------------------------------------------'\n"
      ],
      "metadata": {
        "colab": {
          "base_uri": "https://localhost:8080/",
          "height": 35
        },
        "id": "uXKv68wkdcWM",
        "outputId": "e2b551e3-e901-49b1-b256-16f2c1dab305"
      },
      "execution_count": 32,
      "outputs": [
        {
          "output_type": "execute_result",
          "data": {
            "text/plain": [
              "'------------------------------'"
            ],
            "application/vnd.google.colaboratory.intrinsic+json": {
              "type": "string"
            }
          },
          "metadata": {},
          "execution_count": 32
        }
      ]
    },
    {
      "cell_type": "code",
      "source": [
        "#멤버십 연산자\n",
        "#어떤 값이 지정된 컬렉션(리스트,문자열,딕셔너리)에 속해 있는지 여부를 판단하여 속해있어면 True로 아니면 False로 반환\n",
        "\n",
        "5 in [1,2,3,4,5]\n"
      ],
      "metadata": {
        "colab": {
          "base_uri": "https://localhost:8080/"
        },
        "id": "YMXV0tD8exlo",
        "outputId": "3a36fa44-115d-47f5-9fd6-4a0e4686c636"
      },
      "execution_count": 33,
      "outputs": [
        {
          "output_type": "execute_result",
          "data": {
            "text/plain": [
              "True"
            ]
          },
          "metadata": {},
          "execution_count": 33
        }
      ]
    },
    {
      "cell_type": "code",
      "source": [
        "'n' in 'apple'"
      ],
      "metadata": {
        "colab": {
          "base_uri": "https://localhost:8080/"
        },
        "id": "wPGuOavLfWeg",
        "outputId": "c37c6ba6-999c-4757-ad1b-9fd24ad1d8fb"
      },
      "execution_count": 34,
      "outputs": [
        {
          "output_type": "execute_result",
          "data": {
            "text/plain": [
              "False"
            ]
          },
          "metadata": {},
          "execution_count": 34
        }
      ]
    },
    {
      "cell_type": "code",
      "source": [
        "5 not in [1,2,3,4,5]"
      ],
      "metadata": {
        "colab": {
          "base_uri": "https://localhost:8080/"
        },
        "id": "Ser0FaZffcMJ",
        "outputId": "3c9420a8-d740-479d-c7d1-620552467fa4"
      },
      "execution_count": 35,
      "outputs": [
        {
          "output_type": "execute_result",
          "data": {
            "text/plain": [
              "False"
            ]
          },
          "metadata": {},
          "execution_count": 35
        }
      ]
    },
    {
      "cell_type": "code",
      "source": [
        "#삼항 연산자 --> if한후에 봐야 함. 항이 3개\n",
        "\n",
        "# 참 if     조건식      else 거짓  (조건식을 만족하면 참 실행, 조건식 만족않하면 거짓싷행)\n",
        "\n",
        "1 if 1>2 else 2 # 조건식이 if 1>2 else, 만족하면 1, 만족하지 않으면 2\n",
        "\n",
        "\n"
      ],
      "metadata": {
        "colab": {
          "base_uri": "https://localhost:8080/"
        },
        "id": "Fju7wilPfkL5",
        "outputId": "c47a3015-c405-4419-c61a-b108a333c0de"
      },
      "execution_count": 36,
      "outputs": [
        {
          "output_type": "execute_result",
          "data": {
            "text/plain": [
              "2"
            ]
          },
          "metadata": {},
          "execution_count": 36
        }
      ]
    },
    {
      "cell_type": "code",
      "source": [
        "n = int(input('10~99 사이의 정수를 입력하세요>>>'))\n",
        "print(f'십의 자리:{n//10}')\n",
        "print(f'일의 자리:{n%10}')\n"
      ],
      "metadata": {
        "colab": {
          "base_uri": "https://localhost:8080/"
        },
        "id": "g-b4aIXfi2AV",
        "outputId": "09b9cdd5-61f8-473b-bfd0-323562699664"
      },
      "execution_count": 38,
      "outputs": [
        {
          "output_type": "stream",
          "name": "stdout",
          "text": [
            "10~99 사이의 정수를 입력하세요>>>34\n",
            "십의 자리:3\n",
            "일의 자리:4\n"
          ]
        }
      ]
    },
    {
      "cell_type": "code",
      "source": [
        "#시간 60초*60분\n",
        "si=60*60\n",
        "#분은 60초\n",
        "bun=60\n",
        "\n",
        "second = int(input('초를 입력하세요>>>'))\n",
        "print(f'변환 결과는 {second//3600}시간 {(second%3600)//60}분 {second%60}초 입니다.')"
      ],
      "metadata": {
        "colab": {
          "base_uri": "https://localhost:8080/"
        },
        "id": "hi-T70CJjkmi",
        "outputId": "61deb30d-2e4e-4766-86da-6a39e7b23c4a"
      },
      "execution_count": 49,
      "outputs": [
        {
          "output_type": "stream",
          "name": "stdout",
          "text": [
            "초를 입력하세요>>>3690\n",
            "변환 결과는 1시간 1분 30초 입니다.\n"
          ]
        }
      ]
    },
    {
      "cell_type": "code",
      "source": [
        "no=int(input('4자리 사원번호를 입력하세요>>>'))\n",
        "no_last = no % 10\n",
        "is_am=no_last >= 5\n",
        "print(f'근무 시간은 {(\"오전\" if is_am else \"오후\")}입니다.')\n",
        "#'오전' if (sawon%100) > 5 else '오후'"
      ],
      "metadata": {
        "colab": {
          "base_uri": "https://localhost:8080/"
        },
        "id": "bADkJBmgoSEw",
        "outputId": "d7b2b5cb-6678-457d-97e6-84cf10aaea51"
      },
      "execution_count": 61,
      "outputs": [
        {
          "output_type": "stream",
          "name": "stdout",
          "text": [
            "4자리 사원번호를 입력하세요>>>1255\n",
            "근무 시간은 오전입니다.\n"
          ]
        }
      ]
    }
  ]
}