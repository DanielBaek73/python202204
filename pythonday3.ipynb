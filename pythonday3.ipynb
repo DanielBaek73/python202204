{
  "nbformat": 4,
  "nbformat_minor": 0,
  "metadata": {
    "colab": {
      "name": "pythonday3.ipynb",
      "provenance": [],
      "authorship_tag": "ABX9TyPKnKyv/wwBif3qJEjswwMI",
      "include_colab_link": true
    },
    "kernelspec": {
      "name": "python3",
      "display_name": "Python 3"
    },
    "language_info": {
      "name": "python"
    }
  },
  "cells": [
    {
      "cell_type": "markdown",
      "metadata": {
        "id": "view-in-github",
        "colab_type": "text"
      },
      "source": [
        "<a href=\"https://colab.research.google.com/github/DanielBaek73/python202204/blob/main/pythonday3.ipynb\" target=\"_parent\"><img src=\"https://colab.research.google.com/assets/colab-badge.svg\" alt=\"Open In Colab\"/></a>"
      ]
    },
    {
      "cell_type": "code",
      "execution_count": 8,
      "metadata": {
        "colab": {
          "base_uri": "https://localhost:8080/"
        },
        "id": "G9eJpp-uEpFs",
        "outputId": "69609936-39d3-4c1c-98cf-48c21b73c15a"
      },
      "outputs": [
        {
          "output_type": "stream",
          "name": "stdout",
          "text": [
            "423432\n",
            "당신이 입력한 수는 423432입니다.\n"
          ]
        }
      ],
      "source": [
        "#p62 표준입력\n",
        "#input()함수는 키보드로 입력을 받을떄 사용된다.\n",
        "\n",
        "n = input()\n",
        "print(f'당신이 입력한 수는 {n}입니다.')\n"
      ]
    },
    {
      "cell_type": "code",
      "source": [
        "name = input('이름을 입력하세요 >>>')\n",
        "age = input('나이를 입력하세요 >>>')\n",
        "\n",
        "print('입력된 이름은 {}입니다'.format(name))\n",
        "print(f'입력된 나이는 {age}살입니다') #붙여서 사용한다."
      ],
      "metadata": {
        "colab": {
          "base_uri": "https://localhost:8080/"
        },
        "id": "oouttbwcJQUa",
        "outputId": "2e66a73b-1e54-4b20-ce42-a61e1c12baf2"
      },
      "execution_count": 7,
      "outputs": [
        {
          "output_type": "stream",
          "name": "stdout",
          "text": [
            "이름을 입력하세요 >>>sda\n",
            "나이를 입력하세요 >>>2\n",
            "입력된 이름은 sda입니다\n",
            "입력된 나이는 2살입니다\n"
          ]
        }
      ]
    },
    {
      "cell_type": "code",
      "source": [
        "#좋아하는 과일은?\n",
        "#당신이 좋아하는 과일은 ....입니다.\n",
        "fruit = input('좋아하는 과일은?')\n",
        "print(f'당신이 좋아하는 과일은 {fruit}입니다.')"
      ],
      "metadata": {
        "colab": {
          "base_uri": "https://localhost:8080/"
        },
        "id": "u4yiWl4vKF8-",
        "outputId": "f24611bf-9370-42fb-8152-810f9bbd8141"
      },
      "execution_count": 9,
      "outputs": [
        {
          "output_type": "stream",
          "name": "stdout",
          "text": [
            "좋아하는 과일은?체리\n",
            "당신이 좋아하는 과일은 체리입니다.\n"
          ]
        }
      ]
    },
    {
      "cell_type": "code",
      "source": [
        "n = input('정수를 입력하세요 >>>') #input으로 입력받은것은 string(문자)이다.\n",
        "print(type(n))"
      ],
      "metadata": {
        "colab": {
          "base_uri": "https://localhost:8080/"
        },
        "id": "dlc5XMq0KykD",
        "outputId": "3aacf4a7-4bfb-498d-8702-0237944830e0"
      },
      "execution_count": 10,
      "outputs": [
        {
          "output_type": "stream",
          "name": "stdout",
          "text": [
            "정수를 입력하세요 >>>33\n",
            "<class 'str'>\n"
          ]
        }
      ]
    },
    {
      "cell_type": "code",
      "source": [
        "price = 5000\n",
        "#n = input('할부 개월 입력 >>>')\n",
        "n = int(input('할부 개월 입력 >>>')) #정수형으로 형변환\n",
        "\n",
        "print(f'매달 내는 돈은 {price / n}원 입니다.')\n"
      ],
      "metadata": {
        "colab": {
          "base_uri": "https://localhost:8080/"
        },
        "id": "_d9Qex3MLVZG",
        "outputId": "ee941715-5885-49a5-8400-84123ca40426"
      },
      "execution_count": 12,
      "outputs": [
        {
          "output_type": "stream",
          "name": "stdout",
          "text": [
            "할부 개월 입력 >>>12\n",
            "매달 내는 돈은 416.6666666666667원 입니다.\n"
          ]
        }
      ]
    },
    {
      "cell_type": "code",
      "source": [
        "n = float(input('첫번째 실수를 입력하세요>>>'))\n",
        "p = float(input('두번째 실수를 입력하세요>>>'))\n",
        "print(f'{n}와 {p}의 합은 {n+p}입니다.')"
      ],
      "metadata": {
        "colab": {
          "base_uri": "https://localhost:8080/"
        },
        "id": "C-qSGHDWMLTd",
        "outputId": "021d4ebb-72a6-4d47-b694-8bd468d10ae5"
      },
      "execution_count": 13,
      "outputs": [
        {
          "output_type": "stream",
          "name": "stdout",
          "text": [
            "첫번쨰 실수를 입력하세요>>>1.23\n",
            "두번쨰 실수를 입력하세요>>>2.34\n",
            "1.23와2.34의 합은3.57입니다.\n"
          ]
        }
      ]
    },
    {
      "cell_type": "code",
      "source": [
        "#d={'1':'31','2':'28','3':'30','4':'30','5':'31','6':'31'}\n",
        "month=[31,28,31,30,31,30,31,31,30,31,30,31]\n",
        "n = int(input('1~12 사이의 월을 입력하세요>>>'))\n",
        "print(f'{n}월은 {month[n-1]}일 까지 있습니다.')"
      ],
      "metadata": {
        "colab": {
          "base_uri": "https://localhost:8080/"
        },
        "id": "PGO5mAM7Mr4i",
        "outputId": "89ddc6b8-fd3f-4b3b-d212-c50a6180fde3"
      },
      "execution_count": 15,
      "outputs": [
        {
          "output_type": "stream",
          "name": "stdout",
          "text": [
            "1~12 사이의 월을 입력하세요>>>5\n",
            "5월은 31일까지 있습니다.\n"
          ]
        }
      ]
    },
    {
      "cell_type": "code",
      "source": [
        "english_dict = {\n",
        "    'flower':'꽃',\n",
        "    'fly':'날다',\n",
        "    'floor':'바닥'\n",
        "}\n",
        "n = input('영업 단어를 입력하세요>>>')\n",
        "print(f'{n}:{english_dict[n]}')\n"
      ],
      "metadata": {
        "colab": {
          "base_uri": "https://localhost:8080/"
        },
        "id": "ybMUOwhjQJgs",
        "outputId": "c45d5156-27d8-4460-8c0e-6888a92c0cbf"
      },
      "execution_count": 18,
      "outputs": [
        {
          "output_type": "stream",
          "name": "stdout",
          "text": [
            "영업 단어를 입력하세요>>>fly\n",
            "fly:날다\n"
          ]
        }
      ]
    },
    {
      "cell_type": "code",
      "source": [
        "s=set()\n",
        "w = input('희망하는 수학여행지를 입력하세요>>>')\n",
        "s.add(w)\n",
        "w = input('희망하는 수학여행지를 입력하세요>>>')\n",
        "s.add(w)\n",
        "w = input('희망하는 수학여행지를 입력하세요>>>')\n",
        "s.add(w)\n",
        "print(f'조사된 수학여행지는 {s}입니다. ')"
      ],
      "metadata": {
        "colab": {
          "base_uri": "https://localhost:8080/"
        },
        "id": "sXEDhX25SJao",
        "outputId": "ee7e3ea4-53bd-4feb-9e4f-d307babf4803"
      },
      "execution_count": 19,
      "outputs": [
        {
          "output_type": "stream",
          "name": "stdout",
          "text": [
            "희망하는 수학여행지를 입력하세요>>>제주\n",
            "희망하는 수학여행지를 입력하세요>>>제주\n",
            "희망하는 수학여행지를 입력하세요>>>민속촌\n",
            "조사된 수학여행지는 {'민속촌', '제주'}입니다. \n"
          ]
        }
      ]
    }
  ]
}