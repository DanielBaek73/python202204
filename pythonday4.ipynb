{
  "nbformat": 4,
  "nbformat_minor": 0,
  "metadata": {
    "colab": {
      "name": "pythonday4.ipynb",
      "provenance": [],
      "authorship_tag": "ABX9TyP++J4jLl/LSJI1idssMx2j",
      "include_colab_link": true
    },
    "kernelspec": {
      "name": "python3",
      "display_name": "Python 3"
    },
    "language_info": {
      "name": "python"
    }
  },
  "cells": [
    {
      "cell_type": "markdown",
      "metadata": {
        "id": "view-in-github",
        "colab_type": "text"
      },
      "source": [
        "<a href=\"https://colab.research.google.com/github/DanielBaek73/python202204/blob/main/pythonday4.ipynb\" target=\"_parent\"><img src=\"https://colab.research.google.com/assets/colab-badge.svg\" alt=\"Open In Colab\"/></a>"
      ]
    },
    {
      "cell_type": "code",
      "execution_count": 4,
      "metadata": {
        "colab": {
          "base_uri": "https://localhost:8080/"
        },
        "id": "r2hhLCeiVr98",
        "outputId": "c35d1600-c4cf-4d85-ca74-7a0b996c5271"
      },
      "outputs": [
        {
          "output_type": "stream",
          "name": "stdout",
          "text": [
            "양수\n",
            "양수\n"
          ]
        }
      ],
      "source": [
        "#p90 조건문\n",
        "\n",
        "# IF문 - 특정 조건을 만족하는지 여부에 따라 실행하는 코드가 달라져야 할때 사용된다.\n",
        "\n",
        "#예시\n",
        "a = 5\n",
        "if a  > 0: # \":\"을 ~하면으로 해석, 들여쓰기가 중요함\n",
        "  print('양수') #들여쓰기가 중요함(2칸(탭)),4칸(권장))\n",
        "\n",
        "if True:\n",
        "  print('양수')"
      ]
    },
    {
      "cell_type": "code",
      "source": [
        "#94p IF~ELSE\n",
        "a=-5\n",
        "if a>=0:\n",
        "  print('양수')\n",
        "else:\n",
        "  print('음수')  "
      ],
      "metadata": {
        "colab": {
          "base_uri": "https://localhost:8080/"
        },
        "id": "KqxFWpaAdU0D",
        "outputId": "ea95b2ce-da78-423b-e1c5-3c6f3f3df7cf"
      },
      "execution_count": 5,
      "outputs": [
        {
          "output_type": "stream",
          "name": "stdout",
          "text": [
            "음수\n"
          ]
        }
      ]
    },
    {
      "cell_type": "code",
      "source": [
        "age=int(input('몇 살입니까>>>>'))\n",
        "if age >= 20:\n",
        "  print('성인')\n",
        "else:\n",
        "  print('미성년자')  "
      ],
      "metadata": {
        "colab": {
          "base_uri": "https://localhost:8080/"
        },
        "id": "djD-jpNjfI8l",
        "outputId": "3261a222-4057-4133-8120-2ed03ef41ada"
      },
      "execution_count": 6,
      "outputs": [
        {
          "output_type": "stream",
          "name": "stdout",
          "text": [
            "몇 살입니까>>>>21\n",
            "성인\n"
          ]
        }
      ]
    },
    {
      "cell_type": "code",
      "source": [
        ""
      ],
      "metadata": {
        "id": "n4dJALYUfkXQ"
      },
      "execution_count": null,
      "outputs": []
    }
  ]
}