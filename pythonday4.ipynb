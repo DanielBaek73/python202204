{
  "nbformat": 4,
  "nbformat_minor": 0,
  "metadata": {
    "colab": {
      "name": "pythonday4.ipynb",
      "provenance": [],
      "authorship_tag": "ABX9TyPB52GjwBROOq6bgc5IhNM9",
      "include_colab_link": true
    },
    "kernelspec": {
      "name": "python3",
      "display_name": "Python 3"
    },
    "language_info": {
      "name": "python"
    }
  },
  "cells": [
    {
      "cell_type": "markdown",
      "metadata": {
        "id": "view-in-github",
        "colab_type": "text"
      },
      "source": [
        "<a href=\"https://colab.research.google.com/github/DanielBaek73/python202204/blob/main/pythonday4.ipynb\" target=\"_parent\"><img src=\"https://colab.research.google.com/assets/colab-badge.svg\" alt=\"Open In Colab\"/></a>"
      ]
    },
    {
      "cell_type": "code",
      "execution_count": 4,
      "metadata": {
        "colab": {
          "base_uri": "https://localhost:8080/"
        },
        "id": "r2hhLCeiVr98",
        "outputId": "c35d1600-c4cf-4d85-ca74-7a0b996c5271"
      },
      "outputs": [
        {
          "output_type": "stream",
          "name": "stdout",
          "text": [
            "양수\n",
            "양수\n"
          ]
        }
      ],
      "source": [
        "#p90 조건문\n",
        "\n",
        "# IF문 - 특정 조건을 만족하는지 여부에 따라 실행하는 코드가 달라져야 할때 사용된다.\n",
        "\n",
        "#예시\n",
        "a = 5\n",
        "if a  > 0: # \":\"을 ~하면으로 해석, 들여쓰기가 중요함\n",
        "  print('양수') #들여쓰기가 중요함(2칸(탭)),4칸(권장))\n",
        "\n",
        "if True:\n",
        "  print('양수')"
      ]
    },
    {
      "cell_type": "code",
      "source": [
        "#94p IF~ELSE문\n",
        "a=-5\n",
        "if a>=0:\n",
        "  print('양수')\n",
        "else:\n",
        "  print('음수')  "
      ],
      "metadata": {
        "colab": {
          "base_uri": "https://localhost:8080/"
        },
        "id": "KqxFWpaAdU0D",
        "outputId": "ea95b2ce-da78-423b-e1c5-3c6f3f3df7cf"
      },
      "execution_count": 5,
      "outputs": [
        {
          "output_type": "stream",
          "name": "stdout",
          "text": [
            "음수\n"
          ]
        }
      ]
    },
    {
      "cell_type": "code",
      "source": [
        "age=int(input('몇 살입니까>>>>'))\n",
        "if age >= 20:\n",
        "  print('성인')\n",
        "else:\n",
        "  print('미성년자')  "
      ],
      "metadata": {
        "colab": {
          "base_uri": "https://localhost:8080/"
        },
        "id": "djD-jpNjfI8l",
        "outputId": "3261a222-4057-4133-8120-2ed03ef41ada"
      },
      "execution_count": 6,
      "outputs": [
        {
          "output_type": "stream",
          "name": "stdout",
          "text": [
            "몇 살입니까>>>>21\n",
            "성인\n"
          ]
        }
      ]
    },
    {
      "cell_type": "code",
      "source": [
        "#96p IF - ELIF(ELSE IF)문 //경우의 수가 3개일경우\n",
        "important = 90\n",
        "if important >=100:\n",
        "  print('상')\n",
        "else:       # 중첩함수\n",
        "  if important >= 50:\n",
        "    print('중')\n",
        "  else:\n",
        "    print('하')\n",
        "\n",
        "\n",
        "#경우의 수가 5개(멀티)일 경우에는 권장  \n",
        "score = int(input('점수를 입력하세요>>>'))\n",
        "if score >= 90:\n",
        "  print('A') #걸리면 여기서 끝남\n",
        "elif score >= 80:\n",
        "  print('B')\n",
        "elif score >= 70:\n",
        "  print('C')\n",
        "elif score >= 60:\n",
        "  print('D')\n",
        "else:\n",
        "  print('F')\n",
        "\n",
        "\n",
        "# 코드 개선, 중복된것은 제거\n",
        "score = int(input('점수를 입력하세요>>>'))\n",
        "if score >= 90:\n",
        "  hak = 'A' \n",
        "elif score >= 80:\n",
        "  hak = 'B'\n",
        "elif score >= 70:\n",
        "  hak = 'C'\n",
        "elif score >= 60:\n",
        "  hak = 'D'\n",
        "else:\n",
        "  hak = 'F'  \n",
        "\n",
        "print(f'점수는 {score}점이고, 학점은 {hak}학점입니다.')"
      ],
      "metadata": {
        "colab": {
          "base_uri": "https://localhost:8080/"
        },
        "id": "n4dJALYUfkXQ",
        "outputId": "1f1424d8-ec8f-433a-e51b-2046784c0265"
      },
      "execution_count": 21,
      "outputs": [
        {
          "output_type": "stream",
          "name": "stdout",
          "text": [
            "중\n",
            "점수를 입력하세요>>>21\n",
            "F\n",
            "점수를 입력하세요>>>21\n",
            "점수는21점이고, 학점은 F학점입니다.\n"
          ]
        }
      ]
    },
    {
      "cell_type": "code",
      "source": [
        "#개선전\n",
        "score = int(input('점수를 입력하세요>>>'))  #input은 문자이기때문에 형변환으로 해야한다.\n",
        "if score >= 90 and score <= 100:\n",
        "  print('A') #걸리면 여기서 끝남\n",
        "elif score  >= 80 and score <90:\n",
        "  print('B')\n",
        "elif score >= 70 and score < 80:\n",
        "  print('C')\n",
        "elif score >= 60 and score < 70:\n",
        "  print('D')\n",
        "else:\n",
        "  print('F')"
      ],
      "metadata": {
        "colab": {
          "base_uri": "https://localhost:8080/"
        },
        "id": "LofkwONagiHP",
        "outputId": "41785d2c-61bd-42a4-a0ed-eb942ef9d6e8"
      },
      "execution_count": 15,
      "outputs": [
        {
          "output_type": "stream",
          "name": "stdout",
          "text": [
            "점수를 입력하세요>>>45\n",
            "F\n"
          ]
        }
      ]
    },
    {
      "cell_type": "code",
      "source": [
        "no = int(input('정수를 입력하세요>>>'))\n",
        "analy = no%3\n",
        "if analy == 0:\n",
        "  print(f'{no}는 3의 배수입니다.')\n",
        "else:\n",
        "  print(f'{no}는 3의 배수가 아닙니다')\n",
        "\n",
        "#개선코드\n",
        "num = int(input('정수를 입력하세요>>>'))\n",
        "if num % 3 == 0:\n",
        "  print(f'{num}은 3의 배수이다.')\n",
        "else:\n",
        "  print(f'{num}은 3의 배수가 아니다.')"
      ],
      "metadata": {
        "colab": {
          "base_uri": "https://localhost:8080/"
        },
        "id": "pPhezPp0i-64",
        "outputId": "99cb7ec5-1b90-4015-8074-f32cf8f9a2a5"
      },
      "execution_count": 23,
      "outputs": [
        {
          "output_type": "stream",
          "name": "stdout",
          "text": [
            "정수를 입력하세요>>>14\n",
            "14는 3의 배수가 아닙니다\n",
            "정수를 입력하세요>>>15\n",
            "15은 3의 배수이다.\n"
          ]
        }
      ]
    },
    {
      "cell_type": "code",
      "source": [
        "s=[]\n",
        "no = int(input('정수1을 입력하세요>>>'))\n",
        "s.append(no)\n",
        "no = int(input('정수2을 입력하세요>>>'))\n",
        "s.append(no)\n",
        "no = int(input('정수3을 입력하세요>>>'))\n",
        "s.append(no)\n",
        "#print(s)\n",
        "\n",
        "s=[]\n",
        "no = int(input('정수1을 입력하세요>>>'))\n",
        "no1 = int(input('정수2을 입력하세요>>>'))\n",
        "no2 = int(input('정수3을 입력하세요>>>'))\n",
        "\n",
        "if no > no1 and no > no2:\n",
        "  best = 'no'\n",
        "elif no1 > no and no1 > no2:\n",
        "  best = 'no1'\n",
        "else:\n",
        "  best = 'no2'\n",
        "\n",
        "print(f'{best}')\n",
        "\n",
        "\n",
        "#정승호(X)\n",
        "a = \n",
        "b=\n",
        "c=\n",
        "if a>b>c:\n",
        "elif b>a>c:\n",
        "else:\n",
        "\n",
        "#조형원(O)\n",
        "no1 = int(input('정수1입력'))\n",
        "no2 = int(input('정수2입력'))\n",
        "no3 = int(input('정수3입력'))\n",
        "if no1 > no2 and no2 > no3:\n",
        "  result = no1\n",
        "elif no3 > no2 and no2 > no1:\n",
        "  result = no3\n",
        "else:\n",
        "  result = no2\n",
        "print(f'가장큰수는{result}입니다.')\n",
        "\n",
        "\n",
        "\n",
        "\n",
        "#개선코드(강사)\n",
        "no1 = int(input('정수1입력'))\n",
        "no2 = int(input('정수2입력'))\n",
        "no3 = int(input('정수3입력'))\n",
        "\n",
        "print(f'가장큰수는 {max(no1,no2,no3)}입니다.')\n",
        "\n"
      ],
      "metadata": {
        "colab": {
          "base_uri": "https://localhost:8080/"
        },
        "id": "PQtNCKbcj0k_",
        "outputId": "c45a6e50-3363-4050-fde0-0a0912a92359"
      },
      "execution_count": 22,
      "outputs": [
        {
          "output_type": "stream",
          "name": "stdout",
          "text": [
            "정수1을 입력하세요>>>1\n",
            "정수2을 입력하세요>>>2\n",
            "정수3을 입력하세요>>>3\n",
            "[1, 2, 3]\n"
          ]
        }
      ]
    },
    {
      "cell_type": "code",
      "source": [
        "car_num = input('차량번호를 입력하세요>>>')\n",
        "sl_num=int(car_num[-1])\n",
        "if sl_num % 2 == 0:\n",
        "  result='운행가능'\n",
        "else:\n",
        "  result='운행불가능'\n",
        "print(f'차량번호 {car_num}은 {result}입니다.' )    \n"
      ],
      "metadata": {
        "colab": {
          "base_uri": "https://localhost:8080/"
        },
        "id": "Qi7xIHxJlN_b",
        "outputId": "dde7b2b2-dd7e-4833-ebaa-8933ac900f7b"
      },
      "execution_count": 32,
      "outputs": [
        {
          "output_type": "stream",
          "name": "stdout",
          "text": [
            "차량번호를 입력하세요>>>237가1234\n",
            "차량번호 237가1234은 운행가능입니다.\n"
          ]
        }
      ]
    },
    {
      "cell_type": "code",
      "source": [
        ""
      ],
      "metadata": {
        "id": "EuQTFgQisP_6"
      },
      "execution_count": null,
      "outputs": []
    }
  ]
}