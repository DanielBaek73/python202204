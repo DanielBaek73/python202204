{
  "nbformat": 4,
  "nbformat_minor": 0,
  "metadata": {
    "colab": {
      "name": "지니1~50.ipynb",
      "provenance": [],
      "authorship_tag": "ABX9TyN7hDfBdDSzoGKPbXDqZx1f",
      "include_colab_link": true
    },
    "kernelspec": {
      "name": "python3",
      "display_name": "Python 3"
    },
    "language_info": {
      "name": "python"
    }
  },
  "cells": [
    {
      "cell_type": "markdown",
      "metadata": {
        "id": "view-in-github",
        "colab_type": "text"
      },
      "source": [
        "<a href=\"https://colab.research.google.com/github/DanielBaek73/python202204/blob/main/%EC%A7%80%EB%8B%881~50.ipynb\" target=\"_parent\"><img src=\"https://colab.research.google.com/assets/colab-badge.svg\" alt=\"Open In Colab\"/></a>"
      ]
    },
    {
      "cell_type": "code",
      "execution_count": 1,
      "metadata": {
        "colab": {
          "base_uri": "https://localhost:8080/"
        },
        "id": "YOl07i3-j6eZ",
        "outputId": "1951a079-adca-4552-ffd1-716a3c129387"
      },
      "outputs": [
        {
          "output_type": "stream",
          "name": "stdout",
          "text": [
            "Requirement already satisfied: selenium in /usr/local/lib/python3.7/dist-packages (4.1.5)\n",
            "Requirement already satisfied: trio-websocket~=0.9 in /usr/local/lib/python3.7/dist-packages (from selenium) (0.9.2)\n",
            "Requirement already satisfied: trio~=0.17 in /usr/local/lib/python3.7/dist-packages (from selenium) (0.20.0)\n",
            "Requirement already satisfied: urllib3[secure,socks]~=1.26 in /usr/local/lib/python3.7/dist-packages (from selenium) (1.26.9)\n",
            "Requirement already satisfied: idna in /usr/local/lib/python3.7/dist-packages (from trio~=0.17->selenium) (2.10)\n",
            "Requirement already satisfied: attrs>=19.2.0 in /usr/local/lib/python3.7/dist-packages (from trio~=0.17->selenium) (21.4.0)\n",
            "Requirement already satisfied: async-generator>=1.9 in /usr/local/lib/python3.7/dist-packages (from trio~=0.17->selenium) (1.10)\n",
            "Requirement already satisfied: sniffio in /usr/local/lib/python3.7/dist-packages (from trio~=0.17->selenium) (1.2.0)\n",
            "Requirement already satisfied: sortedcontainers in /usr/local/lib/python3.7/dist-packages (from trio~=0.17->selenium) (2.4.0)\n",
            "Requirement already satisfied: outcome in /usr/local/lib/python3.7/dist-packages (from trio~=0.17->selenium) (1.1.0)\n",
            "Requirement already satisfied: wsproto>=0.14 in /usr/local/lib/python3.7/dist-packages (from trio-websocket~=0.9->selenium) (1.1.0)\n",
            "Requirement already satisfied: PySocks!=1.5.7,<2.0,>=1.5.6 in /usr/local/lib/python3.7/dist-packages (from urllib3[secure,socks]~=1.26->selenium) (1.7.1)\n",
            "Requirement already satisfied: cryptography>=1.3.4 in /usr/local/lib/python3.7/dist-packages (from urllib3[secure,socks]~=1.26->selenium) (37.0.2)\n",
            "Requirement already satisfied: pyOpenSSL>=0.14 in /usr/local/lib/python3.7/dist-packages (from urllib3[secure,socks]~=1.26->selenium) (22.0.0)\n",
            "Requirement already satisfied: certifi in /usr/local/lib/python3.7/dist-packages (from urllib3[secure,socks]~=1.26->selenium) (2021.10.8)\n",
            "Requirement already satisfied: cffi>=1.12 in /usr/local/lib/python3.7/dist-packages (from cryptography>=1.3.4->urllib3[secure,socks]~=1.26->selenium) (1.15.0)\n",
            "Requirement already satisfied: pycparser in /usr/local/lib/python3.7/dist-packages (from cffi>=1.12->cryptography>=1.3.4->urllib3[secure,socks]~=1.26->selenium) (2.21)\n",
            "Requirement already satisfied: h11<1,>=0.9.0 in /usr/local/lib/python3.7/dist-packages (from wsproto>=0.14->trio-websocket~=0.9->selenium) (0.13.0)\n",
            "Requirement already satisfied: typing-extensions in /usr/local/lib/python3.7/dist-packages (from h11<1,>=0.9.0->wsproto>=0.14->trio-websocket~=0.9->selenium) (4.2.0)\n",
            "Hit:1 https://developer.download.nvidia.com/compute/cuda/repos/ubuntu1804/x86_64  InRelease\n",
            "Hit:2 https://cloud.r-project.org/bin/linux/ubuntu bionic-cran40/ InRelease\n",
            "Ign:3 https://developer.download.nvidia.com/compute/machine-learning/repos/ubuntu1804/x86_64  InRelease\n",
            "Hit:4 https://developer.download.nvidia.com/compute/machine-learning/repos/ubuntu1804/x86_64  Release\n",
            "Hit:5 http://archive.ubuntu.com/ubuntu bionic InRelease\n",
            "Hit:6 http://security.ubuntu.com/ubuntu bionic-security InRelease\n",
            "Hit:7 http://archive.ubuntu.com/ubuntu bionic-updates InRelease\n",
            "Hit:8 http://ppa.launchpad.net/c2d4u.team/c2d4u4.0+/ubuntu bionic InRelease\n",
            "Hit:9 http://archive.ubuntu.com/ubuntu bionic-backports InRelease\n",
            "Hit:10 http://ppa.launchpad.net/cran/libgit2/ubuntu bionic InRelease\n",
            "Hit:12 http://ppa.launchpad.net/deadsnakes/ppa/ubuntu bionic InRelease\n",
            "Hit:13 http://ppa.launchpad.net/graphics-drivers/ppa/ubuntu bionic InRelease\n",
            "Reading package lists... Done\n",
            "Reading package lists... Done\n",
            "Building dependency tree       \n",
            "Reading state information... Done\n",
            "chromium-chromedriver is already the newest version (100.0.4896.127-0ubuntu0.18.04.1).\n",
            "The following packages were automatically installed and are no longer required:\n",
            "  libnvidia-common-460 nsight-compute-2020.2.0\n",
            "Use 'apt autoremove' to remove them.\n",
            "0 upgraded, 0 newly installed, 0 to remove and 50 not upgraded.\n",
            "cp: missing destination file operand after '/usr/lib/chromium-browser/chromedriver/usr/bin'\n",
            "Try 'cp --help' for more information.\n"
          ]
        }
      ],
      "source": [
        "\n",
        "!pip install selenium\n",
        "!apt-get update\n",
        "!apt install chromium-chromedriver\n",
        "!cp /usr/lib/chromium-browser/chromedriver/usr/bin\n",
        "\n",
        "from selenium import webdriver\n",
        "\n",
        "options =webdriver.ChromeOptions()\n",
        "options.add_argument('--headless')\n",
        "options.add_argument('--no-sandbox')\n",
        "options.add_argument('--disable-dev-shm-usage')\n",
        "driver = webdriver.Chrome('chromedriver', options=options)\n",
        "\n"
      ]
    },
    {
      "cell_type": "code",
      "source": [
        "\n",
        "driver.get('https://www.genie.co.kr/chart/top200?ditc=D&ymd=20220506&hh=22&rtm=Y&pg=1')\n",
        "\n",
        "from bs4 import BeautifulSoup as bs     #가져온 페이지를 분석하기 용이하게 정제\n",
        "import pandas as pd  \n",
        "\n",
        "html = driver.page_source\n",
        "soup = bs(html)\n",
        "# soup"
      ],
      "metadata": {
        "id": "D9ZhMmJTkeoe"
      },
      "execution_count": 3,
      "outputs": []
    },
    {
      "cell_type": "code",
      "source": [
        "# len(soup.select('tr')) \n",
        "len(soup.select('tbody > tr')) \n",
        "songs = soup.select('tbody > tr')\n",
        "song = songs[0]   #1등곡 뽑음\n",
        "song\n"
      ],
      "metadata": {
        "colab": {
          "base_uri": "https://localhost:8080/"
        },
        "id": "V_SIZ0tNk4V7",
        "outputId": "6d9a0815-2d5d-4010-ce63-6a35c930781c"
      },
      "execution_count": 6,
      "outputs": [
        {
          "output_type": "execute_result",
          "data": {
            "text/plain": [
              "<tr class=\"list\" songid=\"96664100\">\n",
              "<td class=\"check\"><input class=\"select-check\" title=\"That That (Prod. &amp; Feat. SUGA of BTS)\" type=\"checkbox\"/></td>\n",
              "<td class=\"number\">1\n",
              "                                        \n",
              "                                    <span class=\"rank\">\n",
              "<span class=\"rank\"><span class=\"rank-none\"><span class=\"hide\">유지</span></span></span>\n",
              "</span>\n",
              "</td>\n",
              "<td><a class=\"cover\" href=\"#\" onclick=\"fnViewAlbumLayer('82662688');return false;\"><span class=\"mask\"></span><img alt=\"싸다9\" onerror=\"this.src='//image.genie.co.kr/imageg/web/common/blank_68.gif';\" src=\"//image.genie.co.kr/Y/IMAGE/IMG_ALBUM/082/662/688/82662688_1651196114166_1_140x140.JPG/dims/resize/Q_80,0\"/></a></td>\n",
              "<td class=\"link\"><a class=\"btn-basic btn-info\" href=\"#\" onclick=\"fnViewSongInfo('96664100');return false;\">곡 제목 정보 페이지</a></td>\n",
              "<td class=\"info\">\n",
              "<a class=\"title ellipsis\" href=\"#\" onclick=\"fnPlaySong('96664100','1');return false;\" title=\"재생\">\n",
              "                                        \n",
              "                                            \n",
              "                                        \n",
              "                                        \n",
              "                                        \n",
              "                                        \n",
              "                                            \n",
              "                                                That That (Prod. &amp; Feat. SUGA of BTS)</a>\n",
              "<a class=\"artist ellipsis\" href=\"#\" onclick=\"fnViewArtist('14945898');return false;\">싸이 (Psy)</a>\n",
              "<div class=\"toggle-button-box\">\n",
              "<button class=\"btn artist-etc\" onclick=\"fnRelationArtistList('96664100');\" type=\"button\">외</button>\n",
              "<ul class=\"list\" id=\"RelationArtist_96664100\"></ul>\n",
              "</div>\n",
              "<i class=\"bar\">|</i>\n",
              "<a class=\"albumtitle ellipsis\" href=\"#\" onclick=\"fnViewAlbumLayer('82662688');return false;\">싸다9</a>\n",
              "</td>\n",
              "<td class=\"btns\"><a class=\"btn-basic btn-listen\" href=\"#\" onclick=\"fnPlaySong('96664100;' ,'1'); return false;\" title=\"재생\">듣기</a></td>\n",
              "<td class=\"btns\"><a class=\"btn-basic btn-add\" href=\"#\" onclick=\"fnPlaySong('96664100;' ,'3'); return false;\" title=\"추가\">재생목록에 추가</a></td>\n",
              "<td class=\"btns\"><button class=\"btn-basic btn-album\" id=\"add_my_album_96664100\" onclick=\"fnAddMyAlbumForm('#add_my_album_96664100' , '96664100' ,10, 10);return false;\" songid=\"96664100\" type=\"button\">플레이리스트에 담기</button></td>\n",
              "<td class=\"btns\"><a class=\"btn-basic btn-down\" href=\"#\" onclick=\"fnDownSong('96664100');return false;\" title=\"다운\">다운로드</a></td>\n",
              "<td class=\"btns\">\n",
              "<div class=\"toggle-button-box lyr-mv\" id=\"list-mv_96664100\">\n",
              "<a alt=\"That That (Prod. &amp; Feat. SUGA of BTS)\" class=\"btn btn-basic btn-mv\" href=\"#\" onclick=\"fnPlayMv('96664100','3'); return false;\" title=\"뮤비\">뮤직비디오 보기</a>\n",
              "</div>\n",
              "</td>\n",
              "<td class=\"more\">\n",
              "<div class=\"toggle-button-box\">\n",
              "<button class=\"btn btn-basic btn-more\" type=\"button\">더보기</button>\n",
              "<ul class=\"list\">\n",
              "<li><a class=\"item\" href=\"#\" onclick=\"shareDo('96664100');return false;\" title=\"공유\">공유하기/음악나누기</a></li>\n",
              "<li><a class=\"item\" href=\"#\" onclick=\"fnGiftSong('96664100');return false;\" title=\"선물\">선물하기</a></li>\n",
              "</ul>\n",
              "</div>\n",
              "</td>\n",
              "</tr>"
            ]
          },
          "metadata": {},
          "execution_count": 6
        }
      ]
    },
    {
      "cell_type": "code",
      "source": [
        "title = songs[0].select('td.info > a')[0].text\n",
        "new_title = title.strip()\n",
        "print(new_title)"
      ],
      "metadata": {
        "colab": {
          "base_uri": "https://localhost:8080/"
        },
        "id": "USmQw7_OlrlD",
        "outputId": "08acd5e0-10b7-4c84-bb73-ae17b18cdd67"
      },
      "execution_count": 10,
      "outputs": [
        {
          "output_type": "stream",
          "name": "stdout",
          "text": [
            "That That (Prod. & Feat. SUGA of BTS)\n"
          ]
        }
      ]
    },
    {
      "cell_type": "code",
      "source": [
        "singer = songs[0].select('td.info > a')[1].text\n",
        "new_singer = singer.strip()\n",
        "new_singer"
      ],
      "metadata": {
        "colab": {
          "base_uri": "https://localhost:8080/",
          "height": 37
        },
        "id": "9JaQonq7kHDu",
        "outputId": "8c392fab-fbc5-430f-92f6-55ab73e2ae87"
      },
      "execution_count": 15,
      "outputs": [
        {
          "output_type": "execute_result",
          "data": {
            "text/plain": [
              "'싸이 (Psy)'"
            ],
            "application/vnd.google.colaboratory.intrinsic+json": {
              "type": "string"
            }
          },
          "metadata": {},
          "execution_count": 15
        }
      ]
    },
    {
      "cell_type": "code",
      "source": [
        "song_data = []\n",
        "rank = 1\n",
        "\n",
        "songs = soup.select('tbody > tr')\n",
        "\n",
        "for song in songs:\n",
        "  title = song.select('td.info > a')[0].text\n",
        "  new_title = title.strip()\n",
        "\n",
        "  singer = song.select('td.info > a')[1].text\n",
        "  new_singer = singer.strip()\n",
        "\n",
        "  song_data.append(['genie',rank,new_title,new_singer])\n",
        "  rank += 1\n",
        "\n",
        "song_data\n"
      ],
      "metadata": {
        "colab": {
          "base_uri": "https://localhost:8080/"
        },
        "id": "d1Jddq1on2cO",
        "outputId": "75a381a9-a8aa-4c93-d2d6-3ca7c791f46f"
      },
      "execution_count": 17,
      "outputs": [
        {
          "output_type": "execute_result",
          "data": {
            "text/plain": [
              "[['genie', 1, 'That That (Prod. & Feat. SUGA of BTS)', '싸이 (Psy)'],\n",
              " ['genie', 2, '봄여름가을겨울 (Still Life)', 'BIGBANG (빅뱅)'],\n",
              " ['genie', 3, 'LOVE DIVE', 'IVE (아이브)'],\n",
              " ['genie', 4, 'TOMBOY', '(여자)아이들'],\n",
              " ['genie', 5, '사랑인가 봐', '멜로망스 (MeloMance)'],\n",
              " ['genie', 6, 'Feel My Rhythm', 'Red Velvet (레드벨벳)'],\n",
              " ['genie', 7, '사랑은 늘 도망가', '임영웅'],\n",
              " ['genie', 8, 'LOVE me', \"BE'O (비오)\"],\n",
              " ['genie', 9, '우리들의 블루스', '임영웅'],\n",
              " ['genie', 10, 'ZOOM', '제시'],\n",
              " ['genie', 11, 'GANADARA (Feat. 아이유)', '박재범'],\n",
              " ['genie', 12, '취중고백', '김민석 (멜로망스)'],\n",
              " ['genie', 13, '나의 X에게', '경서'],\n",
              " ['genie', 14, '다시 만날 수 있을까', '임영웅'],\n",
              " ['genie', 15, 'Celeb', '싸이 (Psy)'],\n",
              " ['genie', 16, '신호등', '이무진'],\n",
              " ['genie', 17, '듣고 싶을까', 'MSG워너비 (M.O.M)'],\n",
              " ['genie', 18, 'INVU', '태연 (TAEYEON)'],\n",
              " ['genie', 19, '다정히 내 이름을 부르면', '경서예지 & 전건호'],\n",
              " ['genie', 20, '이제 나만 믿어요', '임영웅'],\n",
              " ['genie', 21, 'Stay', 'The Kid LAROI & Justin Bieber'],\n",
              " ['genie', 22, 'MY BAG', '(여자)아이들'],\n",
              " ['genie', 23, '무지개', '임영웅'],\n",
              " ['genie', 24, 'ELEVEN', 'IVE (아이브)'],\n",
              " ['genie', 25, '아버지', '임영웅'],\n",
              " ['genie',\n",
              "  26,\n",
              "  '19금\\n                                        \\n                                        \\n                                        \\n                                            \\n                                                abcdefu',\n",
              "  'GAYLE'],\n",
              " ['genie', 27, 'strawberry moon', '아이유 (IU)'],\n",
              " ['genie', 28, 'A bientot', '임영웅'],\n",
              " ['genie', 29, '회전목마 (Feat. Zion.T & 원슈타인) (Prod. by Slom)', 'sokodomo'],\n",
              " ['genie', 30, '손이 참 곱던 그대', '임영웅'],\n",
              " ['genie', 31, '사랑해 진짜', '임영웅'],\n",
              " ['genie', 32, '정이라고 하자 (Feat. 10CM)', 'BIG Naughty (서동현)'],\n",
              " ['genie', 33, '사랑역', '임영웅'],\n",
              " ['genie', 34, '감동이야 (Feat. 성시경)', '싸이 (Psy)'],\n",
              " ['genie', 35, '연애편지', '임영웅'],\n",
              " ['genie', 36, '보금자리', '임영웅'],\n",
              " ['genie', 37, '사랑해요 그대를', '임영웅'],\n",
              " ['genie', 38, '리무진 (Feat. MINO) (Prod. by GRAY)', \"BE'O (비오)\"],\n",
              " ['genie', 39, '인생찬가', '임영웅'],\n",
              " ['genie', 40, \"Stronger (What Doesn't Kill You)\", 'Kelly Clarkson'],\n",
              " ['genie', 41, 'Next Level', 'aespa'],\n",
              " ['genie', 42, '너를 생각해', '주시크 (Joosiq)'],\n",
              " ['genie', 43, '스물다섯, 스물하나', '자우림'],\n",
              " ['genie', 44, '내 손을 잡아', '아이유 (IU)'],\n",
              " ['genie', 45, '라일락', '아이유 (IU)'],\n",
              " ['genie', 46, '언제나 사랑해', '케이시 (Kassy)'],\n",
              " ['genie', 47, 'Seoul', '볼빨간사춘기'],\n",
              " ['genie', 48, 'OHAYO MY NIGHT', '디핵 (D-Hack) & PATEKO'],\n",
              " ['genie', 49, 'Dynamite', '방탄소년단'],\n",
              " ['genie', 50, '호랑수월가', '탑현']]"
            ]
          },
          "metadata": {},
          "execution_count": 17
        }
      ]
    },
    {
      "cell_type": "code",
      "source": [
        "df = pd.DataFrame(song_data,columns = ['차트명','순위','타이틀','가수'])\n",
        "df\n",
        "df.to_excel('genie1~50.xlsx',index=False)"
      ],
      "metadata": {
        "id": "p65XrCYpp3U8"
      },
      "execution_count": 18,
      "outputs": []
    }
  ]
}