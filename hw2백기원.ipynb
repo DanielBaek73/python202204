{
  "nbformat": 4,
  "nbformat_minor": 0,
  "metadata": {
    "colab": {
      "name": "hw2백기원.ipynb",
      "provenance": [],
      "authorship_tag": "ABX9TyNFpLsQ2E/HGx8Jd7GFVCJN",
      "include_colab_link": true
    },
    "kernelspec": {
      "name": "python3",
      "display_name": "Python 3"
    },
    "language_info": {
      "name": "python"
    }
  },
  "cells": [
    {
      "cell_type": "markdown",
      "metadata": {
        "id": "view-in-github",
        "colab_type": "text"
      },
      "source": [
        "<a href=\"https://colab.research.google.com/github/DanielBaek73/python202204/blob/main/hw2%EB%B0%B1%EA%B8%B0%EC%9B%90.ipynb\" target=\"_parent\"><img src=\"https://colab.research.google.com/assets/colab-badge.svg\" alt=\"Open In Colab\"/></a>"
      ]
    },
    {
      "cell_type": "code",
      "execution_count": 13,
      "metadata": {
        "colab": {
          "base_uri": "https://localhost:8080/"
        },
        "id": "VJuMGcji-a9l",
        "outputId": "a8bf4d95-4e6d-4d39-b993-82afd978e2ab"
      },
      "outputs": [
        {
          "output_type": "execute_result",
          "data": {
            "text/plain": [
              "['닥터 스트레인지', '스플릿', '럭키']"
            ]
          },
          "metadata": {},
          "execution_count": 13
        }
      ],
      "source": [
        "#051\n",
        "movie_rank = ['닥터 스트레인지','스플릿','럭키']\n",
        "movie_rank"
      ]
    },
    {
      "cell_type": "code",
      "source": [
        "#052\n",
        "movie_rank.append('배트맨')\n",
        "movie_rank"
      ],
      "metadata": {
        "colab": {
          "base_uri": "https://localhost:8080/"
        },
        "id": "8CTbO1ZT_EGS",
        "outputId": "b7f220a4-6e06-4c6c-de19-e31f0db7cc15"
      },
      "execution_count": 14,
      "outputs": [
        {
          "output_type": "execute_result",
          "data": {
            "text/plain": [
              "['닥터 스트레인지', '스플릿', '럭키', '배트맨']"
            ]
          },
          "metadata": {},
          "execution_count": 14
        }
      ]
    },
    {
      "cell_type": "code",
      "source": [
        "#053\n",
        "movie_rank.insert(1,'슈퍼맨')\n",
        "movie_rank"
      ],
      "metadata": {
        "colab": {
          "base_uri": "https://localhost:8080/"
        },
        "id": "4R5NL_9t_h8g",
        "outputId": "838197a4-463e-4025-c2a3-2903359b21ff"
      },
      "execution_count": 16,
      "outputs": [
        {
          "output_type": "execute_result",
          "data": {
            "text/plain": [
              "['닥터 스트레인지', '슈퍼맨', '스플릿', '럭키', '배트맨']"
            ]
          },
          "metadata": {},
          "execution_count": 16
        }
      ]
    },
    {
      "cell_type": "code",
      "source": [
        "#054\n",
        "movie_rank.pop(3)\n",
        "movie_rank"
      ],
      "metadata": {
        "colab": {
          "base_uri": "https://localhost:8080/"
        },
        "id": "EaizlnrGBjDs",
        "outputId": "86af812b-1ed0-4ab5-cbf9-7758b35a1dd5"
      },
      "execution_count": 17,
      "outputs": [
        {
          "output_type": "execute_result",
          "data": {
            "text/plain": [
              "['닥터 스트레인지', '슈퍼맨', '스플릿', '배트맨']"
            ]
          },
          "metadata": {},
          "execution_count": 17
        }
      ]
    },
    {
      "cell_type": "code",
      "source": [
        "#055\n",
        "movie_rank.pop(2)\n",
        "movie_rank.pop(2)\n",
        "movie_rank"
      ],
      "metadata": {
        "colab": {
          "base_uri": "https://localhost:8080/"
        },
        "id": "as8k3J8sEjA3",
        "outputId": "b0cc0564-b915-4197-931d-a4d1bf52d1b7"
      },
      "execution_count": 18,
      "outputs": [
        {
          "output_type": "execute_result",
          "data": {
            "text/plain": [
              "['닥터 스트레인지', '슈퍼맨']"
            ]
          },
          "metadata": {},
          "execution_count": 18
        }
      ]
    },
    {
      "cell_type": "code",
      "source": [
        "#056\n",
        "lang1 = [\"C\", \"C++\", \"JAVA\"]\n",
        "lang2 = [\"Python\", \"Go\", \"C#\"]\n",
        "langs = lang1 + lang2\n",
        "langs\n",
        "\n"
      ],
      "metadata": {
        "colab": {
          "base_uri": "https://localhost:8080/"
        },
        "id": "cWAZ5k0AE4Dq",
        "outputId": "d264094e-dad3-4422-8777-13e81c537f70"
      },
      "execution_count": 19,
      "outputs": [
        {
          "output_type": "execute_result",
          "data": {
            "text/plain": [
              "['C', 'C++', 'JAVA', 'Python', 'Go', 'C#']"
            ]
          },
          "metadata": {},
          "execution_count": 19
        }
      ]
    },
    {
      "cell_type": "code",
      "source": [
        "#057\n",
        "nums = [1,2,3,4,5,6,7]\n",
        "print(f'max : {max(nums)}')\n",
        "print(f'min : {min(nums)}')"
      ],
      "metadata": {
        "colab": {
          "base_uri": "https://localhost:8080/"
        },
        "id": "k8EDVvPyFRSV",
        "outputId": "a59bc327-d130-4934-d6c0-0c22a3ad8ad0"
      },
      "execution_count": 21,
      "outputs": [
        {
          "output_type": "stream",
          "name": "stdout",
          "text": [
            "max : 7\n",
            "min : 1\n"
          ]
        }
      ]
    },
    {
      "cell_type": "code",
      "source": [
        "#058\n",
        "nums = [1,2,3,4,5]\n",
        "print(f'합 : {sum(nums)}')"
      ],
      "metadata": {
        "colab": {
          "base_uri": "https://localhost:8080/"
        },
        "id": "udAhh46VUPXE",
        "outputId": "0ec95541-fce7-4a51-b421-587ce27130bc"
      },
      "execution_count": 22,
      "outputs": [
        {
          "output_type": "stream",
          "name": "stdout",
          "text": [
            "합 : 15\n"
          ]
        }
      ]
    },
    {
      "cell_type": "code",
      "source": [
        "#059\n",
        "cook = [\"피자\",\"김밥\",\"만두\",\"양념치킨\",\"족발\",\"피자\",\"김치만두\",\"쫄면\",\"쏘세지\",\"라면\",\"팥빙수\",\"김치전\"]\n",
        "len(cook)\n"
      ],
      "metadata": {
        "colab": {
          "base_uri": "https://localhost:8080/"
        },
        "id": "E660g2AuUqTY",
        "outputId": "f9eb2975-c9da-4502-bb2c-7bf7310aa881"
      },
      "execution_count": 27,
      "outputs": [
        {
          "output_type": "execute_result",
          "data": {
            "text/plain": [
              "12"
            ]
          },
          "metadata": {},
          "execution_count": 27
        }
      ]
    },
    {
      "cell_type": "code",
      "source": [
        "#060\n",
        "nums = [1,2,3,4,5]\n",
        "print(f'평균 : {sum(nums) / len(nums)}')"
      ],
      "metadata": {
        "colab": {
          "base_uri": "https://localhost:8080/"
        },
        "id": "Tu-_OGgSWTql",
        "outputId": "d60f4e3c-3ba5-4c01-8e54-33cb772c3a40"
      },
      "execution_count": 28,
      "outputs": [
        {
          "output_type": "stream",
          "name": "stdout",
          "text": [
            "평균 : 3.0\n"
          ]
        }
      ]
    },
    {
      "cell_type": "code",
      "source": [
        "#121\n",
        "i = input('문자 한개를 입력하세요>>>')\n",
        "\n",
        "if i.islower() == True:\n",
        "  print(f'입력받은 문자 : {i.upper()}')\n",
        "else:\n",
        "  print(f'입력받은 문자 : {i}')"
      ],
      "metadata": {
        "colab": {
          "base_uri": "https://localhost:8080/"
        },
        "id": "WSMsRtXzWpNP",
        "outputId": "4ca3e7e0-14fd-462f-cb5d-b2e162392f3d"
      },
      "execution_count": 46,
      "outputs": [
        {
          "output_type": "stream",
          "name": "stdout",
          "text": [
            "문자 한개를 입력하세요>>>A\n",
            "입력받은 문자 : A\n"
          ]
        }
      ]
    },
    {
      "cell_type": "code",
      "source": [
        "#122\n",
        "\n",
        "i = int(input('학점을 입력하세요>>>'))\n",
        "\n",
        "if i >= 81:\n",
        "  hak = 'A'\n",
        "elif i >= 61:\n",
        "  hak = 'B'\n",
        "elif i >= 41:\n",
        "  hak = 'C'\n",
        "elif i >= 21:\n",
        "  hak = 'D'\n",
        "else:\n",
        "  hak = 'E'\n",
        "\n",
        "print(f'입력받은 점수는 {i}점이고, 학점은 {hak}입니다.')\n",
        "\n"
      ],
      "metadata": {
        "colab": {
          "base_uri": "https://localhost:8080/"
        },
        "id": "RkLTnVSnak4u",
        "outputId": "c60d9051-f12c-4b08-8699-7484b4dd1ded"
      },
      "execution_count": 48,
      "outputs": [
        {
          "output_type": "stream",
          "name": "stdout",
          "text": [
            "학점을 입력하세요>>>47\n",
            "입력받은 점수는 47점이고, 학점은 C입니다.\n"
          ]
        }
      ]
    },
    {
      "cell_type": "code",
      "source": [
        "#123\n",
        "\n",
        "money = input('변환할 외환의 금액과 통화명을 띄워서 정확하게 입력하세요(예시 : 100 달러)>>>')\n",
        "t1 = money.split()\n",
        "t2 = int(t1[0])\n",
        "t3 = t1[1]\n",
        "\n",
        "if t3 == '달러':\n",
        "  cur = float(t2 * 1167)\n",
        "elif t3 == '엔':\n",
        "  cur = float(t2 * 1.096)\n",
        "elif t3 == '유로':\n",
        "  cur = float(t2 * 1268)\n",
        "else:\n",
        "  cur = float(t2 * 171)\n",
        "\n",
        "print(f'입력받은 외환은 {money}이고, 원화로 환전하면 {cur}원 입니다.')"
      ],
      "metadata": {
        "colab": {
          "base_uri": "https://localhost:8080/"
        },
        "id": "BBeMK1XYbsQd",
        "outputId": "8b6416f9-8362-4882-b5b5-5d1d8eaf5b89"
      },
      "execution_count": 55,
      "outputs": [
        {
          "output_type": "stream",
          "name": "stdout",
          "text": [
            "변환할 외환의 금액과 통화명을 띄워서 정확하게 입력하세요(예시 : 100 달러)>>>100 달러\n",
            "입력받은 외환은 100 달러이고, 원화로 환전하면 116700.0원 입니다.\n"
          ]
        }
      ]
    },
    {
      "cell_type": "code",
      "source": [
        "#124\n",
        "li = []\n",
        "\n",
        "cnt = 0\n",
        "while cnt < 3:\n",
        "  i = int(input('숫자를 입력하세요>>>'))\n",
        "  li.append(i)\n",
        "  cnt += 1\n",
        "\n",
        "print(f'입력받은 숫자중 가장 큰수는 {max(li)}입니다.')"
      ],
      "metadata": {
        "colab": {
          "base_uri": "https://localhost:8080/"
        },
        "id": "Dmt7sv6Pfxo_",
        "outputId": "6f18a9da-8737-42b5-8c8b-c6cd79d3d740"
      },
      "execution_count": 59,
      "outputs": [
        {
          "output_type": "stream",
          "name": "stdout",
          "text": [
            "숫자를 입력하세요>>>10\n",
            "숫자를 입력하세요>>>9\n",
            "숫자를 입력하세요>>>20\n",
            "입력받은 숫자중 가장 큰수는 20입니다.\n"
          ]
        }
      ]
    },
    {
      "cell_type": "code",
      "source": [
        "#125\n",
        "tel = input('휴대전화 번호를 입력하세요(형식:000-000-0000)>>>')\n",
        "\n",
        "if tel[2] == '1':\n",
        "  car = 'SKT'\n",
        "elif tel[2] == '6':\n",
        "  car = 'KT'\n",
        "elif tel[2] == '9':\n",
        "  car = 'LGU'\n",
        "else:\n",
        "  car = '알수없음'\n",
        "\n",
        "print(f'당신은 {car} 사용자입니다.')\n"
      ],
      "metadata": {
        "colab": {
          "base_uri": "https://localhost:8080/"
        },
        "id": "UZbzEWoShvmB",
        "outputId": "fb5df507-f32f-4f36-f00b-e5c523b0ea89"
      },
      "execution_count": 60,
      "outputs": [
        {
          "output_type": "stream",
          "name": "stdout",
          "text": [
            "휴대전화 번호를 입력하세요(형식:000-000-0000)>>>011-123-1234\n",
            "당신은 SKT 사용자입니다.\n"
          ]
        }
      ]
    },
    {
      "cell_type": "code",
      "source": [
        "#126\n",
        "upen = input('우편번호 5자리를 입력하세요>>>')\n",
        "\n",
        "if upen[2] == '0':\n",
        "  gu = '강북구'\n",
        "elif upen[2] == '1':\n",
        "  gu = '강북구'\n",
        "elif upen[2] == '2':\n",
        "  gu = '강북구'\n",
        "elif upen[2] == '3':\n",
        "  gu = '도봉구'\n",
        "elif upen[2] == '4':\n",
        "  gu = '도봉구'\n",
        "elif upen[2] == '5':\n",
        "  gu = '도봉구'\n",
        "else:\n",
        "  gu = '노원구'\n",
        "\n",
        "print(f'우편번호는 {upen}, 지역은 {gu}입니다.')\n"
      ],
      "metadata": {
        "colab": {
          "base_uri": "https://localhost:8080/"
        },
        "id": "ZeBMQUU4ixLJ",
        "outputId": "417fba68-f193-4cf6-8b28-55210f9f4bed"
      },
      "execution_count": 64,
      "outputs": [
        {
          "output_type": "stream",
          "name": "stdout",
          "text": [
            "우편번호 5자리를 입력하세요>>>01500\n",
            "우편번호는 01500, 지역은 도봉구입니다.\n"
          ]
        }
      ]
    },
    {
      "cell_type": "code",
      "source": [
        "#0127\n",
        "no = input('주민번호 13자리를 연속으로 입력하세요(0000000000000)>>>')\n",
        "\n",
        "if no[6] == '1':\n",
        "  gen = '남자'\n",
        "elif no[6] == '3':\n",
        "  gen = '남자'\n",
        "elif no[6] == '2':\n",
        "  gen = '여자'\n",
        "elif no[6] == '4':\n",
        "  gen = '여자'\n",
        "else:\n",
        "  gen = '알수없음'\n",
        "\n",
        "print(f'입력한 주민번호는 {no[0:6]}-{no[6:]}, 성별은 {gen}입니다.')\n",
        "\n"
      ],
      "metadata": {
        "colab": {
          "base_uri": "https://localhost:8080/"
        },
        "id": "dxYQ35qhm4jf",
        "outputId": "955683de-cc98-43ae-a49f-86572028cf86"
      },
      "execution_count": 70,
      "outputs": [
        {
          "output_type": "stream",
          "name": "stdout",
          "text": [
            "주민번호 13자리를 연속으로 입력하세요(0000000000000)>>>8010101635210\n",
            "입력한 주민번호는 801010-1635210, 성별은 남자입니다.\n"
          ]
        }
      ]
    },
    {
      "cell_type": "code",
      "source": [
        "#0128\n",
        "no = input('주민번호 13자리를 연속으로 입력하세요(0000000000000)>>>')\n",
        "\n",
        "if no[7:9] == '00':\n",
        "  area = '서울'\n",
        "elif no[7:9] == '01':\n",
        "  area = '서울'\n",
        "elif no[7:9] == '02':\n",
        "  area = '서울'\n",
        "elif no[7:9] == '03':\n",
        "  area = '서울'\n",
        "elif no[7:9] == '04':\n",
        "  area = '서울'\n",
        "elif no[7:9] == '05':\n",
        "  area = '서울'\n",
        "elif no[7:9] == '06':\n",
        "  area = '서울'\n",
        "elif no[7:9] == '07':\n",
        "  area = '서울'\n",
        "elif no[7:9] == '08':\n",
        "  area = '서울'\n",
        "else:\n",
        "  area = '부산'\n",
        "\n",
        "if area == '서울':\n",
        "  print(f'입력한 주민번호는 {no[0:6]}-{no[6:]}, 지역은 {area}입니다.')\n",
        "else:\n",
        "  print(f'입력한 주민번호는 {no[0:6]}-{no[6:]}, 지역은 서울이 아닙니다.')\n",
        "      "
      ],
      "metadata": {
        "colab": {
          "base_uri": "https://localhost:8080/"
        },
        "id": "YtJpwNVGpSEh",
        "outputId": "2eea559d-7f0c-4bf4-ea70-0fa74db2a459"
      },
      "execution_count": 72,
      "outputs": [
        {
          "output_type": "stream",
          "name": "stdout",
          "text": [
            "주민번호 13자리를 연속으로 입력하세요(0000000000000)>>>8610101015210\n",
            "입력한 주민번호는 861010-1015210, 지역은 서울입니다.\n"
          ]
        }
      ]
    },
    {
      "cell_type": "code",
      "source": [
        "#0129\n",
        "\n",
        "no = int(input('주민번호 13자리를 연속으로 입력하세요(0000000000000)>>>'))\n",
        "t0 = list(map(int, str(no)))\n",
        "t1 = [2,3,4,5,6,7,8,9,2,3,4,5]\n",
        "t2 = t0[0] * t1[0] + t0[1] * t1[1] + t0[2] * t1[2] + t0[3] * t1[3] + t0[4] * t1[4] + t0[5] * t1[5] + t0[6] * t1[6] + t0[7] * t1[7] + t0[8] * t1[8] + t0[9] * t1[9] + t0[10] * t1[10] + t0[11] * t1[11]\n",
        "t3 = t2 % 11\n",
        "t4 = 11 - t3\n",
        "if t0[12] == t4:\n",
        "  result = '성공'\n",
        "else:\n",
        "  result = '실패'  \n",
        "\n",
        "\n",
        "if result == '성공':\n",
        "  print(f'입력한 주민번호는 {no}, 유효합니다.')\n",
        "else:\n",
        "  print(f'입력한 주민번호는 {no}, 유효하지 않습니다.')"
      ],
      "metadata": {
        "colab": {
          "base_uri": "https://localhost:8080/"
        },
        "id": "dyawx4_Ds7tj",
        "outputId": "c02ba75b-489b-492d-db7d-c9ca9a173ddd"
      },
      "execution_count": 109,
      "outputs": [
        {
          "output_type": "stream",
          "name": "stdout",
          "text": [
            "주민번호 13자리를 연속으로 입력하세요(0000000000000)>>>8210101635210\n",
            "입력한 주민번호는 8210101635210, 유효하지 않습니다.\n"
          ]
        }
      ]
    },
    {
      "cell_type": "code",
      "source": [
        "#0130\n",
        "import requests\n",
        "btc = requests.get(\"https://api.bithumb.com/public/ticker/\").json()['data']\n",
        "opening=int(btc['opening_price']) #시작가\n",
        "closing=int(btc['closing_price']) #종가\n",
        "min=int(btc['min_price']) #최저가\n",
        "max=int(btc['max_price']) #최고가\n",
        "\n",
        "var = max - min #변동폭\n",
        "\n",
        "if (opening+var) > max:\n",
        "  print('상승장')\n",
        "else:\n",
        "  print('하락장')\n",
        "\n",
        "\n",
        "#btc\n",
        "#print('closing_price:',btc['opening_price'])\n",
        "#print(type(btc['closing_price']))\n",
        "#print('금요일 :',dict['금요일'])\n",
        "\n"
      ],
      "metadata": {
        "colab": {
          "base_uri": "https://localhost:8080/"
        },
        "id": "Y5vClPkjCc44",
        "outputId": "1e87c9f6-0b81-4654-923f-9eafa9062909"
      },
      "execution_count": 117,
      "outputs": [
        {
          "output_type": "stream",
          "name": "stdout",
          "text": [
            "상승장\n"
          ]
        }
      ]
    }
  ]
}