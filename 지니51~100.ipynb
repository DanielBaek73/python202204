{
  "nbformat": 4,
  "nbformat_minor": 0,
  "metadata": {
    "colab": {
      "name": "지니51~100.ipynb",
      "provenance": [],
      "authorship_tag": "ABX9TyMYR1RIt4Xk6HlzNS2blW/w",
      "include_colab_link": true
    },
    "kernelspec": {
      "name": "python3",
      "display_name": "Python 3"
    },
    "language_info": {
      "name": "python"
    }
  },
  "cells": [
    {
      "cell_type": "markdown",
      "metadata": {
        "id": "view-in-github",
        "colab_type": "text"
      },
      "source": [
        "<a href=\"https://colab.research.google.com/github/DanielBaek73/python202204/blob/main/%EC%A7%80%EB%8B%8851~100.ipynb\" target=\"_parent\"><img src=\"https://colab.research.google.com/assets/colab-badge.svg\" alt=\"Open In Colab\"/></a>"
      ]
    },
    {
      "cell_type": "code",
      "execution_count": 2,
      "metadata": {
        "colab": {
          "base_uri": "https://localhost:8080/"
        },
        "id": "wVF43_fNqszN",
        "outputId": "b0909e2b-84f8-4bfa-afac-14c278a1499c"
      },
      "outputs": [
        {
          "output_type": "stream",
          "name": "stdout",
          "text": [
            "Requirement already satisfied: selenium in /usr/local/lib/python3.7/dist-packages (4.1.5)\n",
            "Requirement already satisfied: trio~=0.17 in /usr/local/lib/python3.7/dist-packages (from selenium) (0.20.0)\n",
            "Requirement already satisfied: trio-websocket~=0.9 in /usr/local/lib/python3.7/dist-packages (from selenium) (0.9.2)\n",
            "Requirement already satisfied: urllib3[secure,socks]~=1.26 in /usr/local/lib/python3.7/dist-packages (from selenium) (1.26.9)\n",
            "Requirement already satisfied: async-generator>=1.9 in /usr/local/lib/python3.7/dist-packages (from trio~=0.17->selenium) (1.10)\n",
            "Requirement already satisfied: sortedcontainers in /usr/local/lib/python3.7/dist-packages (from trio~=0.17->selenium) (2.4.0)\n",
            "Requirement already satisfied: attrs>=19.2.0 in /usr/local/lib/python3.7/dist-packages (from trio~=0.17->selenium) (21.4.0)\n",
            "Requirement already satisfied: idna in /usr/local/lib/python3.7/dist-packages (from trio~=0.17->selenium) (2.10)\n",
            "Requirement already satisfied: sniffio in /usr/local/lib/python3.7/dist-packages (from trio~=0.17->selenium) (1.2.0)\n",
            "Requirement already satisfied: outcome in /usr/local/lib/python3.7/dist-packages (from trio~=0.17->selenium) (1.1.0)\n",
            "Requirement already satisfied: wsproto>=0.14 in /usr/local/lib/python3.7/dist-packages (from trio-websocket~=0.9->selenium) (1.1.0)\n",
            "Requirement already satisfied: certifi in /usr/local/lib/python3.7/dist-packages (from urllib3[secure,socks]~=1.26->selenium) (2021.10.8)\n",
            "Requirement already satisfied: pyOpenSSL>=0.14 in /usr/local/lib/python3.7/dist-packages (from urllib3[secure,socks]~=1.26->selenium) (22.0.0)\n",
            "Requirement already satisfied: cryptography>=1.3.4 in /usr/local/lib/python3.7/dist-packages (from urllib3[secure,socks]~=1.26->selenium) (37.0.2)\n",
            "Requirement already satisfied: PySocks!=1.5.7,<2.0,>=1.5.6 in /usr/local/lib/python3.7/dist-packages (from urllib3[secure,socks]~=1.26->selenium) (1.7.1)\n",
            "Requirement already satisfied: cffi>=1.12 in /usr/local/lib/python3.7/dist-packages (from cryptography>=1.3.4->urllib3[secure,socks]~=1.26->selenium) (1.15.0)\n",
            "Requirement already satisfied: pycparser in /usr/local/lib/python3.7/dist-packages (from cffi>=1.12->cryptography>=1.3.4->urllib3[secure,socks]~=1.26->selenium) (2.21)\n",
            "Requirement already satisfied: h11<1,>=0.9.0 in /usr/local/lib/python3.7/dist-packages (from wsproto>=0.14->trio-websocket~=0.9->selenium) (0.13.0)\n",
            "Requirement already satisfied: typing-extensions in /usr/local/lib/python3.7/dist-packages (from h11<1,>=0.9.0->wsproto>=0.14->trio-websocket~=0.9->selenium) (4.2.0)\n",
            "Hit:1 http://security.ubuntu.com/ubuntu bionic-security InRelease\n",
            "Hit:2 https://developer.download.nvidia.com/compute/cuda/repos/ubuntu1804/x86_64  InRelease\n",
            "Hit:3 https://cloud.r-project.org/bin/linux/ubuntu bionic-cran40/ InRelease\n",
            "Ign:4 https://developer.download.nvidia.com/compute/machine-learning/repos/ubuntu1804/x86_64  InRelease\n",
            "Hit:5 https://developer.download.nvidia.com/compute/machine-learning/repos/ubuntu1804/x86_64  Release\n",
            "Hit:6 http://ppa.launchpad.net/c2d4u.team/c2d4u4.0+/ubuntu bionic InRelease\n",
            "Hit:7 http://archive.ubuntu.com/ubuntu bionic InRelease\n",
            "Hit:8 http://archive.ubuntu.com/ubuntu bionic-updates InRelease\n",
            "Hit:9 http://ppa.launchpad.net/cran/libgit2/ubuntu bionic InRelease\n",
            "Hit:10 http://archive.ubuntu.com/ubuntu bionic-backports InRelease\n",
            "Hit:11 http://ppa.launchpad.net/deadsnakes/ppa/ubuntu bionic InRelease\n",
            "Hit:12 http://ppa.launchpad.net/graphics-drivers/ppa/ubuntu bionic InRelease\n",
            "Reading package lists... Done\n",
            "Reading package lists... Done\n",
            "Building dependency tree       \n",
            "Reading state information... Done\n",
            "chromium-chromedriver is already the newest version (100.0.4896.127-0ubuntu0.18.04.1).\n",
            "The following packages were automatically installed and are no longer required:\n",
            "  libnvidia-common-460 nsight-compute-2020.2.0\n",
            "Use 'apt autoremove' to remove them.\n",
            "0 upgraded, 0 newly installed, 0 to remove and 50 not upgraded.\n",
            "cp: missing destination file operand after '/usr/lib/chromium-browser/chromedriver/usr/bin'\n",
            "Try 'cp --help' for more information.\n"
          ]
        }
      ],
      "source": [
        "!pip install selenium\n",
        "!apt-get update\n",
        "!apt install chromium-chromedriver\n",
        "!cp /usr/lib/chromium-browser/chromedriver/usr/bin\n",
        "\n",
        "from selenium import webdriver\n",
        "\n",
        "options =webdriver.ChromeOptions()\n",
        "options.add_argument('--headless')\n",
        "options.add_argument('--no-sandbox')\n",
        "options.add_argument('--disable-dev-shm-usage')\n",
        "driver = webdriver.Chrome('chromedriver', options=options)\n",
        "\n"
      ]
    },
    {
      "cell_type": "code",
      "source": [
        "driver.get('https://www.genie.co.kr/chart/top200?ditc=D&ymd=20220506&hh=22&rtm=Y&pg=2')\n",
        "\n",
        "from bs4 import BeautifulSoup as bs     #가져온 페이지를 분석하기 용이하게 정제\n",
        "import pandas as pd  \n",
        "import re\n",
        "\n",
        "html = driver.page_source\n",
        "soup = bs(html)\n",
        "# soup"
      ],
      "metadata": {
        "id": "FmR6BtlxrGvY"
      },
      "execution_count": 3,
      "outputs": []
    },
    {
      "cell_type": "code",
      "source": [
        "len(soup.select('tbody > tr')) \n",
        "songs = soup.select('tbody > tr')\n",
        "song = songs[0]   #51등곡 뽑음\n",
        "song"
      ],
      "metadata": {
        "colab": {
          "base_uri": "https://localhost:8080/"
        },
        "id": "NFz8mUm8rV2S",
        "outputId": "291b61e0-7170-4c71-ac88-74385bb6a330"
      },
      "execution_count": 4,
      "outputs": [
        {
          "output_type": "execute_result",
          "data": {
            "text/plain": [
              "<tr class=\"list\" songid=\"93700014\">\n",
              "<td class=\"check\"><input class=\"select-check\" title=\"Weekend\" type=\"checkbox\"/></td>\n",
              "<td class=\"number\">51\n",
              "                                        \n",
              "                                    <span class=\"rank\">\n",
              "<span class=\"rank\"><span class=\"rank-none\"><span class=\"hide\">유지</span></span></span>\n",
              "</span>\n",
              "</td>\n",
              "<td><a class=\"cover\" href=\"#\" onclick=\"fnViewAlbumLayer('82126712');return false;\"><span class=\"mask\"></span><img alt=\"Weekend\" onerror=\"this.src='//image.genie.co.kr/imageg/web/common/blank_68.gif';\" src=\"//image.genie.co.kr/Y/IMAGE/IMG_ALBUM/082/126/712/82126712_1625554274209_1_140x140.JPG/dims/resize/Q_80,0\"/></a></td>\n",
              "<td class=\"link\"><a class=\"btn-basic btn-info\" href=\"#\" onclick=\"fnViewSongInfo('93700014');return false;\">곡 제목 정보 페이지</a></td>\n",
              "<td class=\"info\">\n",
              "<a class=\"title ellipsis\" href=\"#\" onclick=\"fnPlaySong('93700014','1');return false;\" title=\"재생\">\n",
              "                                        \n",
              "                                            \n",
              "                                        \n",
              "                                        \n",
              "                                        \n",
              "                                        \n",
              "                                            \n",
              "                                                Weekend</a>\n",
              "<a class=\"artist ellipsis\" href=\"#\" onclick=\"fnViewArtist('56069675');return false;\">태연 (TAEYEON)</a>\n",
              "<div class=\"toggle-button-box\">\n",
              "<button class=\"btn artist-etc\" onclick=\"fnRelationArtistList('93700014');\" type=\"button\">외</button>\n",
              "<ul class=\"list\" id=\"RelationArtist_93700014\"></ul>\n",
              "</div>\n",
              "<i class=\"bar\">|</i>\n",
              "<a class=\"albumtitle ellipsis\" href=\"#\" onclick=\"fnViewAlbumLayer('82126712');return false;\">Weekend</a>\n",
              "</td>\n",
              "<td class=\"btns\"><a class=\"btn-basic btn-listen\" href=\"#\" onclick=\"fnPlaySong('93700014;' ,'1'); return false;\" title=\"재생\">듣기</a></td>\n",
              "<td class=\"btns\"><a class=\"btn-basic btn-add\" href=\"#\" onclick=\"fnPlaySong('93700014;' ,'3'); return false;\" title=\"추가\">재생목록에 추가</a></td>\n",
              "<td class=\"btns\"><button class=\"btn-basic btn-album\" id=\"add_my_album_93700014\" onclick=\"fnAddMyAlbumForm('#add_my_album_93700014' , '93700014' ,10, 10);return false;\" songid=\"93700014\" type=\"button\">플레이리스트에 담기</button></td>\n",
              "<td class=\"btns\"><a class=\"btn-basic btn-down\" href=\"#\" onclick=\"fnDownSong('93700014');return false;\" title=\"다운\">다운로드</a></td>\n",
              "<td class=\"btns\">\n",
              "<div class=\"toggle-button-box lyr-mv\" id=\"list-mv_93700014\">\n",
              "<a alt=\"Weekend\" class=\"btn btn-basic btn-mv\" href=\"#\" onclick=\"fnPlayMv('93700014','3'); return false;\" title=\"뮤비\">뮤직비디오 보기</a>\n",
              "</div>\n",
              "</td>\n",
              "<td class=\"more\">\n",
              "<div class=\"toggle-button-box\">\n",
              "<button class=\"btn btn-basic btn-more\" type=\"button\">더보기</button>\n",
              "<ul class=\"list\">\n",
              "<li><a class=\"item\" href=\"#\" onclick=\"shareDo('93700014');return false;\" title=\"공유\">공유하기/음악나누기</a></li>\n",
              "<li><a class=\"item\" href=\"#\" onclick=\"fnGiftSong('93700014');return false;\" title=\"선물\">선물하기</a></li>\n",
              "</ul>\n",
              "</div>\n",
              "</td>\n",
              "</tr>"
            ]
          },
          "metadata": {},
          "execution_count": 4
        }
      ]
    },
    {
      "cell_type": "code",
      "source": [
        "title = songs[0].select('td.info > a')[0].text\n",
        "new_title = title.strip()\n",
        "print(new_title)\n",
        "\n",
        "\n"
      ],
      "metadata": {
        "colab": {
          "base_uri": "https://localhost:8080/"
        },
        "id": "Q3sbPxrjrdmP",
        "outputId": "41ee1f56-3564-431e-fc7e-6e4b837fe7b7"
      },
      "execution_count": 11,
      "outputs": [
        {
          "output_type": "stream",
          "name": "stdout",
          "text": [
            "Weekend\n"
          ]
        }
      ]
    },
    {
      "cell_type": "code",
      "source": [
        "singer = songs[0].select('td.info > a')[1].text\n",
        "new_singer = singer.strip()\n",
        "new_singer\n"
      ],
      "metadata": {
        "colab": {
          "base_uri": "https://localhost:8080/",
          "height": 37
        },
        "id": "pRI0lL7dteib",
        "outputId": "d19543d4-7667-4b60-ebe2-e0bcb9ea876f"
      },
      "execution_count": 12,
      "outputs": [
        {
          "output_type": "execute_result",
          "data": {
            "text/plain": [
              "'태연 (TAEYEON)'"
            ],
            "application/vnd.google.colaboratory.intrinsic+json": {
              "type": "string"
            }
          },
          "metadata": {},
          "execution_count": 12
        }
      ]
    },
    {
      "cell_type": "code",
      "source": [
        "song_data = []\n",
        "rank = 51\n",
        "\n",
        "songs = soup.select('tbody > tr')\n",
        "\n",
        "for song in songs:\n",
        "  title = song.select('td.info > a')[0].text\n",
        "  new_title = title.strip()\n",
        "\n",
        "  singer = song.select('td.info > a')[1].text\n",
        "  new_singer = singer.strip()\n",
        "\n",
        "  song_data.append(['genie',rank,new_title,new_singer])\n",
        "  rank += 1\n",
        "\n",
        "song_data\n"
      ],
      "metadata": {
        "colab": {
          "base_uri": "https://localhost:8080/"
        },
        "id": "jKI6nwcStiU4",
        "outputId": "512b6565-0d3d-44f7-9ab4-629a837c32ba"
      },
      "execution_count": 13,
      "outputs": [
        {
          "output_type": "execute_result",
          "data": {
            "text/plain": [
              "[['genie', 51, 'Weekend', '태연 (TAEYEON)'],\n",
              " ['genie', 52, 'SMILEY (Feat. BIBI)', 'YENA (최예나)'],\n",
              " ['genie', 53, \"That's Hilarious\", 'Charlie Puth'],\n",
              " ['genie', 54, 'Counting Stars (Feat. Beenzino)', \"BE'O (비오)\"],\n",
              " ['genie', 55, '라일락', '아이유 (IU)'],\n",
              " ['genie', 56, '흔들리는 꽃들 속에서 네 샴푸향이 느껴진거야', '장범준'],\n",
              " ['genie', 57, 'Dynamite', '방탄소년단'],\n",
              " ['genie', 58, 'RUN2U', 'STAYC (스테이씨)'],\n",
              " ['genie', 59, '바라만 본다', 'MSG워너비 (M.O.M)'],\n",
              " ['genie', 60, '문득', \"BE'O (비오)\"],\n",
              " ['genie', 61, 'Celebrity', '아이유 (IU)'],\n",
              " ['genie', 62, '내 손을 잡아', '아이유 (IU)'],\n",
              " ['genie', 63, '내가 아니라도', '주호'],\n",
              " ['genie', 64, '어제처럼', '폴킴'],\n",
              " ['genie', 65, 'Blueming', '아이유 (IU)'],\n",
              " ['genie', 66, 'LOVE', '몬스타엑스'],\n",
              " ['genie', 67, 'Step Back', 'GOT the beat'],\n",
              " ['genie', 68, '찰나가 영원이 될 때 (The Eternal Moment)', '마크툽 (Maktub)'],\n",
              " ['genie', 69, '나는 트로트가 싫어요', '임창정'],\n",
              " ['genie', 70, '드라마', '아이유 (IU)'],\n",
              " ['genie', 71, '서랍', '10CM'],\n",
              " ['genie', 72, 'Butter', '방탄소년단'],\n",
              " ['genie', 73, 'Tiny Riot', 'Sam Ryder'],\n",
              " ['genie', 74, '밤하늘의 별을 (2020)', '경서'],\n",
              " ['genie', 75, 'Loving You Girl (Feat. Hkeem)', 'Peder Elias'],\n",
              " ['genie', 76, '아무래도 난', '주시크 (Joosiq)'],\n",
              " ['genie', 77, 'My Universe', 'Coldplay & 방탄소년단'],\n",
              " ['genie', 78, '2002', 'Anne-Marie'],\n",
              " ['genie', 79, '밤이 깊었네 (Feat. 헤이즈)', '싸이 (Psy)'],\n",
              " ['genie', 80, '오늘도 빛나는 너에게 (To You My Light) (Feat.이라온)', '마크툽 (Maktub)'],\n",
              " ['genie', 81, 'Savage', 'aespa'],\n",
              " ['genie', 82, '사이렌 Remix (Feat. UNEDUCATED KID & Paul Blanco)', '호미들'],\n",
              " ['genie', 83, '모든 날, 모든 순간 (Every day, Every Moment)', '폴킴'],\n",
              " ['genie', 84, '고백', '멜로망스 (MeloMance)'],\n",
              " ['genie',\n",
              "  85,\n",
              "  '만남은 쉽고 이별은 어려워 (Feat. Leellamarz) (Prod. by TOIL)',\n",
              "  '베이식 (Basick)'],\n",
              " ['genie', 86, 'Permission to Dance', '방탄소년단'],\n",
              " ['genie', 87, '초대', '멜로망스 (MeloMance)'],\n",
              " ['genie', 88, 'Off My Face', 'Justin Bieber'],\n",
              " ['genie', 89, '눈이 오잖아 (Feat. 헤이즈)', '이무진'],\n",
              " ['genie', 90, '헤픈 우연', '헤이즈 (Heize)'],\n",
              " ['genie', 91, '만개 (Prod. 신지후)', '김호중'],\n",
              " ['genie', 92, \"롤린 (Rollin')\", '브레이브걸스 (Brave girls)'],\n",
              " ['genie', 93, '존재만으로', '원슈타인'],\n",
              " ['genie', 94, '나보다 더 사랑해요', '김호중'],\n",
              " ['genie', 95, 'Because Of You', 'Ne-Yo'],\n",
              " ['genie', 96, '오래된 노래', 'Standing Egg (스탠딩 에그)'],\n",
              " ['genie', 97, 'At My Worst', 'Pink Sweat$'],\n",
              " ['genie', 98, '낙하 (With 아이유)', 'AKMU (악뮤)'],\n",
              " ['genie', 99, '취기를 빌려 (취향저격 그녀 X 산들)', '산들'],\n",
              " ['genie', 100, 'Every Second', 'Mina Okabe']]"
            ]
          },
          "metadata": {},
          "execution_count": 13
        }
      ]
    },
    {
      "cell_type": "code",
      "source": [
        "df = pd.DataFrame(song_data,columns = ['차트명','순위','타이틀','가수'])\n",
        "df\n",
        "df.to_excel('genie51~100.xlsx',index=False)"
      ],
      "metadata": {
        "id": "Feur4sCjtpqp"
      },
      "execution_count": 14,
      "outputs": []
    }
  ]
}