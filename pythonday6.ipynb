{
  "nbformat": 4,
  "nbformat_minor": 0,
  "metadata": {
    "colab": {
      "name": "pythonday6.ipynb",
      "provenance": [],
      "authorship_tag": "ABX9TyPLuGUZhwXqdn1hkrTr5XDd",
      "include_colab_link": true
    },
    "kernelspec": {
      "name": "python3",
      "display_name": "Python 3"
    },
    "language_info": {
      "name": "python"
    }
  },
  "cells": [
    {
      "cell_type": "markdown",
      "metadata": {
        "id": "view-in-github",
        "colab_type": "text"
      },
      "source": [
        "<a href=\"https://colab.research.google.com/github/DanielBaek73/python202204/blob/main/pythonday6.ipynb\" target=\"_parent\"><img src=\"https://colab.research.google.com/assets/colab-badge.svg\" alt=\"Open In Colab\"/></a>"
      ]
    },
    {
      "cell_type": "code",
      "execution_count": null,
      "metadata": {
        "colab": {
          "base_uri": "https://localhost:8080/"
        },
        "id": "A17PUkFVZTtn",
        "outputId": "98ce8eb2-c0d6-4ae5-b970-9a859184fe16"
      },
      "outputs": [
        {
          "output_type": "stream",
          "name": "stdout",
          "text": [
            "우편번호 12345\n",
            "서울시 영등포구 여의도동\n"
          ]
        }
      ],
      "source": [
        "#p192 반환값\n",
        "\n",
        "def address():\n",
        "  str = '우편번호 12345\\n'\n",
        "  str += '서울시 영등포구 여의도동'\n",
        "  return str\n",
        "\n",
        "print(address())\n"
      ]
    },
    {
      "cell_type": "code",
      "source": [
        "#p193 - 여러개의 반환값도 처리(?)\n",
        "def calculator(*args):  #가변 매개변수\n",
        "  return (sum(args), sum(args)/len(args),max(args),min(args)) #1개의 튜플로 리턴... 리턴은 1개만 보냄\n",
        "\n",
        "a,b,c,d = calculator(1,2,3,4,5)\n",
        "print(a)\n",
        "print(b)\n",
        "print(c)\n",
        "print(d)\n",
        "# print(calculation())"
      ],
      "metadata": {
        "colab": {
          "base_uri": "https://localhost:8080/"
        },
        "id": "ZKNjU01pfFsh",
        "outputId": "b242dda3-540d-488a-c53e-a97a840b1e31"
      },
      "execution_count": 9,
      "outputs": [
        {
          "output_type": "stream",
          "name": "stdout",
          "text": [
            "15\n",
            "3.0\n",
            "5\n",
            "1\n"
          ]
        }
      ]
    },
    {
      "cell_type": "code",
      "source": [
        "#p194\n",
        "\n",
        "def charge(energy):\n",
        "  if energy <0:\n",
        "    print('0보다 작은 에너지는 충전할수 없습니다')\n",
        "    return #함수를 종료시키는 역활도 있음. 가지고 나갈것이 었을떄는 그냥 종료시킴\n",
        "  print('에너지가 충전되었습니다.')\n",
        "\n",
        "charge(-1)"
      ],
      "metadata": {
        "colab": {
          "base_uri": "https://localhost:8080/"
        },
        "id": "G6maaHFigdhu",
        "outputId": "a68d4ab1-5a0a-44c6-8d77-62554aa1c09b"
      },
      "execution_count": 6,
      "outputs": [
        {
          "output_type": "stream",
          "name": "stdout",
          "text": [
            "0보다 작은 에너지는 충전할수 없습니다\n"
          ]
        }
      ]
    },
    {
      "cell_type": "code",
      "source": [
        "#p197 지역변수(local variable******), 전역변수(global variable)\n",
        "\n",
        "def f():\n",
        "  a = 10\n",
        "  print(f'f() 내부 : {a}')\n",
        "\n",
        "f() #함수호출\n",
        "\n",
        "print(a) #함수외부에서 호출\n",
        "# 함수 안에서 선언한 변수(지역변수)는 함수 안에서만 의미가 있다.\n",
        "\n"
      ],
      "metadata": {
        "colab": {
          "base_uri": "https://localhost:8080/",
          "height": 245
        },
        "id": "K7aW1mL6hPGd",
        "outputId": "50ca15be-4dba-4f81-cd40-54ab557d02a4"
      },
      "execution_count": 8,
      "outputs": [
        {
          "output_type": "stream",
          "name": "stdout",
          "text": [
            "f() 내부 : 10\n"
          ]
        },
        {
          "output_type": "error",
          "ename": "NameError",
          "evalue": "ignored",
          "traceback": [
            "\u001b[0;31m---------------------------------------------------------------------------\u001b[0m",
            "\u001b[0;31mNameError\u001b[0m                                 Traceback (most recent call last)",
            "\u001b[0;32m<ipython-input-8-9df1af8554de>\u001b[0m in \u001b[0;36m<module>\u001b[0;34m()\u001b[0m\n\u001b[1;32m      7\u001b[0m \u001b[0mf\u001b[0m\u001b[0;34m(\u001b[0m\u001b[0;34m)\u001b[0m \u001b[0;31m#함수호출\u001b[0m\u001b[0;34m\u001b[0m\u001b[0;34m\u001b[0m\u001b[0m\n\u001b[1;32m      8\u001b[0m \u001b[0;34m\u001b[0m\u001b[0m\n\u001b[0;32m----> 9\u001b[0;31m \u001b[0mprint\u001b[0m\u001b[0;34m(\u001b[0m\u001b[0ma\u001b[0m\u001b[0;34m)\u001b[0m\u001b[0;34m\u001b[0m\u001b[0;34m\u001b[0m\u001b[0m\n\u001b[0m\u001b[1;32m     10\u001b[0m \u001b[0;34m\u001b[0m\u001b[0m\n",
            "\u001b[0;31mNameError\u001b[0m: name 'a' is not defined"
          ]
        }
      ]
    },
    {
      "cell_type": "code",
      "source": [
        "# 전역변수\n",
        "b = 10 #전역변수(global variable)\n",
        "def f():\n",
        "  print(f'f()내부 :{b}')\n",
        "\n",
        "f() #지역변수\n",
        "print(b) #전역변수\n"
      ],
      "metadata": {
        "colab": {
          "base_uri": "https://localhost:8080/"
        },
        "id": "iNcFrD8bi4IF",
        "outputId": "570149af-c505-423f-e1f9-f40d83cd6785"
      },
      "execution_count": 10,
      "outputs": [
        {
          "output_type": "stream",
          "name": "stdout",
          "text": [
            "f()내부 :10\n",
            "10\n"
          ]
        }
      ]
    },
    {
      "cell_type": "code",
      "source": [
        "#199 - 1\n",
        "def vending_machine(money):\n",
        "  price = 700\n",
        "  cups = money // price\n",
        "\n",
        "  for drink in range(cups + 1):\n",
        "    coin = money - (drink * price)\n",
        "    print(f'음료수={drink},잔돈={coin}')\n",
        "\n",
        "  if money <= 600:\n",
        "    print(f'{money}원으로는 음료수를 뽑을수 없습니다.')\n",
        "    return\n",
        " \n",
        "vending_machine(3000)\n"
      ],
      "metadata": {
        "colab": {
          "base_uri": "https://localhost:8080/"
        },
        "id": "gEeTWGXYj8zd",
        "outputId": "0538c78c-96ce-4fc4-a354-3b423c17186d"
      },
      "execution_count": 18,
      "outputs": [
        {
          "output_type": "stream",
          "name": "stdout",
          "text": [
            "음료수=0,잔돈=3000\n",
            "음료수=1,잔돈=2300\n",
            "음료수=2,잔돈=1600\n",
            "음료수=3,잔돈=900\n",
            "음료수=4,잔돈=200\n"
          ]
        }
      ]
    },
    {
      "cell_type": "code",
      "source": [
        "#199-2\n",
        "def get_average(marks):\n",
        "  sum = 0\n",
        "  for mark in marks:\n",
        "    sum += marks[mark]\n",
        "  avg = sum / len(marks)\n",
        "\n",
        "  return avg\n",
        "\n",
        "  #   print(scores)\n",
        "  #   print(marks[scores])\n",
        "  # # sum = sum(marks.values())\n",
        "  # # length = len(marks.keys())\n",
        "  # # aver = sum / length\n",
        "\n",
        "  # # print(sum)\n",
        "  # # print(length)\n",
        "  # # print(aver)\n",
        "\n",
        "  # # print(f'{aver}/{sum}/{length}')\n",
        "\n",
        "\n",
        "\n",
        "\n",
        "\n",
        "\n",
        "marks = {'국어':90,'영어':80,'수학':85}\n",
        "\n",
        "average = get_average(marks)\n",
        "print(f'평균은 {average}점입니다.')\n"
      ],
      "metadata": {
        "colab": {
          "base_uri": "https://localhost:8080/"
        },
        "id": "QsEfEL3zoZvl",
        "outputId": "70e6e5e7-7f37-4f79-ab0b-7ec6ad3e9c27"
      },
      "execution_count": 36,
      "outputs": [
        {
          "output_type": "stream",
          "name": "stdout",
          "text": [
            "평균은 85.0점입니다.\n"
          ]
        }
      ]
    },
    {
      "cell_type": "code",
      "source": [
        "marks = {'국어':90,'영어':80,'수학':85}\n",
        "\n",
        "for scores in marks:\n",
        "  print(scores)\n",
        "  print(marks[scores])\n",
        "  # len(marks(score))"
      ],
      "metadata": {
        "colab": {
          "base_uri": "https://localhost:8080/",
          "height": 245
        },
        "id": "5RC_hF9tundh",
        "outputId": "fc9de606-006d-42f6-9501-93bde906a541"
      },
      "execution_count": 35,
      "outputs": [
        {
          "output_type": "stream",
          "name": "stdout",
          "text": [
            "국어\n",
            "90\n"
          ]
        },
        {
          "output_type": "error",
          "ename": "NameError",
          "evalue": "ignored",
          "traceback": [
            "\u001b[0;31m---------------------------------------------------------------------------\u001b[0m",
            "\u001b[0;31mNameError\u001b[0m                                 Traceback (most recent call last)",
            "\u001b[0;32m<ipython-input-35-90b53d9f5765>\u001b[0m in \u001b[0;36m<module>\u001b[0;34m()\u001b[0m\n\u001b[1;32m      4\u001b[0m   \u001b[0mprint\u001b[0m\u001b[0;34m(\u001b[0m\u001b[0mscores\u001b[0m\u001b[0;34m)\u001b[0m\u001b[0;34m\u001b[0m\u001b[0;34m\u001b[0m\u001b[0m\n\u001b[1;32m      5\u001b[0m   \u001b[0mprint\u001b[0m\u001b[0;34m(\u001b[0m\u001b[0mmarks\u001b[0m\u001b[0;34m[\u001b[0m\u001b[0mscores\u001b[0m\u001b[0;34m]\u001b[0m\u001b[0;34m)\u001b[0m\u001b[0;34m\u001b[0m\u001b[0;34m\u001b[0m\u001b[0m\n\u001b[0;32m----> 6\u001b[0;31m   \u001b[0mlen\u001b[0m\u001b[0;34m(\u001b[0m\u001b[0mmarks\u001b[0m\u001b[0;34m(\u001b[0m\u001b[0mscore\u001b[0m\u001b[0;34m)\u001b[0m\u001b[0;34m)\u001b[0m\u001b[0;34m\u001b[0m\u001b[0;34m\u001b[0m\u001b[0m\n\u001b[0m",
            "\u001b[0;31mNameError\u001b[0m: name 'score' is not defined"
          ]
        }
      ]
    },
    {
      "cell_type": "code",
      "source": [
        "#모듈과 import\n",
        "#module = .py 파일 /  모든 파이썬 파일은 모듈이다.\n"
      ],
      "metadata": {
        "id": "b9lE2TQawEF0"
      },
      "execution_count": null,
      "outputs": []
    },
    {
      "cell_type": "markdown",
      "source": [
        "# 새 섹션"
      ],
      "metadata": {
        "id": "0YhVWxUTwau9"
      }
    }
  ]
}