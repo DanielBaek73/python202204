{
  "nbformat": 4,
  "nbformat_minor": 0,
  "metadata": {
    "colab": {
      "name": "hw3백기원.ipynb",
      "provenance": [],
      "authorship_tag": "ABX9TyNNtpDzKwztQbAnymY+wcmx",
      "include_colab_link": true
    },
    "kernelspec": {
      "name": "python3",
      "display_name": "Python 3"
    },
    "language_info": {
      "name": "python"
    }
  },
  "cells": [
    {
      "cell_type": "markdown",
      "metadata": {
        "id": "view-in-github",
        "colab_type": "text"
      },
      "source": [
        "<a href=\"https://colab.research.google.com/github/DanielBaek73/python202204/blob/main/hw3%EB%B0%B1%EA%B8%B0%EC%9B%90.ipynb\" target=\"_parent\"><img src=\"https://colab.research.google.com/assets/colab-badge.svg\" alt=\"Open In Colab\"/></a>"
      ]
    },
    {
      "cell_type": "code",
      "execution_count": 22,
      "metadata": {
        "colab": {
          "base_uri": "https://localhost:8080/"
        },
        "id": "JAomQUP0c9iv",
        "outputId": "0e9f0c08-2111-4441-ca99-cb09f3678aa0"
      },
      "outputs": [
        {
          "output_type": "stream",
          "name": "stdout",
          "text": [
            "{'메로나': [300, 20], '비비빅': [400, 3], '죠스바': [250, 100]}\n",
            "dict_values([[300, 20], [400, 3], [250, 100]])\n",
            "[400, 3]\n"
          ]
        },
        {
          "output_type": "execute_result",
          "data": {
            "text/plain": [
              "400"
            ]
          },
          "metadata": {},
          "execution_count": 22
        }
      ],
      "source": [
        "#091\n",
        "\n",
        "inventory = {\n",
        "    '메로나':[300,20],\n",
        "    '비비빅':[400,3],\n",
        "    '죠스바':[250,100]\n",
        "}\n",
        "\n",
        "print(inventory)\n",
        "\n",
        "# print(inventory.values())\n",
        "# print(inventory['비비빅'])\n",
        "# bibi = inventory['비비빅']\n",
        "# bibi[0]\n",
        "\n",
        "\n"
      ]
    },
    {
      "cell_type": "code",
      "source": [
        "#092\n",
        "inventory = {\n",
        "    '메로나':[300,20],\n",
        "    '비비빅':[400,3],\n",
        "    '죠스바':[250,100]\n",
        "}\n",
        "\n",
        "print(f'{\"메로나: \"}{inventory[\"메로나\"][0]}원')\n",
        "print(f'{\"비비빅: \"}{inventory[\"비비빅\"][0]}원')\n",
        "print(f'{\"죠스바: \"}{inventory[\"죠스바\"][0]}원')\n"
      ],
      "metadata": {
        "colab": {
          "base_uri": "https://localhost:8080/"
        },
        "id": "Tlvu4-4ri3Yj",
        "outputId": "6650bcde-0504-4c10-d5a5-cb01df79f3ae"
      },
      "execution_count": 30,
      "outputs": [
        {
          "output_type": "stream",
          "name": "stdout",
          "text": [
            "메로나: 300원\n",
            "비비빅: 400원\n",
            "죠스바: 250원\n"
          ]
        }
      ]
    },
    {
      "cell_type": "code",
      "source": [
        "#093\n",
        "inventory = {\n",
        "    '메로나':[300,20],\n",
        "    '비비빅':[400,3],\n",
        "    '죠스바':[250,100]\n",
        "}\n",
        "\n",
        "print(f'{\"메로나: \"}{inventory[\"메로나\"][1]}개')\n",
        "print(f'{\"비비빅: \"}{inventory[\"비비빅\"][1]}개')\n",
        "print(f'{\"죠스바: \"}{inventory[\"죠스바\"][1]}개')\n"
      ],
      "metadata": {
        "colab": {
          "base_uri": "https://localhost:8080/"
        },
        "id": "sCgGPFeynM1-",
        "outputId": "1b2eb543-996c-41f1-e974-269f25ac2416"
      },
      "execution_count": 31,
      "outputs": [
        {
          "output_type": "stream",
          "name": "stdout",
          "text": [
            "메로나: 20개\n",
            "비비빅: 3개\n",
            "죠스바: 100개\n"
          ]
        }
      ]
    },
    {
      "cell_type": "code",
      "source": [
        "#094\n",
        "inventory = {\n",
        "    '메로나':[300,20],\n",
        "    '비비빅':[400,3],\n",
        "    '죠스바':[250,100]\n",
        "}\n",
        "\n",
        "inventory.setdefault('월드콘',[500,7])\n",
        "print(inventory)"
      ],
      "metadata": {
        "colab": {
          "base_uri": "https://localhost:8080/"
        },
        "id": "i6-674m3nfkV",
        "outputId": "6437c6cb-32f1-462f-b695-246f0dc90603"
      },
      "execution_count": 1,
      "outputs": [
        {
          "output_type": "stream",
          "name": "stdout",
          "text": [
            "{'메로나': [300, 20], '비비빅': [400, 3], '죠스바': [250, 100], '월드콘': [500, 7]}\n"
          ]
        }
      ]
    },
    {
      "cell_type": "code",
      "source": [
        "#095\n",
        "icecream = {\n",
        "    '탱크보이':1200,\n",
        "    '폴라포':1200,\n",
        "    '빵빠레':1800,\n",
        "    '월드콘':1500,\n",
        "    '메로나':1000\n",
        "}\n",
        "\n",
        "print(icecream.keys())\n"
      ],
      "metadata": {
        "colab": {
          "base_uri": "https://localhost:8080/"
        },
        "id": "FVNNhDbxYMmI",
        "outputId": "c41485c8-6976-48ca-e522-b749ecb7ade5"
      },
      "execution_count": 2,
      "outputs": [
        {
          "output_type": "stream",
          "name": "stdout",
          "text": [
            "dict_keys(['탱크보이', '폴라포', '빵빠레', '월드콘', '메로나'])\n"
          ]
        }
      ]
    },
    {
      "cell_type": "code",
      "source": [
        "#096\n",
        "icecream = {\n",
        "    '탱크보이':1200,\n",
        "    '폴라포':1200,\n",
        "    '빵빠레':1800,\n",
        "    '월드콘':1500,\n",
        "    '메로나':1000\n",
        "}\n",
        "\n",
        "print(icecream.values())\n",
        "# print(type(icecream.values()))\n",
        "# print(type(icecream['탱크보이']))"
      ],
      "metadata": {
        "colab": {
          "base_uri": "https://localhost:8080/"
        },
        "id": "Ey2uGUGLZJqs",
        "outputId": "5bc76753-6491-43d5-ca5b-301b391d2c74"
      },
      "execution_count": 5,
      "outputs": [
        {
          "output_type": "stream",
          "name": "stdout",
          "text": [
            "dict_values([1200, 1200, 1800, 1500, 1000])\n",
            "<class 'dict_values'>\n",
            "<class 'int'>\n"
          ]
        }
      ]
    },
    {
      "cell_type": "code",
      "source": [
        "#097\n",
        "icecream = {\n",
        "    '탱크보이':1200,\n",
        "    '폴라포':1200,\n",
        "    '빵빠레':1800,\n",
        "    '월드콘':1500,\n",
        "    '메로나':1000\n",
        "}\n",
        "\n",
        "print(f'합계는 {sum(icecream.values())}원입니다.')"
      ],
      "metadata": {
        "colab": {
          "base_uri": "https://localhost:8080/"
        },
        "id": "FQNi9zjzZX5F",
        "outputId": "3c173d6f-fb14-471d-d9bf-32ebdcb170e5"
      },
      "execution_count": 7,
      "outputs": [
        {
          "output_type": "stream",
          "name": "stdout",
          "text": [
            "합계는 6700원입니다.\n"
          ]
        }
      ]
    },
    {
      "cell_type": "code",
      "source": [
        "#098\n",
        "icecream = {\n",
        "    '탱크보이':1200,\n",
        "    '폴라포':1200,\n",
        "    '빵빠레':1800,\n",
        "    '월드콘':1500,\n",
        "    '메로나':1000\n",
        "}\n",
        "\n",
        "new_product = {\n",
        "    '팥빙수':2700,\n",
        "    '아맛나':1000\n",
        "}\n",
        "\n",
        "icecream.update(new_product)\n",
        "print(icecream)"
      ],
      "metadata": {
        "colab": {
          "base_uri": "https://localhost:8080/"
        },
        "id": "pk0-2KzNaKbs",
        "outputId": "09ecbcd7-e462-4244-c931-dd363ba8d435"
      },
      "execution_count": 9,
      "outputs": [
        {
          "output_type": "stream",
          "name": "stdout",
          "text": [
            "{'탱크보이': 1200, '폴라포': 1200, '빵빠레': 1800, '월드콘': 1500, '메로나': 1000, '팥빙수': 2700, '아맛나': 1000}\n"
          ]
        }
      ]
    },
    {
      "cell_type": "code",
      "source": [
        "#099\n",
        "keys = (\"apple\",\"pear\",\"peach\")\n",
        "vals = (300,250,400)\n",
        "\n",
        "# result = {keys[0]:vals[0],\n",
        "#           keys[1]:vals[1],\n",
        "#           keys[2]:vals[2]}\n",
        "# print(result)\n",
        "\n",
        "myzip = zip(keys,vals)\n",
        "result = dict(myzip)\n",
        "print(result)"
      ],
      "metadata": {
        "colab": {
          "base_uri": "https://localhost:8080/"
        },
        "id": "IgSz2aMIb2jo",
        "outputId": "f80a8a32-1b08-4bb3-f77c-9b4f0ce1de47"
      },
      "execution_count": 13,
      "outputs": [
        {
          "output_type": "stream",
          "name": "stdout",
          "text": [
            "{'apple': 300, 'pear': 250, 'peach': 400}\n"
          ]
        }
      ]
    },
    {
      "cell_type": "code",
      "source": [
        "#100\n",
        "date = ['09/05','09/06','09/07','09/08','09/09']\n",
        "close_price = [10500, 10300, 10100, 10800, 11000]\n",
        "\n",
        "myzip = zip(date,close_price)\n",
        "close_table = dict(myzip)\n",
        "print(close_table)"
      ],
      "metadata": {
        "colab": {
          "base_uri": "https://localhost:8080/"
        },
        "id": "CVuOm3kpdqQj",
        "outputId": "0a281295-61da-44e4-e420-bab586af00fc"
      },
      "execution_count": 14,
      "outputs": [
        {
          "output_type": "stream",
          "name": "stdout",
          "text": [
            "{'09/05': 10500, '09/06': 10300, '09/07': 10100, '09/08': 10800, '09/09': 11000}\n"
          ]
        }
      ]
    },
    {
      "cell_type": "code",
      "source": [
        "#151\n",
        "li = [3,-20,-3,44]\n",
        "\n",
        "i = 0\n",
        "for i in li:\n",
        "  if i > 0:\n",
        "    continue\n",
        "  print(i)"
      ],
      "metadata": {
        "colab": {
          "base_uri": "https://localhost:8080/"
        },
        "id": "JQJvC5oVeMpt",
        "outputId": "448b0186-54a5-4ceb-9dc3-9c98f80d7721"
      },
      "execution_count": 17,
      "outputs": [
        {
          "output_type": "stream",
          "name": "stdout",
          "text": [
            "-20\n",
            "-3\n"
          ]
        }
      ]
    },
    {
      "cell_type": "code",
      "source": [
        "#152\n",
        "li = [3,100,23,44]\n",
        "\n",
        "i = 0\n",
        "for i in li:\n",
        "  if i % 3 != 0:\n",
        "    continue\n",
        "  print(i)"
      ],
      "metadata": {
        "colab": {
          "base_uri": "https://localhost:8080/"
        },
        "id": "sBtb5eWffrqC",
        "outputId": "5548c7dd-29e0-48cb-fd0d-8b1c18dd907d"
      },
      "execution_count": 18,
      "outputs": [
        {
          "output_type": "stream",
          "name": "stdout",
          "text": [
            "3\n"
          ]
        }
      ]
    },
    {
      "cell_type": "code",
      "source": [
        "#153\n",
        "li = [13,21,12,14,30,18]\n",
        "\n",
        "i = 0\n",
        "for i in li:\n",
        "  if i % 3 != 0:\n",
        "    continue\n",
        "  if i > 20:\n",
        "    continue\n",
        "  print(i)"
      ],
      "metadata": {
        "colab": {
          "base_uri": "https://localhost:8080/"
        },
        "id": "j-qqNHAFgJMr",
        "outputId": "b42d580a-7cfb-4b0c-f067-4dab4ac01fe3"
      },
      "execution_count": 19,
      "outputs": [
        {
          "output_type": "stream",
          "name": "stdout",
          "text": [
            "12\n",
            "18\n"
          ]
        }
      ]
    },
    {
      "cell_type": "code",
      "source": [
        "#154\n",
        "\n",
        "li = [\"I\",\"study\",\"python\",\"language\",\"!\"]\n",
        "\n",
        "# len(li[0])\n",
        "# len(li[1])\n",
        "\n",
        "i = 0\n",
        "for i in li:\n",
        "  if len(i) < 3:\n",
        "    continue \n",
        "  print(i)"
      ],
      "metadata": {
        "colab": {
          "base_uri": "https://localhost:8080/"
        },
        "id": "tvvA2IJeguyy",
        "outputId": "2a512b27-ee3f-4e48-ff4a-774bce094d49"
      },
      "execution_count": 37,
      "outputs": [
        {
          "output_type": "stream",
          "name": "stdout",
          "text": [
            "study\n",
            "python\n",
            "language\n"
          ]
        }
      ]
    },
    {
      "cell_type": "code",
      "source": [
        "#155\n",
        "li = [\"A\",\"b\",\"c\",\"D\"]\n",
        "\n",
        "i = 0\n",
        "for i in li:\n",
        "  if i.isupper() == False:\n",
        "    continue\n",
        "  print(i)\n"
      ],
      "metadata": {
        "colab": {
          "base_uri": "https://localhost:8080/"
        },
        "id": "TcXveUfUkTcs",
        "outputId": "0ffdb1d4-64b1-44e6-bff3-e65af734b1c1"
      },
      "execution_count": 42,
      "outputs": [
        {
          "output_type": "stream",
          "name": "stdout",
          "text": [
            "A\n",
            "D\n"
          ]
        }
      ]
    },
    {
      "cell_type": "code",
      "source": [
        "#156\n",
        "li = [\"A\",\"b\",\"c\",\"D\"]\n",
        "\n",
        "i = 0\n",
        "for i in li:\n",
        "  if i.isupper() == True:\n",
        "    continue\n",
        "  print(i)"
      ],
      "metadata": {
        "colab": {
          "base_uri": "https://localhost:8080/"
        },
        "id": "rszQxs6IlUS5",
        "outputId": "58ce810a-2c7c-4086-f45b-016c306e08de"
      },
      "execution_count": 43,
      "outputs": [
        {
          "output_type": "stream",
          "name": "stdout",
          "text": [
            "b\n",
            "c\n"
          ]
        }
      ]
    },
    {
      "cell_type": "code",
      "source": [
        "#157\n",
        "li = ['dog','cat','parrot']\n",
        "# c_capitalize = [i.capitalize() for i in li]\n",
        "# print(c_capitalize)\n",
        "\n",
        "# li[0][0]\n",
        "\n",
        "\n",
        "for i in li:\n",
        "\n",
        "  j = i[0].upper()\n",
        "  print(f'{j}{i[1:]}')\n",
        "\n"
      ],
      "metadata": {
        "colab": {
          "base_uri": "https://localhost:8080/"
        },
        "id": "QRPbPYKdlfSU",
        "outputId": "1a823865-acec-4aad-ed66-6a61348dd61f"
      },
      "execution_count": 57,
      "outputs": [
        {
          "output_type": "stream",
          "name": "stdout",
          "text": [
            "Dog\n",
            "Cat\n",
            "Parrot\n"
          ]
        }
      ]
    },
    {
      "cell_type": "code",
      "source": [
        "#158\n",
        "li = ['hello.py','ex01.py','intro.hwp']\n",
        "\n",
        "i = 0\n",
        "for i in li:\n",
        "  print(i.split('.')[0])"
      ],
      "metadata": {
        "colab": {
          "base_uri": "https://localhost:8080/"
        },
        "id": "9Qu3bzCf1uDU",
        "outputId": "9627cdc4-8ba2-4eba-ecb5-98e10e0e93ba"
      },
      "execution_count": 65,
      "outputs": [
        {
          "output_type": "stream",
          "name": "stdout",
          "text": [
            "hello\n",
            "ex01\n",
            "intro\n"
          ]
        }
      ]
    },
    {
      "cell_type": "code",
      "source": [
        "#159\n",
        "li = ['intra.h','intra.c','define.h','run.py']\n",
        "\n",
        "i = 0\n",
        "for i in li:\n",
        "  if i.split('.')[1] != 'h':\n",
        "    continue\n",
        "  print(i)\n"
      ],
      "metadata": {
        "colab": {
          "base_uri": "https://localhost:8080/"
        },
        "id": "6ufKkQwO3hII",
        "outputId": "622ff1d8-e9d2-419c-9a7f-8386cd5e2b32"
      },
      "execution_count": 69,
      "outputs": [
        {
          "output_type": "stream",
          "name": "stdout",
          "text": [
            "intra.h\n",
            "define.h\n"
          ]
        }
      ]
    },
    {
      "cell_type": "code",
      "source": [
        "#160\n",
        "li = ['intra.h','intra.c','define.h','run.py']\n",
        "\n",
        "i = 0\n",
        "for i in li:\n",
        "  if i.split('.')[1] != 'h' and i.split('.')[1] != 'c':\n",
        "    continue\n",
        "  print(i)"
      ],
      "metadata": {
        "colab": {
          "base_uri": "https://localhost:8080/"
        },
        "id": "agp4241h4Rky",
        "outputId": "ad4e2aa8-6fc6-4eb8-807b-c2727bfcbf1a"
      },
      "execution_count": 72,
      "outputs": [
        {
          "output_type": "stream",
          "name": "stdout",
          "text": [
            "intra.h\n",
            "intra.c\n",
            "define.h\n"
          ]
        }
      ]
    }
  ]
}