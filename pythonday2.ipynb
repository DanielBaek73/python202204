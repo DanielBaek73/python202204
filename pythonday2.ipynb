{
  "nbformat": 4,
  "nbformat_minor": 0,
  "metadata": {
    "colab": {
      "name": "pythonday2.ipynb",
      "provenance": [],
      "collapsed_sections": [],
      "authorship_tag": "ABX9TyMl9lgtQ+NTcbuMzM9OtSuI",
      "include_colab_link": true
    },
    "kernelspec": {
      "name": "python3",
      "display_name": "Python 3"
    },
    "language_info": {
      "name": "python"
    }
  },
  "cells": [
    {
      "cell_type": "markdown",
      "metadata": {
        "id": "view-in-github",
        "colab_type": "text"
      },
      "source": [
        "<a href=\"https://colab.research.google.com/github/DanielBaek73/python202204/blob/main/pythonday2.ipynb\" target=\"_parent\"><img src=\"https://colab.research.google.com/assets/colab-badge.svg\" alt=\"Open In Colab\"/></a>"
      ]
    },
    {
      "cell_type": "code",
      "execution_count": null,
      "metadata": {
        "id": "67xaCtqjoweC"
      },
      "outputs": [],
      "source": [
        "# 39p 컬렉션\n",
        "\n",
        "# 모음 - 여러 값을 하나의 이름으로 묶어서 관리하는 자료형\n",
        "\n",
        "# 리스트(***)   [] 추가/수정/삭제 가능     mutable         인덱싱/슬라이싱 가능\n",
        "# 튜플          () 추가/수정/삭제 불가능   immutable       인덱싱/슬라이싱 가능\n",
        "# 딕셔너리      {} 추가/수정/삭제 가능     mutable         인덱싱/슬라이싱 불가능,순서가 없다\n",
        "# 셋            {} 추가/수정/삭제 가능     mutable         인덱싱/슬라이싱 불가능,순서가 없다\n",
        "\n"
      ]
    },
    {
      "cell_type": "code",
      "source": [
        "# 리스트 - 가장 많이 사용하는 자료형이다.자료형이 다른 데이터들도 함께 저장할수 있다.(문자,숫자 혼용)\n",
        "\n",
        "li1 = [1,2,3,4]\n",
        "print(li1)\n",
        "li2 = [2,3.14, 'hello']\n",
        "print(li2)"
      ],
      "metadata": {
        "id": "dj-dNbBJsE0v"
      },
      "execution_count": null,
      "outputs": []
    },
    {
      "cell_type": "code",
      "source": [
        "a = \"hello\"\n",
        "a[2]\n"
      ],
      "metadata": {
        "id": "Jyyonqg-tTDU"
      },
      "execution_count": null,
      "outputs": []
    },
    {
      "cell_type": "code",
      "source": [
        "li = [2,3.14, 'hello']\n",
        "li[0]\n",
        "li[-1]\n"
      ],
      "metadata": {
        "id": "CW667z20tqtn"
      },
      "execution_count": null,
      "outputs": []
    },
    {
      "cell_type": "code",
      "source": [
        "li[1]"
      ],
      "metadata": {
        "id": "5f__VF3et-bG"
      },
      "execution_count": null,
      "outputs": []
    },
    {
      "cell_type": "code",
      "source": [
        "# (start, stop, step)\n",
        "\n",
        "li = [2,3.14, 'hello']\n",
        "li[0:2]\n"
      ],
      "metadata": {
        "id": "Okw5fESmuNXV"
      },
      "execution_count": null,
      "outputs": []
    },
    {
      "cell_type": "code",
      "source": [
        "scores=[50,40,30]\n",
        "scores.append(80) #append는 끝에서 하나씩 \n",
        "print(scores) or scores\n",
        "\n",
        "scores.insert(0,100) #0번째에 100점 삽입\n",
        "scores\n"
      ],
      "metadata": {
        "id": "sj5N6sQZutbA"
      },
      "execution_count": null,
      "outputs": []
    },
    {
      "cell_type": "code",
      "source": [
        "scores.pop()  #끝에서부터 하나씩 날림(꺼냄)\n",
        "scores\n",
        "\n",
        "scores.pop(0) #첫번쨰 날림(삭제)\n",
        "scores\n",
        "\n",
        "\n"
      ],
      "metadata": {
        "id": "uKGpjPr2uYQq"
      },
      "execution_count": null,
      "outputs": []
    },
    {
      "cell_type": "code",
      "source": [
        "# 튜플 42p -한마디로 표현하면...수정할수 없는 리스트. (변경시 간접적으로 튜플->리스트->튜플 변경 또는 새로운 튜플 생성), 괄호 생략 가능\n",
        "\n",
        "tu1 = (1,2,3)\n",
        "print(tu1)\n",
        "\n",
        "tu2= 2,3,4  #소괄호 생략 가능\n",
        "print(tu2)\n",
        "print(type(tu2))\n",
        "\n",
        "tu3=2,3.14,'문자'\n",
        "print(tu3)\n",
        "print(type(tu3))\n",
        "\n",
        "\n"
      ],
      "metadata": {
        "id": "9_0mUi7CwgA7"
      },
      "execution_count": null,
      "outputs": []
    },
    {
      "cell_type": "code",
      "source": [
        "tu = (10,20,30,40,50)\n",
        "tu[1]  #대괄호는 인덱싱의 대괄호임\n",
        "tu[0:3]\n",
        "\n",
        "tu.append(90)\n"
      ],
      "metadata": {
        "id": "MSyZyKjp4ata"
      },
      "execution_count": null,
      "outputs": []
    },
    {
      "cell_type": "code",
      "source": [
        "# 셋의 용법 //중복데이타 제거 용도\n",
        "set = {1,2,3}\n",
        "print(type(set))\n",
        "print(set)\n",
        "\n",
        "set = {1,2,2,3,3,3}\n",
        "print(type(set))\n",
        "print(set)\n",
        "\n",
        "set[0] #인덱싱이 안됨\n",
        "\n"
      ],
      "metadata": {
        "id": "cyP6lYZi5DjK"
      },
      "execution_count": null,
      "outputs": []
    },
    {
      "cell_type": "code",
      "source": [
        "set.add(4)\n",
        "set\n",
        "\n",
        "set.remove(3)\n",
        "set\n"
      ],
      "metadata": {
        "id": "_Cjk3XSB5v9w"
      },
      "execution_count": null,
      "outputs": []
    },
    {
      "cell_type": "code",
      "source": [
        "#딕셔너리 : 키와 밸류 한쌍으로 구성된 자료형이다. //JOSN의 구조와 비슷\n",
        "\n",
        "dict = {'a':'apple','b':'banana'}\n",
        "print(dict)\n",
        "print(type(dict))"
      ],
      "metadata": {
        "id": "pRaf0Rkq6DyG"
      },
      "execution_count": null,
      "outputs": []
    },
    {
      "cell_type": "code",
      "source": [
        "dict['w']='watermelon'\n",
        "print(dict)\n",
        "print(type(dict))\n"
      ],
      "metadata": {
        "id": "vQzB_eGB7AM2"
      },
      "execution_count": null,
      "outputs": []
    },
    {
      "cell_type": "code",
      "source": [
        "dict.pop('a')\n",
        "print(dict)\n",
        "print(type(dict))"
      ],
      "metadata": {
        "id": "hTPyON1n7YJ8"
      },
      "execution_count": null,
      "outputs": []
    },
    {
      "cell_type": "code",
      "source": [
        "dict[0]\n"
      ],
      "metadata": {
        "id": "XIrXUJK47hzq"
      },
      "execution_count": null,
      "outputs": []
    },
    {
      "cell_type": "code",
      "source": [
        "me=[1,2,3]  #리스트\n",
        "id(me) #메모리번지 보기\n"
      ],
      "metadata": {
        "id": "aF-1-hCg8wSV"
      },
      "execution_count": null,
      "outputs": []
    },
    {
      "cell_type": "code",
      "source": [
        "me.append(4)    #뮤터블 -- 값이 있는 메모리주소를 가르킨다.\n",
        "print(id(me))\n",
        "print(me)\n",
        "\n"
      ],
      "metadata": {
        "id": "5GJXybqr87bf"
      },
      "execution_count": null,
      "outputs": []
    },
    {
      "cell_type": "code",
      "source": [
        "me=10 #정수\n",
        "id(me)"
      ],
      "metadata": {
        "id": "xObK19ck9O6S"
      },
      "execution_count": null,
      "outputs": []
    },
    {
      "cell_type": "code",
      "source": [
        "me =+ 1\n",
        "print(id(me))  #다른주소,,,,,, 이뮤터블\n"
      ],
      "metadata": {
        "id": "Jz_Hr7p49fFY"
      },
      "execution_count": null,
      "outputs": []
    },
    {
      "cell_type": "code",
      "source": [
        "me=[1,2,3]\n",
        "you=me\n",
        "print(id(me))\n",
        "print(id(you))"
      ],
      "metadata": {
        "id": "Yde3WKcR93re"
      },
      "execution_count": null,
      "outputs": []
    },
    {
      "cell_type": "code",
      "source": [
        "you.append(4)\n",
        "print(id(me))\n",
        "print(id(you))\n",
        "print(me)\n",
        "print(you)\n"
      ],
      "metadata": {
        "id": "FSaWjjBB-G9V"
      },
      "execution_count": null,
      "outputs": []
    },
    {
      "cell_type": "code",
      "source": [
        "no1='서울2가1234'\n",
        "no2='10가1234'\n",
        "no3='288가1234'\n",
        "print(no1[-4:])\n",
        "\n",
        "print(no1,'의 차량번호 4자리는 ',no1[-4:],'입니다')"
      ],
      "metadata": {
        "id": "LXGX4C7hABNX"
      },
      "execution_count": null,
      "outputs": []
    },
    {
      "cell_type": "code",
      "source": [
        "s='maple'\n",
        "print(s,'의 가운데 글자는 ',s[2],'입니다')"
      ],
      "metadata": {
        "id": "yTmLosWDBPoo"
      },
      "execution_count": null,
      "outputs": []
    },
    {
      "cell_type": "code",
      "source": [
        "li=[10,20,30,40,50,60,70,80,90,100]\n",
        "li1=li[2:7]\n",
        "print('3번째 요소부터 7번째 요소 =',li[2:7])\n",
        "print('3번째 요소부터 7번쨰 요소 중 2번째 요소=',li1[1])\n",
        "print('3번째 요소부터 7번쨰 요소 중 2번째 요소=',li[2:7][1])\n",
        "\n"
      ],
      "metadata": {
        "id": "Z5c_PzfpBtVp"
      },
      "execution_count": null,
      "outputs": []
    },
    {
      "cell_type": "code",
      "source": [
        "dict = {'금요일':'탕수육','토요일':'유산슬','일요일':'팔버채'}\n",
        "print(dict)\n",
        "print('금요일 :',dict['금요일'])\n"
      ],
      "metadata": {
        "id": "DeIq46qLDDr_"
      },
      "execution_count": null,
      "outputs": []
    }
  ]
}