{
  "nbformat": 4,
  "nbformat_minor": 0,
  "metadata": {
    "colab": {
      "name": "pythonday2.ipynb",
      "provenance": [],
      "collapsed_sections": [],
      "authorship_tag": "ABX9TyM+kDE/sNsU6ON0nvKFxRst",
      "include_colab_link": true
    },
    "kernelspec": {
      "name": "python3",
      "display_name": "Python 3"
    },
    "language_info": {
      "name": "python"
    }
  },
  "cells": [
    {
      "cell_type": "markdown",
      "metadata": {
        "id": "view-in-github",
        "colab_type": "text"
      },
      "source": [
        "<a href=\"https://colab.research.google.com/github/DanielBaek73/python202204/blob/main/pythonday2.ipynb\" target=\"_parent\"><img src=\"https://colab.research.google.com/assets/colab-badge.svg\" alt=\"Open In Colab\"/></a>"
      ]
    },
    {
      "cell_type": "code",
      "execution_count": null,
      "metadata": {
        "id": "67xaCtqjoweC"
      },
      "outputs": [],
      "source": [
        "# 39p 컬렉션\n",
        "\n",
        "# 모음 - 여러 값을 하나의 이름으로 묶어서 관리하는 자료형\n",
        "\n",
        "# 리스트(***)   [] 추가/수정/삭제 가능     mutable         인덱싱/슬라이싱 가능\n",
        "# 튜플          () 추가/수정/삭제 불가능   immutable       인덱싱/슬라이싱 가능\n",
        "# 딕셔너리      {} 추가/수정/삭제 가능     mutable         인덱싱/슬라이싱 불가능,순서가 없다\n",
        "# 셋            {} 추가/수정/삭제 가능     mutable         인덱싱/슬라이싱 불가능,순서가 없다\n",
        "\n"
      ]
    },
    {
      "cell_type": "code",
      "source": [
        "# 리스트 - 가장 많이 사용하는 자료형이다.자료형이 다른 데이터들도 함께 저장할수 있다.(문자,숫자 혼용)\n",
        "\n",
        "li1 = [1,2,3,4]\n",
        "print(li1)\n",
        "li2 = [2,3.14, 'hello']\n",
        "print(li2)"
      ],
      "metadata": {
        "id": "dj-dNbBJsE0v",
        "colab": {
          "base_uri": "https://localhost:8080/"
        },
        "outputId": "5206359b-ed87-4762-ff9a-9b7528bb1db7"
      },
      "execution_count": null,
      "outputs": [
        {
          "output_type": "stream",
          "name": "stdout",
          "text": [
            "[1, 2, 3, 4]\n",
            "[2, 3.14, 'hello']\n"
          ]
        }
      ]
    },
    {
      "cell_type": "code",
      "source": [
        "a = \"hello\"\n",
        "a[2]\n"
      ],
      "metadata": {
        "id": "Jyyonqg-tTDU",
        "colab": {
          "base_uri": "https://localhost:8080/",
          "height": 35
        },
        "outputId": "9c72a223-b676-41d2-9a4d-bfe5672c43ce"
      },
      "execution_count": null,
      "outputs": [
        {
          "output_type": "execute_result",
          "data": {
            "text/plain": [
              "'l'"
            ],
            "application/vnd.google.colaboratory.intrinsic+json": {
              "type": "string"
            }
          },
          "metadata": {},
          "execution_count": 2
        }
      ]
    },
    {
      "cell_type": "code",
      "source": [
        "li = [2,3.14, 'hello']\n",
        "li[0]\n",
        "li[-1]\n"
      ],
      "metadata": {
        "id": "CW667z20tqtn",
        "colab": {
          "base_uri": "https://localhost:8080/",
          "height": 35
        },
        "outputId": "4ab567c9-e357-45fa-b573-548fd8e01b53"
      },
      "execution_count": null,
      "outputs": [
        {
          "output_type": "execute_result",
          "data": {
            "text/plain": [
              "'hello'"
            ],
            "application/vnd.google.colaboratory.intrinsic+json": {
              "type": "string"
            }
          },
          "metadata": {},
          "execution_count": 3
        }
      ]
    },
    {
      "cell_type": "code",
      "source": [
        "li[1]"
      ],
      "metadata": {
        "id": "5f__VF3et-bG",
        "colab": {
          "base_uri": "https://localhost:8080/"
        },
        "outputId": "7f2b4644-b96f-40cd-8f4f-02d480ef3218"
      },
      "execution_count": null,
      "outputs": [
        {
          "output_type": "execute_result",
          "data": {
            "text/plain": [
              "3.14"
            ]
          },
          "metadata": {},
          "execution_count": 4
        }
      ]
    },
    {
      "cell_type": "code",
      "source": [
        "# (start, stop, step)\n",
        "\n",
        "li = [2,3.14, 'hello']\n",
        "li[0:2]\n"
      ],
      "metadata": {
        "id": "Okw5fESmuNXV",
        "colab": {
          "base_uri": "https://localhost:8080/"
        },
        "outputId": "41b765b5-a0ab-419c-fe21-f6041b60cf2d"
      },
      "execution_count": null,
      "outputs": [
        {
          "output_type": "execute_result",
          "data": {
            "text/plain": [
              "[2, 3.14]"
            ]
          },
          "metadata": {},
          "execution_count": 5
        }
      ]
    },
    {
      "cell_type": "code",
      "source": [
        "scores=[50,40,30]\n",
        "scores.append(80) #append는 끝에서 하나씩 \n",
        "print(scores) #or scores\n",
        "\n",
        "scores.insert(0,100) #0번째에 100점 삽입\n",
        "scores\n"
      ],
      "metadata": {
        "id": "sj5N6sQZutbA",
        "colab": {
          "base_uri": "https://localhost:8080/"
        },
        "outputId": "eff633c6-701e-4cef-9013-0addbab550f1"
      },
      "execution_count": null,
      "outputs": [
        {
          "output_type": "stream",
          "name": "stdout",
          "text": [
            "[50, 40, 30, 80]\n"
          ]
        },
        {
          "output_type": "execute_result",
          "data": {
            "text/plain": [
              "[100, 50, 40, 30, 80]"
            ]
          },
          "metadata": {},
          "execution_count": 6
        }
      ]
    },
    {
      "cell_type": "code",
      "source": [
        "scores.pop()  #끝에서부터 하나씩 날림(꺼냄)\n",
        "scores\n",
        "\n",
        "scores.pop(0) #첫번쨰 날림(삭제)\n",
        "scores\n",
        "\n",
        "\n"
      ],
      "metadata": {
        "id": "uKGpjPr2uYQq",
        "colab": {
          "base_uri": "https://localhost:8080/"
        },
        "outputId": "3519a8d1-8c9d-4074-aec2-f348905e8793"
      },
      "execution_count": null,
      "outputs": [
        {
          "output_type": "execute_result",
          "data": {
            "text/plain": [
              "[50, 40, 30]"
            ]
          },
          "metadata": {},
          "execution_count": 7
        }
      ]
    },
    {
      "cell_type": "code",
      "source": [
        "# 튜플 42p -한마디로 표현하면...수정할수 없는 리스트. (변경시 간접적으로 튜플->리스트->튜플 변경 또는 새로운 튜플 생성), 괄호 생략 가능\n",
        "\n",
        "tu1 = (1,2,3)\n",
        "print(tu1)\n",
        "\n",
        "tu2= 2,3,4  #소괄호 생략 가능\n",
        "print(tu2)\n",
        "print(type(tu2))\n",
        "\n",
        "tu3=2,3.14,'문자'\n",
        "print(tu3)\n",
        "print(type(tu3))\n",
        "\n",
        "\n"
      ],
      "metadata": {
        "id": "9_0mUi7CwgA7",
        "colab": {
          "base_uri": "https://localhost:8080/"
        },
        "outputId": "3606379e-445d-458a-c619-174ee827464d"
      },
      "execution_count": null,
      "outputs": [
        {
          "output_type": "stream",
          "name": "stdout",
          "text": [
            "(1, 2, 3)\n",
            "(2, 3, 4)\n",
            "<class 'tuple'>\n",
            "(2, 3.14, '문자')\n",
            "<class 'tuple'>\n"
          ]
        }
      ]
    },
    {
      "cell_type": "code",
      "source": [
        "tu = (10,20,30,40,50)\n",
        "tu[1]  #대괄호는 인덱싱의 대괄호임\n",
        "tu[0:3]\n",
        "\n",
        "#tu.append(90)  에러발생\n"
      ],
      "metadata": {
        "id": "MSyZyKjp4ata",
        "colab": {
          "base_uri": "https://localhost:8080/"
        },
        "outputId": "08d97fa5-8581-4e57-810b-a99fdeabf64f"
      },
      "execution_count": null,
      "outputs": [
        {
          "output_type": "execute_result",
          "data": {
            "text/plain": [
              "(10, 20, 30)"
            ]
          },
          "metadata": {},
          "execution_count": 10
        }
      ]
    },
    {
      "cell_type": "code",
      "source": [
        "# 셋의 용법 //중복데이타 제거 용도\n",
        "set = {1,2,3}\n",
        "print(type(set))\n",
        "print(set)\n",
        "\n",
        "set = {1,2,2,3,3,3}\n",
        "print(type(set))\n",
        "print(set)\n",
        "\n",
        "set[0] #인덱싱이 안됨\n",
        "\n"
      ],
      "metadata": {
        "id": "cyP6lYZi5DjK",
        "colab": {
          "base_uri": "https://localhost:8080/",
          "height": 299
        },
        "outputId": "f12efd2c-43a0-457a-a6ff-85c5bb87c79e"
      },
      "execution_count": null,
      "outputs": [
        {
          "output_type": "stream",
          "name": "stdout",
          "text": [
            "<class 'set'>\n",
            "{1, 2, 3}\n",
            "<class 'set'>\n",
            "{1, 2, 3}\n"
          ]
        },
        {
          "output_type": "error",
          "ename": "TypeError",
          "evalue": "ignored",
          "traceback": [
            "\u001b[0;31m---------------------------------------------------------------------------\u001b[0m",
            "\u001b[0;31mTypeError\u001b[0m                                 Traceback (most recent call last)",
            "\u001b[0;32m<ipython-input-11-1fcc23623ca4>\u001b[0m in \u001b[0;36m<module>\u001b[0;34m()\u001b[0m\n\u001b[1;32m      8\u001b[0m \u001b[0mprint\u001b[0m\u001b[0;34m(\u001b[0m\u001b[0mset\u001b[0m\u001b[0;34m)\u001b[0m\u001b[0;34m\u001b[0m\u001b[0;34m\u001b[0m\u001b[0m\n\u001b[1;32m      9\u001b[0m \u001b[0;34m\u001b[0m\u001b[0m\n\u001b[0;32m---> 10\u001b[0;31m \u001b[0mset\u001b[0m\u001b[0;34m[\u001b[0m\u001b[0;36m0\u001b[0m\u001b[0;34m]\u001b[0m \u001b[0;31m#인덱싱이 안됨\u001b[0m\u001b[0;34m\u001b[0m\u001b[0;34m\u001b[0m\u001b[0m\n\u001b[0m\u001b[1;32m     11\u001b[0m \u001b[0;34m\u001b[0m\u001b[0m\n",
            "\u001b[0;31mTypeError\u001b[0m: 'set' object is not subscriptable"
          ]
        }
      ]
    },
    {
      "cell_type": "code",
      "source": [
        "set.add(4)\n",
        "set\n",
        "\n",
        "set.remove(3)\n",
        "set\n"
      ],
      "metadata": {
        "id": "_Cjk3XSB5v9w",
        "colab": {
          "base_uri": "https://localhost:8080/"
        },
        "outputId": "bd0dcca7-a339-4795-b37f-37c64b4b173d"
      },
      "execution_count": null,
      "outputs": [
        {
          "output_type": "execute_result",
          "data": {
            "text/plain": [
              "{1, 2, 4}"
            ]
          },
          "metadata": {},
          "execution_count": 12
        }
      ]
    },
    {
      "cell_type": "code",
      "source": [
        "#딕셔너리 : 키와 밸류 한쌍으로 구성된 자료형이다. //JOSN의 구조와 비슷\n",
        "\n",
        "dict = {'a':'apple','b':'banana'}\n",
        "print(dict)\n",
        "print(type(dict))"
      ],
      "metadata": {
        "id": "pRaf0Rkq6DyG",
        "colab": {
          "base_uri": "https://localhost:8080/"
        },
        "outputId": "f0cab1f8-91fe-477f-f029-f7eaff30ee8b"
      },
      "execution_count": null,
      "outputs": [
        {
          "output_type": "stream",
          "name": "stdout",
          "text": [
            "{'a': 'apple', 'b': 'banana'}\n",
            "<class 'dict'>\n"
          ]
        }
      ]
    },
    {
      "cell_type": "code",
      "source": [
        "dict['w']='watermelon'\n",
        "print(dict)\n",
        "print(type(dict))\n"
      ],
      "metadata": {
        "id": "vQzB_eGB7AM2",
        "colab": {
          "base_uri": "https://localhost:8080/"
        },
        "outputId": "ae58b9ac-f1ff-4cf1-d4dd-8e185a73f0ae"
      },
      "execution_count": null,
      "outputs": [
        {
          "output_type": "stream",
          "name": "stdout",
          "text": [
            "{'a': 'apple', 'b': 'banana', 'w': 'watermelon'}\n",
            "<class 'dict'>\n"
          ]
        }
      ]
    },
    {
      "cell_type": "code",
      "source": [
        "dict.pop('a')\n",
        "print(dict)\n",
        "print(type(dict))"
      ],
      "metadata": {
        "id": "hTPyON1n7YJ8",
        "colab": {
          "base_uri": "https://localhost:8080/"
        },
        "outputId": "62c203fd-29e2-48e4-9e27-023ad771ba95"
      },
      "execution_count": null,
      "outputs": [
        {
          "output_type": "stream",
          "name": "stdout",
          "text": [
            "{'b': 'banana', 'w': 'watermelon'}\n",
            "<class 'dict'>\n"
          ]
        }
      ]
    },
    {
      "cell_type": "code",
      "source": [
        "dict[0]\n"
      ],
      "metadata": {
        "id": "XIrXUJK47hzq"
      },
      "execution_count": null,
      "outputs": []
    },
    {
      "cell_type": "code",
      "source": [
        "me=[1,2,3]  #리스트\n",
        "id(me) #메모리번지 보기\n"
      ],
      "metadata": {
        "id": "aF-1-hCg8wSV"
      },
      "execution_count": null,
      "outputs": []
    },
    {
      "cell_type": "code",
      "source": [
        "me.append(4)    #뮤터블 -- 값이 있는 메모리주소를 가르킨다.\n",
        "print(id(me))\n",
        "print(me)\n",
        "\n"
      ],
      "metadata": {
        "id": "5GJXybqr87bf"
      },
      "execution_count": null,
      "outputs": []
    },
    {
      "cell_type": "code",
      "source": [
        "me=10 #정수\n",
        "id(me)"
      ],
      "metadata": {
        "id": "xObK19ck9O6S"
      },
      "execution_count": null,
      "outputs": []
    },
    {
      "cell_type": "code",
      "source": [
        "me =+ 1\n",
        "print(id(me))  #다른주소,,,,,, 이뮤터블\n"
      ],
      "metadata": {
        "id": "Jz_Hr7p49fFY"
      },
      "execution_count": null,
      "outputs": []
    },
    {
      "cell_type": "code",
      "source": [
        "me=[1,2,3]\n",
        "you=me\n",
        "print(id(me))\n",
        "print(id(you))"
      ],
      "metadata": {
        "id": "Yde3WKcR93re"
      },
      "execution_count": null,
      "outputs": []
    },
    {
      "cell_type": "code",
      "source": [
        "you.append(4)\n",
        "print(id(me))\n",
        "print(id(you))\n",
        "print(me)\n",
        "print(you)\n"
      ],
      "metadata": {
        "id": "FSaWjjBB-G9V"
      },
      "execution_count": null,
      "outputs": []
    },
    {
      "cell_type": "code",
      "source": [
        "no1='서울2가1234'\n",
        "no2='10가1234'\n",
        "no3='288가1234'\n",
        "print(no1[-4:])\n",
        "\n",
        "print(no1,'의 차량번호 4자리는 ',no1[-4:],'입니다')"
      ],
      "metadata": {
        "id": "LXGX4C7hABNX"
      },
      "execution_count": null,
      "outputs": []
    },
    {
      "cell_type": "code",
      "source": [
        "s='maple'\n",
        "print(s,'의 가운데 글자는 ',s[2],'입니다')"
      ],
      "metadata": {
        "id": "yTmLosWDBPoo"
      },
      "execution_count": null,
      "outputs": []
    },
    {
      "cell_type": "code",
      "source": [
        "li=[10,20,30,40,50,60,70,80,90,100]\n",
        "#li1=li[2:7]\n",
        "print('3번째 요소부터 7번째 요소 =',li[2:7])\n",
        "#print('3번째 요소부터 7번쨰 요소 중 2번째 요소=',li1[1])\n",
        "print('3번째 요소부터 7번쨰 요소 중 2번째 요소=',li[2:7][1])\n",
        "\n"
      ],
      "metadata": {
        "id": "Z5c_PzfpBtVp"
      },
      "execution_count": null,
      "outputs": []
    },
    {
      "cell_type": "code",
      "source": [
        "dict = {'금요일':'탕수육','토요일':'유산슬','일요일':'팔버채'}\n",
        "print(dict)\n",
        "print('금요일 :',dict['금요일'])\n"
      ],
      "metadata": {
        "id": "DeIq46qLDDr_"
      },
      "execution_count": null,
      "outputs": []
    },
    {
      "cell_type": "code",
      "source": [
        "print('hello \\'World\\'')  # 파이썬은 ',\" 구분 않한다. 동일하게 취급한다\"\n",
        "print(\"hello \\\"World\\\"\")  #\n",
        "\n",
        "print('*\\n**\\n***')\n",
        "\n",
        "print('이름 \\t 연락처')\n",
        "print('제시카 \\t 011-1234-5678')\n",
        "\n"
      ],
      "metadata": {
        "id": "Hj9K-x3NGL0W"
      },
      "execution_count": null,
      "outputs": []
    },
    {
      "cell_type": "code",
      "source": [
        "# print 함수\n",
        "\n",
        "print('재미있는','파이썬')\n",
        "print('phyton','java','c',sep='.')\n",
        "print() #빈줄\n",
        "print('영화 타이타닉') #print는 프린트하고 줄바꿈\n",
        "print('평점',end=' ') #end는 줄바꿈 안함\n",
        "print('5점')"
      ],
      "metadata": {
        "id": "mRaSktgkIQUo"
      },
      "execution_count": null,
      "outputs": []
    },
    {
      "cell_type": "code",
      "source": [
        "# 인쇄하는 방법 4가지중 fstring을 사용하라.\n",
        "# print,%연산자,format(),f-strings\n",
        "#1.기본출력\n",
        "#2.%연산자출력\n",
        "#3.format()메서드\n",
        "#4.f-string(***)\n"
      ],
      "metadata": {
        "id": "o2egTF_dKMxI"
      },
      "execution_count": null,
      "outputs": []
    },
    {
      "cell_type": "code",
      "source": [
        "#2.%연산자출력 - 자리표시를 할수 있다.\n",
        "print('%d' % 10)\n",
        "print('%d 원입니다.' % 100) #앞에는 포맷, 뒤에서 값을 던져준다.\n",
        "\n",
        "\n",
        "print('원주율은 %f입니다.' % 3.14) #앞에는 포맷, 뒤에서 값을 던져준다.\n",
        "\n",
        "보통은 \n",
        "print('원주율은 %s입니다.' % 3.14) #string포맷으로 사용한다.\n",
        "\n",
        "print('%5d' % 1)\n",
        "print('%5d' % 12)\n",
        "print('%5d' % 111)\n",
        "\n",
        "\n",
        "print('%-5d' % 1)\n",
        "print('%-5d' % 12)\n",
        "print('%-5d' % 111)\n",
        "\n"
      ],
      "metadata": {
        "id": "fUqnH6eGK9PB"
      },
      "execution_count": null,
      "outputs": []
    },
    {
      "cell_type": "code",
      "source": [
        "#3.format()메서드 - 비추\n",
        "\n",
        "print('my name is {}' .format('james'))\n",
        "\n",
        "print('my name is {} i \\'m {} years old' .format('james',25))  #format 메서드 방법\n",
        "\n",
        "name='james'\n",
        "age=25\n",
        "print('my name is',name,'i m',age,'years old') #기본출력방법\n",
        "\n",
        "print('my name is %s, i am %s years old' % ('james',25)) #%연산자\n",
        "\n"
      ],
      "metadata": {
        "id": "qPPhUgX8Mr4G"
      },
      "execution_count": null,
      "outputs": []
    },
    {
      "cell_type": "code",
      "source": [
        "#4.f-string(***)\n",
        "\n",
        "name='james'\n",
        "age=25\n",
        "print('my name is',name,'i m',age,'years old') #기본방법\n",
        "\n",
        "name='james'\n",
        "age=25\n",
        "print(f'my name is {name} i am {age} years old') #f string 방법\n",
        "print(f'my name is {name} 내년에는  {age+1} 살이 됩니다') #f string 방법\n",
        "\n"
      ],
      "metadata": {
        "id": "eYBd4bnKO0WB"
      },
      "execution_count": null,
      "outputs": []
    },
    {
      "cell_type": "code",
      "source": [
        "숙제 p60\n"
      ],
      "metadata": {
        "id": "US1_YGTgP31y"
      },
      "execution_count": null,
      "outputs": []
    }
  ]
}