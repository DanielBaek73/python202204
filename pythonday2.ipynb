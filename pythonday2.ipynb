{
  "nbformat": 4,
  "nbformat_minor": 0,
  "metadata": {
    "colab": {
      "name": "pythonday2.ipynb",
      "provenance": [],
      "authorship_tag": "ABX9TyPLm26w39P3gXduBCAxTrKg",
      "include_colab_link": true
    },
    "kernelspec": {
      "name": "python3",
      "display_name": "Python 3"
    },
    "language_info": {
      "name": "python"
    }
  },
  "cells": [
    {
      "cell_type": "markdown",
      "metadata": {
        "id": "view-in-github",
        "colab_type": "text"
      },
      "source": [
        "<a href=\"https://colab.research.google.com/github/DanielBaek73/python202204/blob/main/pythonday2.ipynb\" target=\"_parent\"><img src=\"https://colab.research.google.com/assets/colab-badge.svg\" alt=\"Open In Colab\"/></a>"
      ]
    },
    {
      "cell_type": "code",
      "execution_count": null,
      "metadata": {
        "id": "67xaCtqjoweC"
      },
      "outputs": [],
      "source": [
        "# 39p 컬렉션\n",
        "\n",
        "# 모음 - 여러 값을 하나의 이름으로 묶어서 관리하는 자료형\n",
        "\n",
        "# 리스트(***)   [] 추가/수정/삭제 가능     mutable         인덱싱/슬라이싱 가능\n",
        "# 튜플          () 추가/수정/삭제 불가능   immutable       인덱싱/슬라이싱 가능\n",
        "# 딕셔너리      {} 추가/수정/삭제 가능     mutable         인덱싱/슬라이싱 불가능,순서가 없다\n",
        "# 셋            {} 추가/수정/삭제 가능     mutable         인덱싱/슬라이싱 불가능,순서가 없다\n",
        "\n"
      ]
    },
    {
      "cell_type": "code",
      "source": [
        "# 리스트 - 가장 많이 사용하는 자료형이다.자료형이 다른 데이터들도 함께 저장할수 있다.(문자,숫자 혼용)\n",
        "\n",
        "li1 = [1,2,3,4]\n",
        "print(li1)\n",
        "li2 = [2,3.14, 'hello']\n",
        "print(li2)"
      ],
      "metadata": {
        "id": "dj-dNbBJsE0v"
      },
      "execution_count": null,
      "outputs": []
    },
    {
      "cell_type": "code",
      "source": [
        "a = \"hello\"\n",
        "a[2]\n"
      ],
      "metadata": {
        "id": "Jyyonqg-tTDU"
      },
      "execution_count": null,
      "outputs": []
    },
    {
      "cell_type": "code",
      "source": [
        "li = [2,3.14, 'hello']\n",
        "li[0]\n",
        "li[-1]\n"
      ],
      "metadata": {
        "id": "CW667z20tqtn"
      },
      "execution_count": null,
      "outputs": []
    },
    {
      "cell_type": "code",
      "source": [
        "li[1]"
      ],
      "metadata": {
        "id": "5f__VF3et-bG"
      },
      "execution_count": null,
      "outputs": []
    },
    {
      "cell_type": "code",
      "source": [
        "# (start, stop, step)\n",
        "\n"
      ],
      "metadata": {
        "id": "Okw5fESmuNXV"
      },
      "execution_count": null,
      "outputs": []
    },
    {
      "cell_type": "code",
      "source": [
        ""
      ],
      "metadata": {
        "id": "uKGpjPr2uYQq"
      },
      "execution_count": null,
      "outputs": []
    }
  ]
}