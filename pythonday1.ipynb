{
  "nbformat": 4,
  "nbformat_minor": 0,
  "metadata": {
    "colab": {
      "name": "pythonday1.ipynb",
      "provenance": [],
      "authorship_tag": "ABX9TyO5eUWZfnjm6iUQ1vyEra5w",
      "include_colab_link": true
    },
    "kernelspec": {
      "name": "python3",
      "display_name": "Python 3"
    },
    "language_info": {
      "name": "python"
    }
  },
  "cells": [
    {
      "cell_type": "markdown",
      "metadata": {
        "id": "view-in-github",
        "colab_type": "text"
      },
      "source": [
        "<a href=\"https://colab.research.google.com/github/DanielBaek73/python202204/blob/main/pythonday1.ipynb\" target=\"_parent\"><img src=\"https://colab.research.google.com/assets/colab-badge.svg\" alt=\"Open In Colab\"/></a>"
      ]
    },
    {
      "cell_type": "code",
      "execution_count": 1,
      "metadata": {
        "colab": {
          "base_uri": "https://localhost:8080/"
        },
        "id": "vbuIxnmrc0Tp",
        "outputId": "a17e0209-3f02-4787-d7b0-20c30fcd378d"
      },
      "outputs": [
        {
          "output_type": "stream",
          "name": "stdout",
          "text": [
            "Hello WOrld\n"
          ]
        }
      ],
      "source": [
        "print('Hello WOrld')\n",
        "\n",
        "\n",
        "# 주석1\n",
        "# 주석2\n",
        "# 주석3\n",
        "\n",
        "'''\n",
        "주석1\n",
        "주석2\n",
        "주석3\n",
        "'''\n",
        "\n",
        "\"\"\"\n",
        "\"\"\"\n"
      ]
    },
    {
      "cell_type": "code",
      "source": [
        "# 코드 위에 주석달기\n",
        "print ('hello world') #코드 오른쪽에 주석달기\n"
      ],
      "metadata": {
        "colab": {
          "base_uri": "https://localhost:8080/"
        },
        "id": "U1PXzSGOo_2k",
        "outputId": "359e9206-27e4-4f14-b3b1-7ae7d0ecc124"
      },
      "execution_count": 3,
      "outputs": [
        {
          "output_type": "stream",
          "name": "stdout",
          "text": [
            "hello world\n"
          ]
        }
      ]
    },
    {
      "cell_type": "code",
      "source": [
        "#변수\n",
        "\n",
        "/\n",
        "\n",
        "#변수명 만드는 규칙\n",
        "#1.영문 한글 숫자 밑줄로 구성된다.(한글은 사용하지 말자)\n",
        "#2. 특수문자 사용할수 없다. @#$%^&* \n",
        "#3. 대문자와 소문자를 구분한다. a=1 A=2  //별개\n",
        "#4. 변수명의 첫글자에는 숫자가 올수 없다. a1=1(o), 1a=2(x)\n",
        "#5. 예약어, 키워드는 변수명으로 사용할수 없다. print(x)\n",
        "#* 가급적이면 소문자로만 만들자.\n",
        "#* 한글 변수명은 가능하지만 사용하지 말자\n",
        "#* 변수명에 의미를 담자. a=85 대신 mathscore=85\n",
        "\n",
        "a=1\n",
        "A=2\n",
        "print(a)\n",
        "print(A)"
      ],
      "metadata": {
        "colab": {
          "base_uri": "https://localhost:8080/"
        },
        "id": "rQ-jFEecr5JR",
        "outputId": "a73c58f7-a3b8-43d2-acde-1f4a32090c02"
      },
      "execution_count": 6,
      "outputs": [
        {
          "output_type": "stream",
          "name": "stdout",
          "text": [
            "100\n",
            "100\n",
            "1\n",
            "2\n"
          ]
        }
      ]
    },
    {
      "cell_type": "code",
      "source": [
        "name='alice'\n",
        "age=25\n",
        "address='''우편번호 12345\n",
        "서울시 영등포구 여의도동\n",
        "서울빌딩 501호'''\n",
        "boyfriend=None\n",
        "height=168.5\n",
        "\n",
        "print(name)\n",
        "print(age)\n",
        "print(address)\n",
        "print(boyfriend)\n",
        "print(height)"
      ],
      "metadata": {
        "colab": {
          "base_uri": "https://localhost:8080/"
        },
        "id": "9zBc76BXuxQv",
        "outputId": "17b179be-4c65-4ec7-c9b7-530d9ce29e25"
      },
      "execution_count": 8,
      "outputs": [
        {
          "output_type": "stream",
          "name": "stdout",
          "text": [
            "alice\n",
            "25\n",
            "우편번호 12345\n",
            "서울시 영등포구 여의도동\n",
            "서울빌딩 501호\n",
            "None\n",
            "168.5\n"
          ]
        }
      ]
    }
  ]
}