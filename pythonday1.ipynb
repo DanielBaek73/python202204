{
  "nbformat": 4,
  "nbformat_minor": 0,
  "metadata": {
    "colab": {
      "name": "pythonday1.ipynb",
      "provenance": [],
      "authorship_tag": "ABX9TyNmGPBQ1kVjhLVdiIiahyLO",
      "include_colab_link": true
    },
    "kernelspec": {
      "name": "python3",
      "display_name": "Python 3"
    },
    "language_info": {
      "name": "python"
    }
  },
  "cells": [
    {
      "cell_type": "markdown",
      "metadata": {
        "id": "view-in-github",
        "colab_type": "text"
      },
      "source": [
        "<a href=\"https://colab.research.google.com/github/DanielBaek73/python202204/blob/main/pythonday1.ipynb\" target=\"_parent\"><img src=\"https://colab.research.google.com/assets/colab-badge.svg\" alt=\"Open In Colab\"/></a>"
      ]
    },
    {
      "cell_type": "code",
      "execution_count": 1,
      "metadata": {
        "colab": {
          "base_uri": "https://localhost:8080/"
        },
        "id": "vbuIxnmrc0Tp",
        "outputId": "a17e0209-3f02-4787-d7b0-20c30fcd378d"
      },
      "outputs": [
        {
          "output_type": "stream",
          "name": "stdout",
          "text": [
            "Hello WOrld\n"
          ]
        }
      ],
      "source": [
        "print('Hello WOrld')\n",
        "\n",
        "\n",
        "# 주석1\n",
        "# 주석2\n",
        "# 주석3\n",
        "\n",
        "'''\n",
        "주석1\n",
        "주석2\n",
        "주석3\n",
        "'''\n",
        "\n",
        "\"\"\"\n",
        "\"\"\"\n"
      ]
    },
    {
      "cell_type": "code",
      "source": [
        "# 코드 위에 주석달기\n",
        "print ('hello world') #코드 오른쪽에 주석달기\n"
      ],
      "metadata": {
        "colab": {
          "base_uri": "https://localhost:8080/"
        },
        "id": "U1PXzSGOo_2k",
        "outputId": "359e9206-27e4-4f14-b3b1-7ae7d0ecc124"
      },
      "execution_count": 3,
      "outputs": [
        {
          "output_type": "stream",
          "name": "stdout",
          "text": [
            "hello world\n"
          ]
        }
      ]
    },
    {
      "cell_type": "code",
      "source": [
        "#변수\n",
        "\n",
        "/\n",
        "\n",
        "#변수명 만드는 규칙\n",
        "#1.영문 한글 숫자 밑줄로 구성된다.(한글은 사용하지 말자)\n",
        "#2. 특수문자 사용할수 없다. @#$%^&* \n",
        "#3. 대문자와 소문자를 구분한다. a=1 A=2  //별개\n",
        "#4. 변수명의 첫글자에는 숫자가 올수 없다. a1=1(o), 1a=2(x)\n",
        "#5. 예약어, 키워드는 변수명으로 사용할수 없다. print(x)\n",
        "#* 가급적이면 소문자로만 만들자.\n",
        "#* 한글 변수명은 가능하지만 사용하지 말자\n",
        "#* 변수명에 의미를 담자. a=85 대신 mathscore=85\n",
        "\n",
        "a=1\n",
        "A=2\n",
        "print(a)\n",
        "print(A)"
      ],
      "metadata": {
        "colab": {
          "base_uri": "https://localhost:8080/"
        },
        "id": "rQ-jFEecr5JR",
        "outputId": "a73c58f7-a3b8-43d2-acde-1f4a32090c02"
      },
      "execution_count": 6,
      "outputs": [
        {
          "output_type": "stream",
          "name": "stdout",
          "text": [
            "100\n",
            "100\n",
            "1\n",
            "2\n"
          ]
        }
      ]
    },
    {
      "cell_type": "code",
      "source": [
        "name='alice'\n",
        "age=25\n",
        "address='''우편번호 12345\n",
        "서울시 영등포구 여의도동\n",
        "서울빌딩 501호'''\n",
        "boyfriend=None\n",
        "height=168.5\n",
        "\n",
        "print(name)\n",
        "print(age)\n",
        "print(address)\n",
        "print(boyfriend)\n",
        "print(height)"
      ],
      "metadata": {
        "colab": {
          "base_uri": "https://localhost:8080/"
        },
        "id": "9zBc76BXuxQv",
        "outputId": "17b179be-4c65-4ec7-c9b7-530d9ce29e25"
      },
      "execution_count": 8,
      "outputs": [
        {
          "output_type": "stream",
          "name": "stdout",
          "text": [
            "alice\n",
            "25\n",
            "우편번호 12345\n",
            "서울시 영등포구 여의도동\n",
            "서울빌딩 501호\n",
            "None\n",
            "168.5\n"
          ]
        }
      ]
    },
    {
      "cell_type": "code",
      "source": [
        "#기본 자료형(타입)\n",
        "\n",
        "a=3\n",
        "print(a)\n",
        "\n",
        "a=3.14\n",
        "print(a)\n",
        "\n",
        "a='hello'\n",
        "print(a) \n",
        "\n",
        "int(1.9)"
      ],
      "metadata": {
        "colab": {
          "base_uri": "https://localhost:8080/"
        },
        "id": "FXbFIUDUzNq2",
        "outputId": "d4e5183c-ed86-4218-c552-00d5009f9998"
      },
      "execution_count": 12,
      "outputs": [
        {
          "output_type": "stream",
          "name": "stdout",
          "text": [
            "3\n",
            "3.14\n",
            "hello\n"
          ]
        },
        {
          "output_type": "execute_result",
          "data": {
            "text/plain": [
              "1"
            ]
          },
          "metadata": {},
          "execution_count": 12
        }
      ]
    },
    {
      "cell_type": "code",
      "source": [
        "int(True)\n",
        "int(False)"
      ],
      "metadata": {
        "colab": {
          "base_uri": "https://localhost:8080/"
        },
        "id": "koD8g5Vl0Opq",
        "outputId": "9433c267-ad73-4729-f576-ab17dc1bb99d"
      },
      "execution_count": 16,
      "outputs": [
        {
          "output_type": "execute_result",
          "data": {
            "text/plain": [
              "0"
            ]
          },
          "metadata": {},
          "execution_count": 16
        }
      ]
    },
    {
      "cell_type": "code",
      "source": [
        "float(1)"
      ],
      "metadata": {
        "colab": {
          "base_uri": "https://localhost:8080/"
        },
        "id": "J3-OGyly0hU1",
        "outputId": "8c9e560e-334c-4811-a370-b7d3cfa72e16"
      },
      "execution_count": 17,
      "outputs": [
        {
          "output_type": "execute_result",
          "data": {
            "text/plain": [
              "1.0"
            ]
          },
          "metadata": {},
          "execution_count": 17
        }
      ]
    },
    {
      "cell_type": "code",
      "source": [
        "float(True)"
      ],
      "metadata": {
        "colab": {
          "base_uri": "https://localhost:8080/"
        },
        "id": "g3gWIf4o0tA8",
        "outputId": "6a6dfd92-9a24-43fb-df45-f4c224d877bd"
      },
      "execution_count": 18,
      "outputs": [
        {
          "output_type": "execute_result",
          "data": {
            "text/plain": [
              "1.0"
            ]
          },
          "metadata": {},
          "execution_count": 18
        }
      ]
    },
    {
      "cell_type": "code",
      "source": [
        "float(False)"
      ],
      "metadata": {
        "colab": {
          "base_uri": "https://localhost:8080/"
        },
        "id": "xXUhtTWC0xZZ",
        "outputId": "2403e825-aa11-4636-f15f-a6a920a177e7"
      },
      "execution_count": 19,
      "outputs": [
        {
          "output_type": "execute_result",
          "data": {
            "text/plain": [
              "0.0"
            ]
          },
          "metadata": {},
          "execution_count": 19
        }
      ]
    },
    {
      "cell_type": "code",
      "source": [
        "#논리\n",
        "bool(10)\n",
        "bool(1)\n"
      ],
      "metadata": {
        "colab": {
          "base_uri": "https://localhost:8080/"
        },
        "id": "mi4rbVKp1DH1",
        "outputId": "4a87fec8-cedb-4554-e283-02b69cd12888"
      },
      "execution_count": 20,
      "outputs": [
        {
          "output_type": "execute_result",
          "data": {
            "text/plain": [
              "True"
            ]
          },
          "metadata": {},
          "execution_count": 20
        }
      ]
    },
    {
      "cell_type": "code",
      "source": [
        "bool(0)"
      ],
      "metadata": {
        "colab": {
          "base_uri": "https://localhost:8080/"
        },
        "id": "S7HnIC9S1Fra",
        "outputId": "bf5be35e-107a-476b-e06d-9aaaacc8977c"
      },
      "execution_count": 21,
      "outputs": [
        {
          "output_type": "execute_result",
          "data": {
            "text/plain": [
              "False"
            ]
          },
          "metadata": {},
          "execution_count": 21
        }
      ]
    },
    {
      "cell_type": "code",
      "source": [
        "\n",
        "#문자열 str\n",
        "str(100)"
      ],
      "metadata": {
        "colab": {
          "base_uri": "https://localhost:8080/",
          "height": 35
        },
        "id": "8pEJCF8Y1Un6",
        "outputId": "a17577b1-9622-4369-fa6a-7e4825aba4d7"
      },
      "execution_count": 22,
      "outputs": [
        {
          "output_type": "execute_result",
          "data": {
            "text/plain": [
              "'100'"
            ],
            "application/vnd.google.colaboratory.intrinsic+json": {
              "type": "string"
            }
          },
          "metadata": {},
          "execution_count": 22
        }
      ]
    },
    {
      "cell_type": "code",
      "source": [
        "str(True)"
      ],
      "metadata": {
        "colab": {
          "base_uri": "https://localhost:8080/",
          "height": 35
        },
        "id": "udWMsnUC1W-d",
        "outputId": "53422e66-16f5-472c-a137-b7413006ed3c"
      },
      "execution_count": 23,
      "outputs": [
        {
          "output_type": "execute_result",
          "data": {
            "text/plain": [
              "'True'"
            ],
            "application/vnd.google.colaboratory.intrinsic+json": {
              "type": "string"
            }
          },
          "metadata": {},
          "execution_count": 23
        }
      ]
    },
    {
      "cell_type": "code",
      "source": [
        "str(3.14)"
      ],
      "metadata": {
        "colab": {
          "base_uri": "https://localhost:8080/",
          "height": 35
        },
        "id": "aDPUmxnt1cVs",
        "outputId": "f987aa08-0ffa-4bd1-ab64-71f5cae9402e"
      },
      "execution_count": 24,
      "outputs": [
        {
          "output_type": "execute_result",
          "data": {
            "text/plain": [
              "'3.14'"
            ],
            "application/vnd.google.colaboratory.intrinsic+json": {
              "type": "string"
            }
          },
          "metadata": {},
          "execution_count": 24
        }
      ]
    },
    {
      "cell_type": "code",
      "source": [
        "#indexing\n",
        "s = 'Hello'\n",
        "s[0]\n"
      ],
      "metadata": {
        "colab": {
          "base_uri": "https://localhost:8080/",
          "height": 35
        },
        "id": "YpCXCuCx2cut",
        "outputId": "eab36d60-8353-456c-f38c-c4d3d24eb1a4"
      },
      "execution_count": 26,
      "outputs": [
        {
          "output_type": "execute_result",
          "data": {
            "text/plain": [
              "'l'"
            ],
            "application/vnd.google.colaboratory.intrinsic+json": {
              "type": "string"
            }
          },
          "metadata": {},
          "execution_count": 26
        }
      ]
    },
    {
      "cell_type": "code",
      "source": [
        "int('100')"
      ],
      "metadata": {
        "colab": {
          "base_uri": "https://localhost:8080/"
        },
        "id": "2T0QJaB50FPT",
        "outputId": "45f6b4dc-57bf-49f9-c777-1e7617afa82b"
      },
      "execution_count": 13,
      "outputs": [
        {
          "output_type": "execute_result",
          "data": {
            "text/plain": [
              "100"
            ]
          },
          "metadata": {},
          "execution_count": 13
        }
      ]
    },
    {
      "cell_type": "code",
      "source": [
        "s[3]\n",
        "#H e l l o\n",
        "#0 1 2 3 4 index\n",
        "#-5 -4 -3 -2 -1"
      ],
      "metadata": {
        "colab": {
          "base_uri": "https://localhost:8080/",
          "height": 35
        },
        "id": "oG5gsIm12tl_",
        "outputId": "01e6a813-0dc4-42f6-d483-2c5c02cd387d"
      },
      "execution_count": 27,
      "outputs": [
        {
          "output_type": "execute_result",
          "data": {
            "text/plain": [
              "'l'"
            ],
            "application/vnd.google.colaboratory.intrinsic+json": {
              "type": "string"
            }
          },
          "metadata": {},
          "execution_count": 27
        }
      ]
    },
    {
      "cell_type": "code",
      "source": [
        "#슬라이싱 (몇번쨰부터 몇번쨰 여러글자)\n",
        "s = 'Hello'\n",
        "#s[0:2]\n",
        "#s[0:]\n",
        "s[:-1]"
      ],
      "metadata": {
        "colab": {
          "base_uri": "https://localhost:8080/",
          "height": 35
        },
        "id": "okTkI9Rp3kd5",
        "outputId": "bfe1769e-f6e4-4136-b40c-7d495a9f5ae8"
      },
      "execution_count": 31,
      "outputs": [
        {
          "output_type": "execute_result",
          "data": {
            "text/plain": [
              "'Hell'"
            ],
            "application/vnd.google.colaboratory.intrinsic+json": {
              "type": "string"
            }
          },
          "metadata": {},
          "execution_count": 31
        }
      ]
    },
    {
      "cell_type": "code",
      "source": [
        "s[-5]"
      ],
      "metadata": {
        "colab": {
          "base_uri": "https://localhost:8080/",
          "height": 35
        },
        "id": "idW1cg463GP3",
        "outputId": "f0360eeb-cead-4222-973f-ae1ba561e06d"
      },
      "execution_count": 28,
      "outputs": [
        {
          "output_type": "execute_result",
          "data": {
            "text/plain": [
              "'H'"
            ],
            "application/vnd.google.colaboratory.intrinsic+json": {
              "type": "string"
            }
          },
          "metadata": {},
          "execution_count": 28
        }
      ]
    }
  ]
}